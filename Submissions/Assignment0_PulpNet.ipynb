{
  "nbformat": 4,
  "nbformat_minor": 0,
  "metadata": {
    "colab": {
      "provenance": []
    },
    "kernelspec": {
      "name": "python3",
      "display_name": "Python 3"
    },
    "language_info": {
      "name": "python"
    }
  },
  "cells": [
    {
      "cell_type": "markdown",
      "source": [
        "# Assignment 0\n",
        "**Instrunctions for the assignment** \\\\\n",
        "\n",
        "*   Open Google Colab: Begin by launching Google Colab and creating a new Python notebook.\n",
        "*   Read Comments Carefully: Pay close attention to the comments provided within the codeblocks.\n",
        "\n",
        "\n",
        "*   Code Block Completion: Fill in the codeblocks as per the instructions given in the comments.\n",
        "*   Avoid Copying: Ensure that you understand the concepts and refrain from directly copying code from external sources.\n",
        "\n",
        "\n",
        "*   Execute Codeblocks: Verify that each codeblock runs without errors by executing them.\n",
        "*   Save and Submit: Once you've completed the assignment, save your notebook and follow the submission guidelines provided by your instructor.\n",
        "\n",
        "\n",
        "\n",
        "\n",
        "\n",
        "\n",
        "\n",
        "\n",
        "\n",
        "\n",
        "**Notes:**\n",
        "\n",
        "Encouragement: Take your time to understand the concepts behind each codeblock. This assignment aims to strengthen your Python programming skills. \\\\\n",
        "Good Luck! : If you have any questions or require clarification on any aspect of the instructions, feel free to ask. \\\\\n",
        " \\\\\n",
        "\n",
        "Best wishes for your assignment! These instructions are crafted to provide clarity and guidance as you work through the tasks in Google Colab.\n",
        "\n",
        "\n",
        "\n",
        "\n",
        "\n",
        "\n",
        "\n"
      ],
      "metadata": {
        "id": "U2p472EZsFQh"
      }
    },
    {
      "cell_type": "markdown",
      "source": [
        "## Getting Started\n",
        "Solving these exercises will help make you a better programmer. Solve them in order, because each solution builds scaffolding, working code, and knowledge you can use on future problems. Read the directions carefully, and have fun!\n",
        "\n",
        "\n",
        "\n",
        "*   To save your work to your Google Drive, go to File then \"Save Copy in Drive\".\n",
        "*   Your own work will now appear in your Google Drive account!\n",
        "*   Work on this copy as directed"
      ],
      "metadata": {
        "id": "jGDFomGq3i87"
      }
    },
    {
      "cell_type": "markdown",
      "source": [
        "## What to do when you don't know what to do next\n",
        "- When the exercise asks you to reverse an list, the way forward is to search for \"How to reverse a list in Python\" in your favorite search engine.\n",
        "- When the exercise asks you to check if a number is even, the way forward is to search for \"how to check if a number is even in Python\".\n",
        "- When the exercise has you calculate the area of a circle, the way forward is to search for \"how to calculate the area of a circle in Python\" or \"How to get pi in Python\".\n",
        "\n",
        "😀😀"
      ],
      "metadata": {
        "id": "jZ1hWiMO4TTN"
      }
    },
    {
      "cell_type": "markdown",
      "source": [
        "## Basic Python Exercises"
      ],
      "metadata": {
        "id": "LKjbv4-Mmp3_"
      }
    },
    {
      "cell_type": "markdown",
      "source": [
        "1. Create a new list from two list \\\\\n",
        "list1 = [10, 20, 25, 30, 35] \\\\\n",
        "list2 = [40, 45, 60, 75, 90]"
      ],
      "metadata": {
        "id": "POUIXeAkoAJy"
      }
    },
    {
      "cell_type": "code",
      "source": [
        "list1 = [10, 20, 25, 30, 35]\n",
        "list2 = [40, 45, 60, 75, 90]\n",
        "list3 = list1+list2\n",
        "print(list3)"
      ],
      "metadata": {
        "id": "083WsOfvmz3k",
        "colab": {
          "base_uri": "https://localhost:8080/"
        },
        "outputId": "975440d2-7b6e-43d7-ea5e-a1420c5a2808"
      },
      "execution_count": 41,
      "outputs": [
        {
          "output_type": "stream",
          "name": "stdout",
          "text": [
            "[10, 20, 25, 30, 35, 40, 45, 60, 75, 90]\n"
          ]
        }
      ]
    },
    {
      "cell_type": "markdown",
      "source": [
        "2. Print multiplication table from 1 to 10"
      ],
      "metadata": {
        "id": "mBuOTb3vo7SY"
      }
    },
    {
      "cell_type": "code",
      "source": [
        "for i in range(1, 11):\n",
        "    print(f\"{i}  -->\", end=\" \")\n",
        "    for j in range(1, 11):\n",
        "        print(f\"{i * j}\", end=\" \")\n",
        "    print()"
      ],
      "metadata": {
        "id": "ALdwhW6uqRTB",
        "colab": {
          "base_uri": "https://localhost:8080/"
        },
        "outputId": "737ba005-23bc-44c0-d8b5-2b7e77c85ba0"
      },
      "execution_count": 42,
      "outputs": [
        {
          "output_type": "stream",
          "name": "stdout",
          "text": [
            "1  --> 1 2 3 4 5 6 7 8 9 10 \n",
            "2  --> 2 4 6 8 10 12 14 16 18 20 \n",
            "3  --> 3 6 9 12 15 18 21 24 27 30 \n",
            "4  --> 4 8 12 16 20 24 28 32 36 40 \n",
            "5  --> 5 10 15 20 25 30 35 40 45 50 \n",
            "6  --> 6 12 18 24 30 36 42 48 54 60 \n",
            "7  --> 7 14 21 28 35 42 49 56 63 70 \n",
            "8  --> 8 16 24 32 40 48 56 64 72 80 \n",
            "9  --> 9 18 27 36 45 54 63 72 81 90 \n",
            "10  --> 10 20 30 40 50 60 70 80 90 100 \n"
          ]
        }
      ]
    },
    {
      "cell_type": "markdown",
      "source": [
        "3. Print a downward Half-Pyramid Pattern\n",
        "\n",
        "0 0 0 0 0   \n",
        "0 0 0 0 <br>\n",
        "0 0 0 <br>\n",
        "0 0 <br>\n",
        "0"
      ],
      "metadata": {
        "id": "rXhutUXXqR5x"
      }
    },
    {
      "cell_type": "code",
      "source": [
        "for i in range(6):\n",
        " print(\"0 \"*(5-i))\n",
        " print()\n"
      ],
      "metadata": {
        "id": "U9j7N1nrtw--",
        "colab": {
          "base_uri": "https://localhost:8080/"
        },
        "outputId": "55f8597e-a173-403c-bbe7-36069737dc3b"
      },
      "execution_count": 43,
      "outputs": [
        {
          "output_type": "stream",
          "name": "stdout",
          "text": [
            "0 0 0 0 0 \n",
            "\n",
            "0 0 0 0 \n",
            "\n",
            "0 0 0 \n",
            "\n",
            "0 0 \n",
            "\n",
            "0 \n",
            "\n",
            "\n",
            "\n"
          ]
        }
      ]
    },
    {
      "cell_type": "markdown",
      "source": [
        " 4. Given the following assignment of the vegetables list, add \"tomato\" to the end of the list and sort them in alphabetical order.\\\n",
        "vegetables = [\"eggplant\", \"broccoli\", \"carrot\",\"cauliflower\", \"zucchini\"]"
      ],
      "metadata": {
        "id": "Re-QzSX4ugH-"
      }
    },
    {
      "cell_type": "code",
      "source": [
        "vegetables = [\"eggplant\", \"broccoli\", \"carrot\",\"cauliflower\", \"zucchini\"]\n",
        "vegetables.append(\"tomato\")\n",
        "vegetables.sort()\n",
        "print(vegetables)"
      ],
      "metadata": {
        "id": "hnA-2EIDuxEH",
        "colab": {
          "base_uri": "https://localhost:8080/"
        },
        "outputId": "86675873-adb7-4a4a-9c7f-12bda8d9d81e"
      },
      "execution_count": 44,
      "outputs": [
        {
          "output_type": "stream",
          "name": "stdout",
          "text": [
            "['broccoli', 'carrot', 'cauliflower', 'eggplant', 'tomato', 'zucchini']\n"
          ]
        }
      ]
    },
    {
      "cell_type": "markdown",
      "source": [
        "5. Write a function definition named is_odd that takes in a number and returns True or False if that number is odd."
      ],
      "metadata": {
        "id": "ARyaOlp8uxix"
      }
    },
    {
      "cell_type": "code",
      "source": [
        "def my_func(x):\n",
        " if x%2==0:\n",
        "   return False\n",
        " else:\n",
        "   return True\n",
        "x = int(input())\n",
        "my_func(x)"
      ],
      "metadata": {
        "id": "OztCSuVjvACz",
        "colab": {
          "base_uri": "https://localhost:8080/"
        },
        "outputId": "11faaf4a-fbf1-442b-b006-deb01e097bc8"
      },
      "execution_count": 45,
      "outputs": [
        {
          "name": "stdout",
          "output_type": "stream",
          "text": [
            "6\n"
          ]
        },
        {
          "output_type": "execute_result",
          "data": {
            "text/plain": [
              "False"
            ]
          },
          "metadata": {},
          "execution_count": 45
        }
      ]
    },
    {
      "cell_type": "markdown",
      "source": [
        "6. Write a function definition named mode that takes in sequence of numbers and returns the most commonly occuring value"
      ],
      "metadata": {
        "id": "GIAo6YfLu_AJ"
      }
    },
    {
      "cell_type": "code",
      "source": [
        "def mode(sequence):\n",
        "    counts = {}\n",
        "    for item in sequence:\n",
        "        if item in counts:\n",
        "            counts[item] += 1\n",
        "        else:\n",
        "            counts[item] = 1\n",
        "            max_count = 0\n",
        "    max_item = None\n",
        "    for item, count in counts.items():\n",
        "        if count > max_count:\n",
        "            max_count = count\n",
        "            max_item = item\n",
        "    return max_item\n",
        "sequence = [1,3,5,7,2,8,3,8,3,8,6,1,5,3,9,3,96,4,2,8,6]\n",
        "mode(sequence)"
      ],
      "metadata": {
        "id": "WEikC1aTvXoS",
        "colab": {
          "base_uri": "https://localhost:8080/"
        },
        "outputId": "83dba3e9-15ad-42c8-c432-904b8373f385"
      },
      "execution_count": 46,
      "outputs": [
        {
          "output_type": "execute_result",
          "data": {
            "text/plain": [
              "3"
            ]
          },
          "metadata": {},
          "execution_count": 46
        }
      ]
    },
    {
      "cell_type": "markdown",
      "source": [
        "## Numpy Exercises"
      ],
      "metadata": {
        "id": "AKuHwB0lvZn-"
      }
    },
    {
      "cell_type": "markdown",
      "source": [
        "Exercise 1: Create a 4X2 integer array and Prints its attributes \\\\\n",
        "**Note:** The element must be a type of unsigned int16. \\\\\n",
        "And print the following Attributes: –\n",
        "\n",
        "\n",
        "\n",
        "1.   The shape of an array.\n",
        "2.   Array dimensions.\n",
        "3.   The Length of each element of the array in bytes.\n",
        "\n",
        "\n",
        "\n",
        "\n",
        "\n"
      ],
      "metadata": {
        "id": "8f2ww678vf5S"
      }
    },
    {
      "cell_type": "code",
      "source": [
        "import numpy as np\n",
        "x = np.arange(1,9,dtype=np.uint16).reshape(4,2)\n",
        "print(x)\n",
        "print(\"Shape of the array:\", x.shape)\n",
        "print(\"Array dimensions:\", x.ndim)\n",
        "print(\"Length of each element of array in bytes:\", x.itemsize)"
      ],
      "metadata": {
        "id": "2YMq_rbcwTeb",
        "colab": {
          "base_uri": "https://localhost:8080/"
        },
        "outputId": "4b3e4866-2df6-443f-cfc5-d887a09bcc24"
      },
      "execution_count": 47,
      "outputs": [
        {
          "output_type": "stream",
          "name": "stdout",
          "text": [
            "[[1 2]\n",
            " [3 4]\n",
            " [5 6]\n",
            " [7 8]]\n",
            "Shape of the array: (4, 2)\n",
            "Array dimensions: 2\n",
            "Length of each element of array in bytes: 2\n"
          ]
        }
      ]
    },
    {
      "cell_type": "markdown",
      "source": [
        "Exercise 2: Following is the provided numPy array. Return array of items by taking the third column from all rows \\\\\n",
        "sampleArray = numpy.array ( [ [ 11 ,22, 33 ], [ 44, 55, 66 ], [ 77, 88, 99 ] ] )"
      ],
      "metadata": {
        "id": "jLVSC8epw0Wz"
      }
    },
    {
      "cell_type": "code",
      "source": [
        "import numpy as np\n",
        "sampleArray = np.array ( [ [ 11 ,22, 33 ], [ 44, 55, 66 ], [ 77, 88, 99 ] ] )\n",
        "print(sampleArray[:,2])"
      ],
      "metadata": {
        "id": "UVRODBc1wyjl",
        "colab": {
          "base_uri": "https://localhost:8080/"
        },
        "outputId": "ce24e8a0-6ecc-4efd-df8f-98658a977fb5"
      },
      "execution_count": 48,
      "outputs": [
        {
          "output_type": "stream",
          "name": "stdout",
          "text": [
            "[33 66 99]\n"
          ]
        }
      ]
    },
    {
      "cell_type": "markdown",
      "source": [
        "Exercise 3: Sort following NumPy array \\\\\n",
        "Case 1: Sort array by the second row \\\\\n",
        "Case 2: Sort the array by the second column"
      ],
      "metadata": {
        "id": "T72G3kpRxESl"
      }
    },
    {
      "cell_type": "code",
      "source": [
        "import numpy as np\n",
        "sampleArray = np.array ( [ [ 11 ,22, 33 ], [ 44, 55, 66 ], [ 77, 88, 99 ] ] )\n",
        "print(\"Case 1:\")\n",
        "print(sampleArray[sampleArray[1,:].argsort()])\n",
        "print(\"Case 2:\")\n",
        "print(sampleArray[sampleArray[:,1].argsort()])\n"
      ],
      "metadata": {
        "id": "kdPN_yoaxULi",
        "colab": {
          "base_uri": "https://localhost:8080/"
        },
        "outputId": "648a397e-c531-4281-fb87-8cfb1683424b"
      },
      "execution_count": 49,
      "outputs": [
        {
          "output_type": "stream",
          "name": "stdout",
          "text": [
            "Case 1:\n",
            "[[11 22 33]\n",
            " [44 55 66]\n",
            " [77 88 99]]\n",
            "Case 2:\n",
            "[[11 22 33]\n",
            " [44 55 66]\n",
            " [77 88 99]]\n"
          ]
        }
      ]
    },
    {
      "cell_type": "markdown",
      "source": [
        "## Pandas Exercises\n",
        "In this exercise, we are using Automobile Dataset for data analysis. This Dataset has different characteristics of an auto such as body-style, wheel-base, engine-type, price, mileage, horsepower, etc. \\\\\n",
        "https://pynative.com/wp-content/uploads/2019/01/Automobile_data.csv"
      ],
      "metadata": {
        "id": "RUiLxEnkxXKF"
      }
    },
    {
      "cell_type": "markdown",
      "source": [
        "Exercise 1: From the given dataset print the first and last five rows."
      ],
      "metadata": {
        "id": "Bgvaffg70VqZ"
      }
    },
    {
      "cell_type": "code",
      "source": [
        "import pandas as pd\n",
        "df = pd.read_csv(\"/content/Automobile_data.csv\")\n",
        "print(\"First five rows:\")\n",
        "print(df.head(5))\n",
        "print(\"Last five rows:\")\n",
        "print(df.tail(5))"
      ],
      "metadata": {
        "id": "RT2zrs5y2ZUB",
        "colab": {
          "base_uri": "https://localhost:8080/"
        },
        "outputId": "7e77a33f-3781-49d8-c255-94b69f50c95f"
      },
      "execution_count": 50,
      "outputs": [
        {
          "output_type": "stream",
          "name": "stdout",
          "text": [
            "First five rows:\n",
            "   index      company   body-style  wheel-base  length engine-type  \\\n",
            "0      0  alfa-romero  convertible        88.6   168.8        dohc   \n",
            "1      1  alfa-romero  convertible        88.6   168.8        dohc   \n",
            "2      2  alfa-romero    hatchback        94.5   171.2        ohcv   \n",
            "3      3         audi        sedan        99.8   176.6         ohc   \n",
            "4      4         audi        sedan        99.4   176.6         ohc   \n",
            "\n",
            "  num-of-cylinders  horsepower  average-mileage    price  \n",
            "0             four         111               21  13495.0  \n",
            "1             four         111               21  16500.0  \n",
            "2              six         154               19  16500.0  \n",
            "3             four         102               24  13950.0  \n",
            "4             five         115               18  17450.0  \n",
            "Last five rows:\n",
            "    index     company body-style  wheel-base  length engine-type  \\\n",
            "56     81  volkswagen      sedan        97.3   171.7         ohc   \n",
            "57     82  volkswagen      sedan        97.3   171.7         ohc   \n",
            "58     86  volkswagen      sedan        97.3   171.7         ohc   \n",
            "59     87       volvo      sedan       104.3   188.8         ohc   \n",
            "60     88       volvo      wagon       104.3   188.8         ohc   \n",
            "\n",
            "   num-of-cylinders  horsepower  average-mileage    price  \n",
            "56             four          85               27   7975.0  \n",
            "57             four          52               37   7995.0  \n",
            "58             four         100               26   9995.0  \n",
            "59             four         114               23  12940.0  \n",
            "60             four         114               23  13415.0  \n"
          ]
        }
      ]
    },
    {
      "cell_type": "markdown",
      "source": [
        "Exercise 2: Replace all column values which contain ?, n.a, or NaN with suitable values and print the updated dataset.:"
      ],
      "metadata": {
        "id": "FB-hfiNh2Z42"
      }
    },
    {
      "cell_type": "code",
      "source": [
        "import pandas as pd\n",
        "df = pd.read_csv(\"/content/Automobile_data.csv\")\n",
        "x = df['price'].mean()\n",
        "df['price'].fillna(x, inplace=True)\n",
        "print(df.to_string())"
      ],
      "metadata": {
        "id": "n8u7K1cU2x4l",
        "colab": {
          "base_uri": "https://localhost:8080/"
        },
        "outputId": "76e7f7ce-9dde-455a-f62e-9923c705109d"
      },
      "execution_count": 51,
      "outputs": [
        {
          "output_type": "stream",
          "name": "stdout",
          "text": [
            "    index        company   body-style  wheel-base  length engine-type num-of-cylinders  horsepower  average-mileage    price\n",
            "0       0    alfa-romero  convertible        88.6   168.8        dohc             four         111               21  13495.0\n",
            "1       1    alfa-romero  convertible        88.6   168.8        dohc             four         111               21  16500.0\n",
            "2       2    alfa-romero    hatchback        94.5   171.2        ohcv              six         154               19  16500.0\n",
            "3       3           audi        sedan        99.8   176.6         ohc             four         102               24  13950.0\n",
            "4       4           audi        sedan        99.4   176.6         ohc             five         115               18  17450.0\n",
            "5       5           audi        sedan        99.8   177.3         ohc             five         110               19  15250.0\n",
            "6       6           audi        wagon       105.8   192.7         ohc             five         110               19  18920.0\n",
            "7       9            bmw        sedan       101.2   176.8         ohc             four         101               23  16430.0\n",
            "8      10            bmw        sedan       101.2   176.8         ohc             four         101               23  16925.0\n",
            "9      11            bmw        sedan       101.2   176.8         ohc              six         121               21  20970.0\n",
            "10     13            bmw        sedan       103.5   189.0         ohc              six         182               16  30760.0\n",
            "11     14            bmw        sedan       103.5   193.8         ohc              six         182               16  41315.0\n",
            "12     15            bmw        sedan       110.0   197.0         ohc              six         182               15  36880.0\n",
            "13     16      chevrolet    hatchback        88.4   141.1           l            three          48               47   5151.0\n",
            "14     17      chevrolet    hatchback        94.5   155.9         ohc             four          70               38   6295.0\n",
            "15     18      chevrolet        sedan        94.5   158.8         ohc             four          70               38   6575.0\n",
            "16     19          dodge    hatchback        93.7   157.3         ohc             four          68               31   6377.0\n",
            "17     20          dodge    hatchback        93.7   157.3         ohc             four          68               31   6229.0\n",
            "18     27          honda        wagon        96.5   157.1         ohc             four          76               30   7295.0\n",
            "19     28          honda        sedan        96.5   175.4         ohc             four         101               24  12945.0\n",
            "20     29          honda        sedan        96.5   169.1         ohc             four         100               25  10345.0\n",
            "21     30          isuzu        sedan        94.3   170.7         ohc             four          78               24   6785.0\n",
            "22     31          isuzu        sedan        94.5   155.9         ohc             four          70               38  15387.0\n",
            "23     32          isuzu        sedan        94.5   155.9         ohc             four          70               38  15387.0\n",
            "24     33         jaguar        sedan       113.0   199.6        dohc              six         176               15  32250.0\n",
            "25     34         jaguar        sedan       113.0   199.6        dohc              six         176               15  35550.0\n",
            "26     35         jaguar        sedan       102.0   191.7        ohcv           twelve         262               13  36000.0\n",
            "27     36          mazda    hatchback        93.1   159.1         ohc             four          68               30   5195.0\n",
            "28     37          mazda    hatchback        93.1   159.1         ohc             four          68               31   6095.0\n",
            "29     38          mazda    hatchback        93.1   159.1         ohc             four          68               31   6795.0\n",
            "30     39          mazda    hatchback        95.3   169.0       rotor              two         101               17  11845.0\n",
            "31     43          mazda        sedan       104.9   175.0         ohc             four          72               31  18344.0\n",
            "32     44  mercedes-benz        sedan       110.0   190.9         ohc             five         123               22  25552.0\n",
            "33     45  mercedes-benz        wagon       110.0   190.9         ohc             five         123               22  28248.0\n",
            "34     46  mercedes-benz        sedan       120.9   208.1        ohcv            eight         184               14  40960.0\n",
            "35     47  mercedes-benz      hardtop       112.0   199.2        ohcv            eight         184               14  45400.0\n",
            "36     49     mitsubishi    hatchback        93.7   157.3         ohc             four          68               37   5389.0\n",
            "37     50     mitsubishi    hatchback        93.7   157.3         ohc             four          68               31   6189.0\n",
            "38     51     mitsubishi        sedan        96.3   172.4         ohc             four          88               25   6989.0\n",
            "39     52     mitsubishi        sedan        96.3   172.4         ohc             four          88               25   8189.0\n",
            "40     53         nissan        sedan        94.5   165.3         ohc             four          55               45   7099.0\n",
            "41     54         nissan        sedan        94.5   165.3         ohc             four          69               31   6649.0\n",
            "42     55         nissan        sedan        94.5   165.3         ohc             four          69               31   6849.0\n",
            "43     56         nissan        wagon        94.5   170.2         ohc             four          69               31   7349.0\n",
            "44     57         nissan        sedan       100.4   184.6        ohcv              six         152               19  13499.0\n",
            "45     61        porsche      hardtop        89.5   168.9        ohcf              six         207               17  34028.0\n",
            "46     62        porsche  convertible        89.5   168.9        ohcf              six         207               17  37028.0\n",
            "47     63        porsche    hatchback        98.4   175.7       dohcv            eight         288               17  15387.0\n",
            "48     66         toyota    hatchback        95.7   158.7         ohc             four          62               35   5348.0\n",
            "49     67         toyota    hatchback        95.7   158.7         ohc             four          62               31   6338.0\n",
            "50     68         toyota    hatchback        95.7   158.7         ohc             four          62               31   6488.0\n",
            "51     69         toyota        wagon        95.7   169.7         ohc             four          62               31   6918.0\n",
            "52     70         toyota        wagon        95.7   169.7         ohc             four          62               27   7898.0\n",
            "53     71         toyota        wagon        95.7   169.7         ohc             four          62               27   8778.0\n",
            "54     79         toyota        wagon       104.5   187.8        dohc              six         156               19  15750.0\n",
            "55     80     volkswagen        sedan        97.3   171.7         ohc             four          52               37   7775.0\n",
            "56     81     volkswagen        sedan        97.3   171.7         ohc             four          85               27   7975.0\n",
            "57     82     volkswagen        sedan        97.3   171.7         ohc             four          52               37   7995.0\n",
            "58     86     volkswagen        sedan        97.3   171.7         ohc             four         100               26   9995.0\n",
            "59     87          volvo        sedan       104.3   188.8         ohc             four         114               23  12940.0\n",
            "60     88          volvo        wagon       104.3   188.8         ohc             four         114               23  13415.0\n"
          ]
        },
        {
          "output_type": "stream",
          "name": "stderr",
          "text": [
            "<ipython-input-51-5f920ec40647>:4: FutureWarning: A value is trying to be set on a copy of a DataFrame or Series through chained assignment using an inplace method.\n",
            "The behavior will change in pandas 3.0. This inplace method will never work because the intermediate object on which we are setting values always behaves as a copy.\n",
            "\n",
            "For example, when doing 'df[col].method(value, inplace=True)', try using 'df.method({col: value}, inplace=True)' or df[col] = df[col].method(value) instead, to perform the operation inplace on the original object.\n",
            "\n",
            "\n",
            "  df['price'].fillna(x, inplace=True)\n"
          ]
        }
      ]
    },
    {
      "cell_type": "markdown",
      "source": [
        "Exercise 5: Count total cars per company and print them\n",
        "\n",
        "\n"
      ],
      "metadata": {
        "id": "67ErI6He2wz6"
      }
    },
    {
      "cell_type": "code",
      "source": [
        "import pandas as pd\n",
        "df = pd.read_csv(\"/content/Automobile_data.csv\")\n",
        "print(df['company'].value_counts())"
      ],
      "metadata": {
        "id": "8H6ytVXD26Ae",
        "colab": {
          "base_uri": "https://localhost:8080/"
        },
        "outputId": "ceb78617-6901-46b6-db71-eb344963a7cd"
      },
      "execution_count": 52,
      "outputs": [
        {
          "output_type": "stream",
          "name": "stdout",
          "text": [
            "company\n",
            "toyota           7\n",
            "bmw              6\n",
            "mazda            5\n",
            "nissan           5\n",
            "mercedes-benz    4\n",
            "audi             4\n",
            "volkswagen       4\n",
            "mitsubishi       4\n",
            "chevrolet        3\n",
            "jaguar           3\n",
            "isuzu            3\n",
            "honda            3\n",
            "porsche          3\n",
            "alfa-romero      3\n",
            "dodge            2\n",
            "volvo            2\n",
            "Name: count, dtype: int64\n"
          ]
        }
      ]
    },
    {
      "cell_type": "markdown",
      "source": [
        "## Matplotlib Exercises"
      ],
      "metadata": {
        "id": "OcyPTwrWxdXt"
      }
    },
    {
      "cell_type": "markdown",
      "source": [
        "Use the following CSV file for this exercise. Read this file using Pandas or NumPy or using in-built matplotlib function. \\\\\n",
        "https://pynative.com/wp-content/uploads/2019/01/company_sales_data.csv"
      ],
      "metadata": {
        "id": "f0JDeA8Lxu-8"
      }
    },
    {
      "cell_type": "markdown",
      "source": [
        "Exercise 1: Read Total profit of all months and show it using a line plot \\\\\n",
        "Total profit data provided for each month. Generated line plot must include the following properties: –\n",
        "\n",
        "X label name = Month Number \\\\\n",
        "Y label name = Total profit \\\\\n",
        "\n",
        "\n"
      ],
      "metadata": {
        "id": "zYDZqjEzyoFN"
      }
    },
    {
      "cell_type": "code",
      "source": [
        "import numpy as np\n",
        "import pandas as pd\n",
        "import matplotlib.pyplot as plt\n",
        "df = pd.read_csv(\"/content/company_sales_data.csv\")\n",
        "x = df['month_number']\n",
        "y = df['total_profit']\n",
        "plt.plot(x,y)\n",
        "plt.xlabel(\"Month Number\")\n",
        "plt.ylabel(\"Total profit\")"
      ],
      "metadata": {
        "id": "wp_s9Dh50MQX",
        "colab": {
          "base_uri": "https://localhost:8080/",
          "height": 466
        },
        "outputId": "be6221ab-8222-465d-f9a6-a9bec9e4ed89"
      },
      "execution_count": 53,
      "outputs": [
        {
          "output_type": "execute_result",
          "data": {
            "text/plain": [
              "Text(0, 0.5, 'Total profit')"
            ]
          },
          "metadata": {},
          "execution_count": 53
        },
        {
          "output_type": "display_data",
          "data": {
            "text/plain": [
              "<Figure size 640x480 with 1 Axes>"
            ],
            "image/png": "[encoded data removed]"
          },
          "metadata": {}
        }
      ]
    },
    {
      "cell_type": "markdown",
      "source": [
        "Exercise : Read face cream and facewash product sales data and show it using the bar chart \\\\\n",
        "The bar chart should display the number of units sold per month for each product. \\\\\n",
        "Add a separate bar for each product in the same chart."
      ],
      "metadata": {
        "id": "muEpI78E0LjF"
      }
    },
    {
      "cell_type": "code",
      "source": [
        "import numpy as np\n",
        "import pandas as pd\n",
        "import matplotlib.pyplot as plt\n",
        "import seaborn as sns\n",
        "df = pd.read_csv(\"/content/company_sales_data.csv\")\n",
        "x = df['month_number']\n",
        "y1 = df['facecream']\n",
        "y2 = df['facewash']\n",
        "plt.bar(x,y1,label=\"facecream\")\n",
        "plt.bar(x,y2,label=\"facewash\")\n",
        "plt.xlabel(\"Month Number\")\n",
        "plt.legend()"
      ],
      "metadata": {
        "id": "JmR3PAE71gIi",
        "colab": {
          "base_uri": "https://localhost:8080/",
          "height": 466
        },
        "outputId": "f17eddd1-617a-483e-f509-e0ab5cdb32dc"
      },
      "execution_count": 54,
      "outputs": [
        {
          "output_type": "execute_result",
          "data": {
            "text/plain": [
              "<matplotlib.legend.Legend at 0x7f9dac32f5d0>"
            ]
          },
          "metadata": {},
          "execution_count": 54
        },
        {
          "output_type": "display_data",
          "data": {
            "text/plain": [
              "<Figure size 640x480 with 1 Axes>"
            ],
            "image/png": "[encoded data removed]"
          },
          "metadata": {}
        }
      ]
    }
  ]
}