{
  "cells": [
    {
      "cell_type": "markdown",
      "id": "24207269",
      "metadata": {
        "id": "24207269"
      },
      "source": [
        "**BEFORE ANYTHING, IMPORT THE NECESSARY LIBRARIES**"
      ]
    },
    {
      "cell_type": "code",
      "execution_count": 2,
      "id": "Xatb1xfaMzHG",
      "metadata": {
        "id": "Xatb1xfaMzHG"
      },
      "outputs": [],
      "source": [
        "# ENTER YOUR CODE HERE\n",
        "import numpy as np\n",
        "import pandas as pd\n",
        "import matplotlib.pyplot as plt\n",
        "import seaborn as sns\n",
        "from sklearn.preprocessing import LabelEncoder\n",
        "from sklearn.model_selection import train_test_split\n",
        "from sklearn.linear_model import LogisticRegression\n",
        "from sklearn.neighbors import KNeighborsClassifier\n",
        "from sklearn.svm import SVC\n",
        "from sklearn.metrics import accuracy_score, f1_score, precision_score, recall_score,confusion_matrix,classification_report\n",
        "import warnings\n",
        "warnings.filterwarnings('ignore')"
      ]
    },
    {
      "cell_type": "markdown",
      "id": "5a800a53",
      "metadata": {
        "id": "5a800a53"
      },
      "source": [
        "## SUPERVISED LEARNING\n",
        "\n",
        "As described in class, the datapoints used in supervised learning are associated with output labels which are used for training. The models trained are then used to predict on similar unseen data to produce similar labels.\n",
        "\n",
        "Supervised learning is broadly divided into two parts:\n",
        "- Regression: The output labels are continuous in nature.\n",
        "\n",
        "*(Content shortened for brevity)*"
      ]
    },
    {
      "cell_type": "markdown",
      "id": "607c978c",
      "metadata": {
        "id": "607c978c"
      },
      "source": [
        "### BINARY CLASSIFICATION"
      ]
    },
    {
      "cell_type": "code",
      "execution_count": 3,
      "id": "9c70ed1f",
      "metadata": {
        "colab": {
          "base_uri": "https://localhost:8080/"
        },
        "id": "9c70ed1f",
        "outputId": "ede44675-498a-4952-f724-a468cb68b86b"
      },
      "outputs": [
        {
          "name": "stderr",
          "output_type": "stream",
          "text": [
            "'gdown' is not recognized as an internal or external command,\n",
            "operable program or batch file.\n"
          ]
        }
      ],
      "source": [
        "! gdown 1nkDc4tAv7yMASRSLkbRAttr8qSG5dmcP"
      ]
    },
    {
      "cell_type": "markdown",
      "id": "c4d28724",
      "metadata": {
        "id": "c4d28724"
      },
      "source": [
        "**Import the csv file `NBA_logreg.csv` as a Pandas dataframe.**"
      ]
    },
    {
      "cell_type": "code",
      "execution_count": 4,
      "id": "2c1b6498",
      "metadata": {
        "colab": {
          "base_uri": "https://localhost:8080/",
          "height": 423
        },
        "id": "2c1b6498",
        "outputId": "5bc9691c-a0b8-4d26-8f5e-1b4d9c710dda"
      },
      "outputs": [
        {
          "data": {
            "text/html": [
              "<div>\n",
              "<style scoped>\n",
              "    .dataframe tbody tr th:only-of-type {\n",
              "        vertical-align: middle;\n",
              "    }\n",
              "\n",
              "    .dataframe tbody tr th {\n",
              "        vertical-align: top;\n",
              "    }\n",
              "\n",
              "    .dataframe thead th {\n",
              "        text-align: right;\n",
              "    }\n",
              "</style>\n",
              "<table border=\"1\" class=\"dataframe\">\n",
              "  <thead>\n",
              "    <tr style=\"text-align: right;\">\n",
              "      <th></th>\n",
              "      <th>Name</th>\n",
              "      <th>GP</th>\n",
              "      <th>MIN</th>\n",
              "      <th>PTS</th>\n",
              "      <th>FGM</th>\n",
              "      <th>FGA</th>\n",
              "      <th>FG%</th>\n",
              "      <th>3P Made</th>\n",
              "      <th>3PA</th>\n",
              "      <th>3P%</th>\n",
              "      <th>...</th>\n",
              "      <th>FTA</th>\n",
              "      <th>FT%</th>\n",
              "      <th>OREB</th>\n",
              "      <th>DREB</th>\n",
              "      <th>REB</th>\n",
              "      <th>AST</th>\n",
              "      <th>STL</th>\n",
              "      <th>BLK</th>\n",
              "      <th>TOV</th>\n",
              "      <th>TARGET_5Yrs</th>\n",
              "    </tr>\n",
              "  </thead>\n",
              "  <tbody>\n",
              "    <tr>\n",
              "      <th>0</th>\n",
              "      <td>Brandon Ingram</td>\n",
              "      <td>36</td>\n",
              "      <td>27.4</td>\n",
              "      <td>7.4</td>\n",
              "      <td>2.6</td>\n",
              "      <td>7.6</td>\n",
              "      <td>34.7</td>\n",
              "      <td>0.5</td>\n",
              "      <td>2.1</td>\n",
              "      <td>25.0</td>\n",
              "      <td>...</td>\n",
              "      <td>2.3</td>\n",
              "      <td>69.9</td>\n",
              "      <td>0.7</td>\n",
              "      <td>3.4</td>\n",
              "      <td>4.1</td>\n",
              "      <td>1.9</td>\n",
              "      <td>0.4</td>\n",
              "      <td>0.4</td>\n",
              "      <td>1.3</td>\n",
              "      <td>0.0</td>\n",
              "    </tr>\n",
              "    <tr>\n",
              "      <th>1</th>\n",
              "      <td>Andrew Harrison</td>\n",
              "      <td>35</td>\n",
              "      <td>26.9</td>\n",
              "      <td>7.2</td>\n",
              "      <td>2.0</td>\n",
              "      <td>6.7</td>\n",
              "      <td>29.6</td>\n",
              "      <td>0.7</td>\n",
              "      <td>2.8</td>\n",
              "      <td>23.5</td>\n",
              "      <td>...</td>\n",
              "      <td>3.4</td>\n",
              "      <td>76.5</td>\n",
              "      <td>0.5</td>\n",
              "      <td>2.0</td>\n",
              "      <td>2.4</td>\n",
              "      <td>3.7</td>\n",
              "      <td>1.1</td>\n",
              "      <td>0.5</td>\n",
              "      <td>1.6</td>\n",
              "      <td>0.0</td>\n",
              "    </tr>\n",
              "    <tr>\n",
              "      <th>2</th>\n",
              "      <td>JaKarr Sampson</td>\n",
              "      <td>74</td>\n",
              "      <td>15.3</td>\n",
              "      <td>5.2</td>\n",
              "      <td>2.0</td>\n",
              "      <td>4.7</td>\n",
              "      <td>42.2</td>\n",
              "      <td>0.4</td>\n",
              "      <td>1.7</td>\n",
              "      <td>24.4</td>\n",
              "      <td>...</td>\n",
              "      <td>1.3</td>\n",
              "      <td>67.0</td>\n",
              "      <td>0.5</td>\n",
              "      <td>1.7</td>\n",
              "      <td>2.2</td>\n",
              "      <td>1.0</td>\n",
              "      <td>0.5</td>\n",
              "      <td>0.3</td>\n",
              "      <td>1.0</td>\n",
              "      <td>0.0</td>\n",
              "    </tr>\n",
              "    <tr>\n",
              "      <th>3</th>\n",
              "      <td>Malik Sealy</td>\n",
              "      <td>58</td>\n",
              "      <td>11.6</td>\n",
              "      <td>5.7</td>\n",
              "      <td>2.3</td>\n",
              "      <td>5.5</td>\n",
              "      <td>42.6</td>\n",
              "      <td>0.1</td>\n",
              "      <td>0.5</td>\n",
              "      <td>22.6</td>\n",
              "      <td>...</td>\n",
              "      <td>1.3</td>\n",
              "      <td>68.9</td>\n",
              "      <td>1.0</td>\n",
              "      <td>0.9</td>\n",
              "      <td>1.9</td>\n",
              "      <td>0.8</td>\n",
              "      <td>0.6</td>\n",
              "      <td>0.1</td>\n",
              "      <td>1.0</td>\n",
              "      <td>1.0</td>\n",
              "    </tr>\n",
              "    <tr>\n",
              "      <th>4</th>\n",
              "      <td>Matt Geiger</td>\n",
              "      <td>48</td>\n",
              "      <td>11.5</td>\n",
              "      <td>4.5</td>\n",
              "      <td>1.6</td>\n",
              "      <td>3.0</td>\n",
              "      <td>52.4</td>\n",
              "      <td>0.0</td>\n",
              "      <td>0.1</td>\n",
              "      <td>0.0</td>\n",
              "      <td>...</td>\n",
              "      <td>1.9</td>\n",
              "      <td>67.4</td>\n",
              "      <td>1.0</td>\n",
              "      <td>1.5</td>\n",
              "      <td>2.5</td>\n",
              "      <td>0.3</td>\n",
              "      <td>0.3</td>\n",
              "      <td>0.4</td>\n",
              "      <td>0.8</td>\n",
              "      <td>1.0</td>\n",
              "    </tr>\n",
              "    <tr>\n",
              "      <th>...</th>\n",
              "      <td>...</td>\n",
              "      <td>...</td>\n",
              "      <td>...</td>\n",
              "      <td>...</td>\n",
              "      <td>...</td>\n",
              "      <td>...</td>\n",
              "      <td>...</td>\n",
              "      <td>...</td>\n",
              "      <td>...</td>\n",
              "      <td>...</td>\n",
              "      <td>...</td>\n",
              "      <td>...</td>\n",
              "      <td>...</td>\n",
              "      <td>...</td>\n",
              "      <td>...</td>\n",
              "      <td>...</td>\n",
              "      <td>...</td>\n",
              "      <td>...</td>\n",
              "      <td>...</td>\n",
              "      <td>...</td>\n",
              "      <td>...</td>\n",
              "    </tr>\n",
              "    <tr>\n",
              "      <th>1335</th>\n",
              "      <td>Chris Smith</td>\n",
              "      <td>80</td>\n",
              "      <td>15.8</td>\n",
              "      <td>4.3</td>\n",
              "      <td>1.6</td>\n",
              "      <td>3.6</td>\n",
              "      <td>43.3</td>\n",
              "      <td>0.0</td>\n",
              "      <td>0.2</td>\n",
              "      <td>14.3</td>\n",
              "      <td>...</td>\n",
              "      <td>1.5</td>\n",
              "      <td>79.2</td>\n",
              "      <td>0.4</td>\n",
              "      <td>0.8</td>\n",
              "      <td>1.2</td>\n",
              "      <td>2.5</td>\n",
              "      <td>0.6</td>\n",
              "      <td>0.2</td>\n",
              "      <td>0.8</td>\n",
              "      <td>0.0</td>\n",
              "    </tr>\n",
              "    <tr>\n",
              "      <th>1336</th>\n",
              "      <td>Brent Price</td>\n",
              "      <td>68</td>\n",
              "      <td>12.6</td>\n",
              "      <td>3.9</td>\n",
              "      <td>1.5</td>\n",
              "      <td>4.1</td>\n",
              "      <td>35.8</td>\n",
              "      <td>0.1</td>\n",
              "      <td>0.7</td>\n",
              "      <td>16.7</td>\n",
              "      <td>...</td>\n",
              "      <td>1.0</td>\n",
              "      <td>79.4</td>\n",
              "      <td>0.4</td>\n",
              "      <td>1.1</td>\n",
              "      <td>1.5</td>\n",
              "      <td>2.3</td>\n",
              "      <td>0.8</td>\n",
              "      <td>0.0</td>\n",
              "      <td>1.3</td>\n",
              "      <td>1.0</td>\n",
              "    </tr>\n",
              "    <tr>\n",
              "      <th>1337</th>\n",
              "      <td>Marlon Maxey</td>\n",
              "      <td>43</td>\n",
              "      <td>12.1</td>\n",
              "      <td>5.4</td>\n",
              "      <td>2.2</td>\n",
              "      <td>3.9</td>\n",
              "      <td>55.0</td>\n",
              "      <td>0.0</td>\n",
              "      <td>0.0</td>\n",
              "      <td>0.0</td>\n",
              "      <td>...</td>\n",
              "      <td>1.6</td>\n",
              "      <td>64.3</td>\n",
              "      <td>1.5</td>\n",
              "      <td>2.3</td>\n",
              "      <td>3.8</td>\n",
              "      <td>0.3</td>\n",
              "      <td>0.3</td>\n",
              "      <td>0.4</td>\n",
              "      <td>0.9</td>\n",
              "      <td>0.0</td>\n",
              "    </tr>\n",
              "    <tr>\n",
              "      <th>1338</th>\n",
              "      <td>Litterial Green</td>\n",
              "      <td>52</td>\n",
              "      <td>12.0</td>\n",
              "      <td>4.5</td>\n",
              "      <td>1.7</td>\n",
              "      <td>3.8</td>\n",
              "      <td>43.9</td>\n",
              "      <td>0.0</td>\n",
              "      <td>0.2</td>\n",
              "      <td>10.0</td>\n",
              "      <td>...</td>\n",
              "      <td>1.8</td>\n",
              "      <td>62.5</td>\n",
              "      <td>0.2</td>\n",
              "      <td>0.4</td>\n",
              "      <td>0.7</td>\n",
              "      <td>2.2</td>\n",
              "      <td>0.4</td>\n",
              "      <td>0.1</td>\n",
              "      <td>0.8</td>\n",
              "      <td>1.0</td>\n",
              "    </tr>\n",
              "    <tr>\n",
              "      <th>1339</th>\n",
              "      <td>Jon Barry</td>\n",
              "      <td>47</td>\n",
              "      <td>11.7</td>\n",
              "      <td>4.4</td>\n",
              "      <td>1.6</td>\n",
              "      <td>4.4</td>\n",
              "      <td>36.9</td>\n",
              "      <td>0.4</td>\n",
              "      <td>1.3</td>\n",
              "      <td>33.3</td>\n",
              "      <td>...</td>\n",
              "      <td>1.0</td>\n",
              "      <td>67.3</td>\n",
              "      <td>0.2</td>\n",
              "      <td>0.7</td>\n",
              "      <td>0.9</td>\n",
              "      <td>1.4</td>\n",
              "      <td>0.7</td>\n",
              "      <td>0.1</td>\n",
              "      <td>0.9</td>\n",
              "      <td>1.0</td>\n",
              "    </tr>\n",
              "  </tbody>\n",
              "</table>\n",
              "<p>1340 rows × 21 columns</p>\n",
              "</div>"
            ],
            "text/plain": [
              "                 Name  GP   MIN  PTS  FGM  FGA   FG%  3P Made  3PA   3P%  ...  \\\n",
              "0      Brandon Ingram  36  27.4  7.4  2.6  7.6  34.7      0.5  2.1  25.0  ...   \n",
              "1     Andrew Harrison  35  26.9  7.2  2.0  6.7  29.6      0.7  2.8  23.5  ...   \n",
              "2      JaKarr Sampson  74  15.3  5.2  2.0  4.7  42.2      0.4  1.7  24.4  ...   \n",
              "3         Malik Sealy  58  11.6  5.7  2.3  5.5  42.6      0.1  0.5  22.6  ...   \n",
              "4         Matt Geiger  48  11.5  4.5  1.6  3.0  52.4      0.0  0.1   0.0  ...   \n",
              "...               ...  ..   ...  ...  ...  ...   ...      ...  ...   ...  ...   \n",
              "1335      Chris Smith  80  15.8  4.3  1.6  3.6  43.3      0.0  0.2  14.3  ...   \n",
              "1336      Brent Price  68  12.6  3.9  1.5  4.1  35.8      0.1  0.7  16.7  ...   \n",
              "1337     Marlon Maxey  43  12.1  5.4  2.2  3.9  55.0      0.0  0.0   0.0  ...   \n",
              "1338  Litterial Green  52  12.0  4.5  1.7  3.8  43.9      0.0  0.2  10.0  ...   \n",
              "1339        Jon Barry  47  11.7  4.4  1.6  4.4  36.9      0.4  1.3  33.3  ...   \n",
              "\n",
              "      FTA   FT%  OREB  DREB  REB  AST  STL  BLK  TOV  TARGET_5Yrs  \n",
              "0     2.3  69.9   0.7   3.4  4.1  1.9  0.4  0.4  1.3          0.0  \n",
              "1     3.4  76.5   0.5   2.0  2.4  3.7  1.1  0.5  1.6          0.0  \n",
              "2     1.3  67.0   0.5   1.7  2.2  1.0  0.5  0.3  1.0          0.0  \n",
              "3     1.3  68.9   1.0   0.9  1.9  0.8  0.6  0.1  1.0          1.0  \n",
              "4     1.9  67.4   1.0   1.5  2.5  0.3  0.3  0.4  0.8          1.0  \n",
              "...   ...   ...   ...   ...  ...  ...  ...  ...  ...          ...  \n",
              "1335  1.5  79.2   0.4   0.8  1.2  2.5  0.6  0.2  0.8          0.0  \n",
              "1336  1.0  79.4   0.4   1.1  1.5  2.3  0.8  0.0  1.3          1.0  \n",
              "1337  1.6  64.3   1.5   2.3  3.8  0.3  0.3  0.4  0.9          0.0  \n",
              "1338  1.8  62.5   0.2   0.4  0.7  2.2  0.4  0.1  0.8          1.0  \n",
              "1339  1.0  67.3   0.2   0.7  0.9  1.4  0.7  0.1  0.9          1.0  \n",
              "\n",
              "[1340 rows x 21 columns]"
            ]
          },
          "execution_count": 4,
          "metadata": {},
          "output_type": "execute_result"
        }
      ],
      "source": [
        "# ENTER YOUR CODE HERE\n",
        "df = pd.read_csv(\"C:/Users/chhon/Downloads/nba_logreg.csv\")\n",
        "df"
      ]
    },
    {
      "cell_type": "markdown",
      "id": "79e44a91",
      "metadata": {
        "id": "79e44a91"
      },
      "source": [
        "**Lets analyse the data a tiny bit!**\n",
        "\n",
        "**What are the no. of rows and columns in the dataset?**"
      ]
    },
    {
      "cell_type": "code",
      "execution_count": 5,
      "id": "5deeb95d",
      "metadata": {
        "colab": {
          "base_uri": "https://localhost:8080/"
        },
        "id": "5deeb95d",
        "outputId": "f15544ad-5bd0-45c6-d6d4-8fdef531f691"
      },
      "outputs": [
        {
          "name": "stdout",
          "output_type": "stream",
          "text": [
            "Number of rows: 1340\n",
            "Number of columns: 21\n"
          ]
        }
      ],
      "source": [
        "#ENTER YOUR CODE HERE\n",
        "num_rows = df.shape[0]\n",
        "num_columns = df.shape[1]\n",
        "print(\"Number of rows:\", num_rows)\n",
        "print(\"Number of columns:\", num_columns)"
      ]
    },
    {
      "cell_type": "code",
      "execution_count": 6,
      "id": "c03ea035",
      "metadata": {
        "colab": {
          "base_uri": "https://localhost:8080/"
        },
        "id": "c03ea035",
        "outputId": "cbe90cb9-aa79-4582-b8a1-8d141a49ad3c"
      },
      "outputs": [
        {
          "name": "stdout",
          "output_type": "stream",
          "text": [
            "<class 'pandas.core.frame.DataFrame'>\n",
            "RangeIndex: 1340 entries, 0 to 1339\n",
            "Data columns (total 21 columns):\n",
            " #   Column       Non-Null Count  Dtype  \n",
            "---  ------       --------------  -----  \n",
            " 0   Name         1340 non-null   object \n",
            " 1   GP           1340 non-null   int64  \n",
            " 2   MIN          1340 non-null   float64\n",
            " 3   PTS          1340 non-null   float64\n",
            " 4   FGM          1340 non-null   float64\n",
            " 5   FGA          1340 non-null   float64\n",
            " 6   FG%          1340 non-null   float64\n",
            " 7   3P Made      1340 non-null   float64\n",
            " 8   3PA          1340 non-null   float64\n",
            " 9   3P%          1329 non-null   float64\n",
            " 10  FTM          1340 non-null   float64\n",
            " 11  FTA          1340 non-null   float64\n",
            " 12  FT%          1340 non-null   float64\n",
            " 13  OREB         1340 non-null   float64\n",
            " 14  DREB         1340 non-null   float64\n",
            " 15  REB          1340 non-null   float64\n",
            " 16  AST          1340 non-null   float64\n",
            " 17  STL          1340 non-null   float64\n",
            " 18  BLK          1340 non-null   float64\n",
            " 19  TOV          1340 non-null   float64\n",
            " 20  TARGET_5Yrs  1340 non-null   float64\n",
            "dtypes: float64(19), int64(1), object(1)\n",
            "memory usage: 220.0+ KB\n"
          ]
        }
      ],
      "source": [
        "df.info()"
      ]
    },
    {
      "cell_type": "markdown",
      "id": "e1fc454b",
      "metadata": {
        "id": "e1fc454b"
      },
      "source": [
        "**What are the columns?**"
      ]
    },
    {
      "cell_type": "code",
      "execution_count": 7,
      "id": "9b8d2501",
      "metadata": {
        "id": "9b8d2501"
      },
      "outputs": [],
      "source": [
        "#ENTER YOUR CODE HERE"
      ]
    },
    {
      "cell_type": "code",
      "execution_count": 8,
      "id": "9a8edaea",
      "metadata": {
        "colab": {
          "base_uri": "https://localhost:8080/"
        },
        "id": "9a8edaea",
        "outputId": "9f109596-5893-438d-8e31-d2eac958571c"
      },
      "outputs": [
        {
          "data": {
            "text/plain": [
              "Index(['Name', 'GP', 'MIN', 'PTS', 'FGM', 'FGA', 'FG%', '3P Made', '3PA',\n",
              "       '3P%', 'FTM', 'FTA', 'FT%', 'OREB', 'DREB', 'REB', 'AST', 'STL', 'BLK',\n",
              "       'TOV', 'TARGET_5Yrs'],\n",
              "      dtype='object')"
            ]
          },
          "execution_count": 8,
          "metadata": {},
          "output_type": "execute_result"
        }
      ],
      "source": [
        "col = df.columns\n",
        "col"
      ]
    },
    {
      "cell_type": "markdown",
      "id": "66a887a8",
      "metadata": {
        "id": "66a887a8"
      },
      "source": [
        "**What does the beginning of the dataset look like?**"
      ]
    },
    {
      "cell_type": "code",
      "execution_count": 9,
      "id": "726f194f",
      "metadata": {
        "id": "726f194f"
      },
      "outputs": [],
      "source": [
        "#ENTER YOUR CODE HERE"
      ]
    },
    {
      "cell_type": "code",
      "execution_count": 10,
      "id": "16fd5296",
      "metadata": {
        "colab": {
          "base_uri": "https://localhost:8080/",
          "height": 235
        },
        "id": "16fd5296",
        "outputId": "5839ebd2-daa7-438d-8440-f96df8b8711d"
      },
      "outputs": [
        {
          "data": {
            "text/html": [
              "<div>\n",
              "<style scoped>\n",
              "    .dataframe tbody tr th:only-of-type {\n",
              "        vertical-align: middle;\n",
              "    }\n",
              "\n",
              "    .dataframe tbody tr th {\n",
              "        vertical-align: top;\n",
              "    }\n",
              "\n",
              "    .dataframe thead th {\n",
              "        text-align: right;\n",
              "    }\n",
              "</style>\n",
              "<table border=\"1\" class=\"dataframe\">\n",
              "  <thead>\n",
              "    <tr style=\"text-align: right;\">\n",
              "      <th></th>\n",
              "      <th>Name</th>\n",
              "      <th>GP</th>\n",
              "      <th>MIN</th>\n",
              "      <th>PTS</th>\n",
              "      <th>FGM</th>\n",
              "      <th>FGA</th>\n",
              "      <th>FG%</th>\n",
              "      <th>3P Made</th>\n",
              "      <th>3PA</th>\n",
              "      <th>3P%</th>\n",
              "      <th>...</th>\n",
              "      <th>FTA</th>\n",
              "      <th>FT%</th>\n",
              "      <th>OREB</th>\n",
              "      <th>DREB</th>\n",
              "      <th>REB</th>\n",
              "      <th>AST</th>\n",
              "      <th>STL</th>\n",
              "      <th>BLK</th>\n",
              "      <th>TOV</th>\n",
              "      <th>TARGET_5Yrs</th>\n",
              "    </tr>\n",
              "  </thead>\n",
              "  <tbody>\n",
              "    <tr>\n",
              "      <th>0</th>\n",
              "      <td>Brandon Ingram</td>\n",
              "      <td>36</td>\n",
              "      <td>27.4</td>\n",
              "      <td>7.4</td>\n",
              "      <td>2.6</td>\n",
              "      <td>7.6</td>\n",
              "      <td>34.7</td>\n",
              "      <td>0.5</td>\n",
              "      <td>2.1</td>\n",
              "      <td>25.0</td>\n",
              "      <td>...</td>\n",
              "      <td>2.3</td>\n",
              "      <td>69.9</td>\n",
              "      <td>0.7</td>\n",
              "      <td>3.4</td>\n",
              "      <td>4.1</td>\n",
              "      <td>1.9</td>\n",
              "      <td>0.4</td>\n",
              "      <td>0.4</td>\n",
              "      <td>1.3</td>\n",
              "      <td>0.0</td>\n",
              "    </tr>\n",
              "    <tr>\n",
              "      <th>1</th>\n",
              "      <td>Andrew Harrison</td>\n",
              "      <td>35</td>\n",
              "      <td>26.9</td>\n",
              "      <td>7.2</td>\n",
              "      <td>2.0</td>\n",
              "      <td>6.7</td>\n",
              "      <td>29.6</td>\n",
              "      <td>0.7</td>\n",
              "      <td>2.8</td>\n",
              "      <td>23.5</td>\n",
              "      <td>...</td>\n",
              "      <td>3.4</td>\n",
              "      <td>76.5</td>\n",
              "      <td>0.5</td>\n",
              "      <td>2.0</td>\n",
              "      <td>2.4</td>\n",
              "      <td>3.7</td>\n",
              "      <td>1.1</td>\n",
              "      <td>0.5</td>\n",
              "      <td>1.6</td>\n",
              "      <td>0.0</td>\n",
              "    </tr>\n",
              "    <tr>\n",
              "      <th>2</th>\n",
              "      <td>JaKarr Sampson</td>\n",
              "      <td>74</td>\n",
              "      <td>15.3</td>\n",
              "      <td>5.2</td>\n",
              "      <td>2.0</td>\n",
              "      <td>4.7</td>\n",
              "      <td>42.2</td>\n",
              "      <td>0.4</td>\n",
              "      <td>1.7</td>\n",
              "      <td>24.4</td>\n",
              "      <td>...</td>\n",
              "      <td>1.3</td>\n",
              "      <td>67.0</td>\n",
              "      <td>0.5</td>\n",
              "      <td>1.7</td>\n",
              "      <td>2.2</td>\n",
              "      <td>1.0</td>\n",
              "      <td>0.5</td>\n",
              "      <td>0.3</td>\n",
              "      <td>1.0</td>\n",
              "      <td>0.0</td>\n",
              "    </tr>\n",
              "    <tr>\n",
              "      <th>3</th>\n",
              "      <td>Malik Sealy</td>\n",
              "      <td>58</td>\n",
              "      <td>11.6</td>\n",
              "      <td>5.7</td>\n",
              "      <td>2.3</td>\n",
              "      <td>5.5</td>\n",
              "      <td>42.6</td>\n",
              "      <td>0.1</td>\n",
              "      <td>0.5</td>\n",
              "      <td>22.6</td>\n",
              "      <td>...</td>\n",
              "      <td>1.3</td>\n",
              "      <td>68.9</td>\n",
              "      <td>1.0</td>\n",
              "      <td>0.9</td>\n",
              "      <td>1.9</td>\n",
              "      <td>0.8</td>\n",
              "      <td>0.6</td>\n",
              "      <td>0.1</td>\n",
              "      <td>1.0</td>\n",
              "      <td>1.0</td>\n",
              "    </tr>\n",
              "    <tr>\n",
              "      <th>4</th>\n",
              "      <td>Matt Geiger</td>\n",
              "      <td>48</td>\n",
              "      <td>11.5</td>\n",
              "      <td>4.5</td>\n",
              "      <td>1.6</td>\n",
              "      <td>3.0</td>\n",
              "      <td>52.4</td>\n",
              "      <td>0.0</td>\n",
              "      <td>0.1</td>\n",
              "      <td>0.0</td>\n",
              "      <td>...</td>\n",
              "      <td>1.9</td>\n",
              "      <td>67.4</td>\n",
              "      <td>1.0</td>\n",
              "      <td>1.5</td>\n",
              "      <td>2.5</td>\n",
              "      <td>0.3</td>\n",
              "      <td>0.3</td>\n",
              "      <td>0.4</td>\n",
              "      <td>0.8</td>\n",
              "      <td>1.0</td>\n",
              "    </tr>\n",
              "  </tbody>\n",
              "</table>\n",
              "<p>5 rows × 21 columns</p>\n",
              "</div>"
            ],
            "text/plain": [
              "              Name  GP   MIN  PTS  FGM  FGA   FG%  3P Made  3PA   3P%  ...  \\\n",
              "0   Brandon Ingram  36  27.4  7.4  2.6  7.6  34.7      0.5  2.1  25.0  ...   \n",
              "1  Andrew Harrison  35  26.9  7.2  2.0  6.7  29.6      0.7  2.8  23.5  ...   \n",
              "2   JaKarr Sampson  74  15.3  5.2  2.0  4.7  42.2      0.4  1.7  24.4  ...   \n",
              "3      Malik Sealy  58  11.6  5.7  2.3  5.5  42.6      0.1  0.5  22.6  ...   \n",
              "4      Matt Geiger  48  11.5  4.5  1.6  3.0  52.4      0.0  0.1   0.0  ...   \n",
              "\n",
              "   FTA   FT%  OREB  DREB  REB  AST  STL  BLK  TOV  TARGET_5Yrs  \n",
              "0  2.3  69.9   0.7   3.4  4.1  1.9  0.4  0.4  1.3          0.0  \n",
              "1  3.4  76.5   0.5   2.0  2.4  3.7  1.1  0.5  1.6          0.0  \n",
              "2  1.3  67.0   0.5   1.7  2.2  1.0  0.5  0.3  1.0          0.0  \n",
              "3  1.3  68.9   1.0   0.9  1.9  0.8  0.6  0.1  1.0          1.0  \n",
              "4  1.9  67.4   1.0   1.5  2.5  0.3  0.3  0.4  0.8          1.0  \n",
              "\n",
              "[5 rows x 21 columns]"
            ]
          },
          "execution_count": 10,
          "metadata": {},
          "output_type": "execute_result"
        }
      ],
      "source": [
        "df.head()"
      ]
    },
    {
      "cell_type": "markdown",
      "id": "46d06e9e",
      "metadata": {
        "id": "46d06e9e"
      },
      "source": [
        "Actually, the given dataset describes the player history of several NBA players. The column 'TARGET_5yrs' only contains the values 0 and 1, with 0 standing for players who played for less than 5 years, and 1 for players who played for more than or equal to 5 years. Thus, 0 and 1 stand for 2 classes- binary classification!"
      ]
    },
    {
      "cell_type": "markdown",
      "id": "8d12aaee",
      "metadata": {
        "id": "8d12aaee"
      },
      "source": [
        "**Clean the dataset. Drop the NaN values!**\n",
        "\n"
      ]
    },
    {
      "cell_type": "code",
      "execution_count": 11,
      "id": "28ece2e4",
      "metadata": {
        "id": "28ece2e4"
      },
      "outputs": [],
      "source": [
        "#ENTER YOUR CODE HERE"
      ]
    },
    {
      "cell_type": "code",
      "execution_count": 12,
      "id": "f24b7222",
      "metadata": {
        "colab": {
          "base_uri": "https://localhost:8080/",
          "height": 742
        },
        "id": "f24b7222",
        "outputId": "fb170a6f-4135-4fc2-da89-c1d4d5a6d712"
      },
      "outputs": [
        {
          "data": {
            "text/plain": [
              "Name            0\n",
              "GP              0\n",
              "MIN             0\n",
              "PTS             0\n",
              "FGM             0\n",
              "FGA             0\n",
              "FG%             0\n",
              "3P Made         0\n",
              "3PA             0\n",
              "3P%            11\n",
              "FTM             0\n",
              "FTA             0\n",
              "FT%             0\n",
              "OREB            0\n",
              "DREB            0\n",
              "REB             0\n",
              "AST             0\n",
              "STL             0\n",
              "BLK             0\n",
              "TOV             0\n",
              "TARGET_5Yrs     0\n",
              "dtype: int64"
            ]
          },
          "execution_count": 12,
          "metadata": {},
          "output_type": "execute_result"
        }
      ],
      "source": [
        "df.isnull().sum()"
      ]
    },
    {
      "cell_type": "code",
      "execution_count": 13,
      "id": "mvZUMLXzOE5o",
      "metadata": {
        "colab": {
          "base_uri": "https://localhost:8080/",
          "height": 742
        },
        "id": "mvZUMLXzOE5o",
        "outputId": "172d974f-5ba4-45b0-9e16-79b550f59ddc"
      },
      "outputs": [
        {
          "data": {
            "text/plain": [
              "Name           0\n",
              "GP             0\n",
              "MIN            0\n",
              "PTS            0\n",
              "FGM            0\n",
              "FGA            0\n",
              "FG%            0\n",
              "3P Made        0\n",
              "3PA            0\n",
              "3P%            0\n",
              "FTM            0\n",
              "FTA            0\n",
              "FT%            0\n",
              "OREB           0\n",
              "DREB           0\n",
              "REB            0\n",
              "AST            0\n",
              "STL            0\n",
              "BLK            0\n",
              "TOV            0\n",
              "TARGET_5Yrs    0\n",
              "dtype: int64"
            ]
          },
          "execution_count": 13,
          "metadata": {},
          "output_type": "execute_result"
        }
      ],
      "source": [
        "df.dropna(inplace=True)\n",
        "df.isnull().sum()"
      ]
    },
    {
      "cell_type": "markdown",
      "id": "c9b7facb",
      "metadata": {
        "id": "c9b7facb"
      },
      "source": [
        "**What is the shape of the dataframe now?**"
      ]
    },
    {
      "cell_type": "code",
      "execution_count": 14,
      "id": "95387cfd",
      "metadata": {
        "id": "95387cfd"
      },
      "outputs": [],
      "source": [
        "#ENTER YOUR CODE HERE"
      ]
    },
    {
      "cell_type": "code",
      "execution_count": 15,
      "id": "c33648e1",
      "metadata": {
        "colab": {
          "base_uri": "https://localhost:8080/"
        },
        "id": "c33648e1",
        "outputId": "446340a8-e476-4965-d2c8-4a44fdb5d81e"
      },
      "outputs": [
        {
          "name": "stdout",
          "output_type": "stream",
          "text": [
            "Shape of the dataframe post dropping rows with NaN values is: (1329, 21)\n"
          ]
        }
      ],
      "source": [
        "print('Shape of the dataframe post dropping rows with NaN values is:', df.shape)"
      ]
    },
    {
      "cell_type": "markdown",
      "id": "bfd92e27",
      "metadata": {
        "id": "bfd92e27"
      },
      "source": [
        "**For training, first create a dataframe that stores the columns to be used for training, and another dataframe that stores the labels.**"
      ]
    },
    {
      "cell_type": "code",
      "execution_count": 16,
      "id": "bded72d3",
      "metadata": {
        "id": "bded72d3"
      },
      "outputs": [],
      "source": [
        "#ENTER YOUR CODE HERE"
      ]
    },
    {
      "cell_type": "code",
      "execution_count": 17,
      "id": "adbb0ca7",
      "metadata": {
        "colab": {
          "base_uri": "https://localhost:8080/"
        },
        "id": "adbb0ca7",
        "outputId": "bf5711df-5c1f-4539-8e5b-ccb5f1e37c84"
      },
      "outputs": [
        {
          "name": "stdout",
          "output_type": "stream",
          "text": [
            "Shape of the features dataframe is: (1329, 19)\n",
            "Shape of the labels dataframe is: (1329,)\n"
          ]
        }
      ],
      "source": [
        "X = df.drop(['TARGET_5Yrs','Name'], axis=1)\n",
        "y = df['TARGET_5Yrs']\n",
        "print('Shape of the features dataframe is:', X.shape)\n",
        "print('Shape of the labels dataframe is:', y.shape)"
      ]
    },
    {
      "cell_type": "markdown",
      "id": "8238d566",
      "metadata": {
        "id": "8238d566"
      },
      "source": [
        "It is considered best practice to divide the dataset into two parts- test and train(Search the internet for the reason- we'll ask in class :)).\n",
        "\n",
        "**Import the sklearn module that allows us to split the dataset into train and test.**"
      ]
    },
    {
      "cell_type": "code",
      "execution_count": 18,
      "id": "d04adf77",
      "metadata": {
        "id": "d04adf77"
      },
      "outputs": [],
      "source": [
        "#ENTER YOUR CODE HERE\n",
        "from sklearn.model_selection import train_test_split"
      ]
    },
    {
      "cell_type": "markdown",
      "id": "a0942a8d",
      "metadata": {
        "id": "a0942a8d"
      },
      "source": [
        "**Now divide the features and label dataframes into train and test splits.**"
      ]
    },
    {
      "cell_type": "code",
      "execution_count": 19,
      "id": "7ede286b",
      "metadata": {
        "id": "7ede286b"
      },
      "outputs": [],
      "source": [
        "#ENTER YOUR CODE HERE"
      ]
    },
    {
      "cell_type": "code",
      "execution_count": 20,
      "id": "3e27d893",
      "metadata": {
        "colab": {
          "base_uri": "https://localhost:8080/"
        },
        "id": "3e27d893",
        "outputId": "97cb3e65-27e5-4939-8f7c-f315443dc392"
      },
      "outputs": [
        {
          "name": "stdout",
          "output_type": "stream",
          "text": [
            "Shape of the training features dataframe is: (1063, 19)\n",
            "Shape of the training labels dataframe is: (1063,)\n",
            "Shape of the testing features dataframe is: (266, 19)\n",
            "Shape of the testing labels dataframe is: (266,)\n",
            "The train to test split ratio 3.9962406015037595\n"
          ]
        }
      ],
      "source": [
        "X_train, X_test, y_train, y_test = train_test_split(X, y, test_size=0.2, random_state=42)\n",
        "print('Shape of the training features dataframe is:', X_train.shape)\n",
        "print('Shape of the training labels dataframe is:', y_train.shape)\n",
        "print('Shape of the testing features dataframe is:', X_test.shape)\n",
        "print('Shape of the testing labels dataframe is:', y_test.shape)\n",
        "print('The train to test split ratio',X_train.shape[0]/X_test.shape[0])"
      ]
    },
    {
      "cell_type": "markdown",
      "id": "59967c23",
      "metadata": {
        "id": "59967c23"
      },
      "source": [
        "**Now load the sklearn module that allows the creation of a logistic regression model.**"
      ]
    },
    {
      "cell_type": "code",
      "execution_count": 21,
      "id": "ec9140fb",
      "metadata": {
        "id": "ec9140fb"
      },
      "outputs": [],
      "source": [
        "#ENTER YOUR CODE HERE\n",
        "from sklearn.linear_model import LogisticRegression"
      ]
    },
    {
      "cell_type": "markdown",
      "id": "a7dcda82",
      "metadata": {
        "id": "a7dcda82"
      },
      "source": [
        "**Onto training! Train the a logistic regression model using the training features and labels dataframes.**"
      ]
    },
    {
      "cell_type": "code",
      "execution_count": 22,
      "id": "3fdccd59",
      "metadata": {
        "id": "3fdccd59"
      },
      "outputs": [],
      "source": [
        "#ENTER YOUR CODE HERE"
      ]
    },
    {
      "cell_type": "code",
      "execution_count": 23,
      "id": "1d6d2dc2",
      "metadata": {
        "id": "1d6d2dc2"
      },
      "outputs": [],
      "source": [
        "logic = LogisticRegression()\n",
        "logic.fit(X_train, y_train)\n",
        "y_pred1 = logic.predict(X_test)"
      ]
    },
    {
      "cell_type": "markdown",
      "id": "28794db2",
      "metadata": {
        "id": "28794db2"
      },
      "source": [
        "Your model is trained! Time to check how good it is by using it on the testing dataframe.\n",
        "Some metrics are used to check the reliability of a model.\n",
        "\n",
        "**As an exercise, read about these and fill out the markdown below!**\n"
      ]
    },
    {
      "cell_type": "markdown",
      "id": "82b4f00d",
      "metadata": {
        "id": "82b4f00d"
      },
      "source": [
        "- Accuracy:\n",
        "- F1 score:\n",
        "- Precision:\n",
        "- Recall:"
      ]
    },
    {
      "cell_type": "markdown",
      "id": "74a1c63a",
      "metadata": {
        "id": "74a1c63a"
      },
      "source": [
        "All of these can be calculated for our model using sklearn modules.\n",
        "\n",
        "**Import them!**"
      ]
    },
    {
      "cell_type": "code",
      "execution_count": 24,
      "id": "577eeeb5",
      "metadata": {
        "id": "577eeeb5"
      },
      "outputs": [],
      "source": [
        "#ENTER YOUR CODE HERE\n",
        "from sklearn.metrics import accuracy_score, f1_score, precision_score, recall_score"
      ]
    },
    {
      "cell_type": "markdown",
      "id": "c3c5d690",
      "metadata": {
        "id": "c3c5d690"
      },
      "source": [
        "**Now test on the testing dataframe and print all of these metrics.**"
      ]
    },
    {
      "cell_type": "code",
      "execution_count": 25,
      "id": "00118b46",
      "metadata": {
        "id": "00118b46"
      },
      "outputs": [],
      "source": [
        "#ENTER YOUR CODE HERE"
      ]
    },
    {
      "cell_type": "code",
      "execution_count": 26,
      "id": "e6a0a584",
      "metadata": {
        "colab": {
          "base_uri": "https://localhost:8080/"
        },
        "id": "e6a0a584",
        "outputId": "cab5cddb-b390-400b-cc07-431c9d2ac2d0"
      },
      "outputs": [
        {
          "name": "stdout",
          "output_type": "stream",
          "text": [
            "The accuracy of the logistic regression model on the dataset is: 0.7518796992481203\n",
            "The precision of the logistic regression model on the dataset is: 0.8089887640449438\n",
            "The recall of the logistic regression model on the dataset is: 0.8181818181818182\n",
            "The f1 score of the logistic regression model on the dataset is: 0.8135593220338984\n"
          ]
        }
      ],
      "source": [
        "print('The accuracy of the logistic regression model on the dataset is:', accuracy_score(y_test, y_pred1))\n",
        "print('The precision of the logistic regression model on the dataset is:', precision_score(y_test, y_pred1))\n",
        "print('The recall of the logistic regression model on the dataset is:', recall_score(y_test, y_pred1))\n",
        "print('The f1 score of the logistic regression model on the dataset is:', f1_score(y_test, y_pred1))"
      ]
    },
    {
      "cell_type": "markdown",
      "id": "7f58eee3",
      "metadata": {
        "id": "7f58eee3"
      },
      "source": [
        "**Your Logistic Regression model is well trained!**"
      ]
    },
    {
      "cell_type": "markdown",
      "id": "0d258814",
      "metadata": {
        "id": "0d258814"
      },
      "source": [
        "Support Vector Machine is another model that can be used both for regression and classification. We'll be training a classification model on our current dataset.\n",
        "\n",
        "**Import the sklearn module that is used to implement a classification SVM**"
      ]
    },
    {
      "cell_type": "code",
      "execution_count": 27,
      "id": "8ad0eb19",
      "metadata": {
        "id": "8ad0eb19"
      },
      "outputs": [],
      "source": [
        "#ENTER YOUR CODE HERE\n",
        "from sklearn.svm import SVC"
      ]
    },
    {
      "cell_type": "markdown",
      "id": "3e4a26e4",
      "metadata": {
        "id": "3e4a26e4"
      },
      "source": [
        "**Just as we had before, load and fit a model on our training dataset.**"
      ]
    },
    {
      "cell_type": "code",
      "execution_count": 28,
      "id": "f36f65d6",
      "metadata": {
        "id": "f36f65d6"
      },
      "outputs": [],
      "source": [
        "#ENTER YOUR CODE HERE"
      ]
    },
    {
      "cell_type": "code",
      "execution_count": 29,
      "id": "38675144",
      "metadata": {
        "id": "38675144"
      },
      "outputs": [],
      "source": [
        "svc = SVC()\n",
        "svc.fit(X_train, y_train)\n",
        "y_pred2 = svc.predict(X_test)"
      ]
    },
    {
      "cell_type": "markdown",
      "id": "60f6fd01",
      "metadata": {
        "id": "60f6fd01"
      },
      "source": [
        "**Now test the model on the training dataset, and check the relevant metrics!**"
      ]
    },
    {
      "cell_type": "code",
      "execution_count": 30,
      "id": "e7b39e7c",
      "metadata": {
        "id": "e7b39e7c"
      },
      "outputs": [],
      "source": [
        "#ENTER YOUR CODE HERE"
      ]
    },
    {
      "cell_type": "code",
      "execution_count": 31,
      "id": "65956581",
      "metadata": {
        "colab": {
          "base_uri": "https://localhost:8080/"
        },
        "id": "65956581",
        "outputId": "3041cef6-6be2-4d68-f0cd-4cd56e85dd0c"
      },
      "outputs": [
        {
          "name": "stdout",
          "output_type": "stream",
          "text": [
            "The accuracy of the SVM model on the dataset is: 0.7443609022556391\n",
            "The precision of the SVM model on the dataset is: 0.7872340425531915\n",
            "The recall of the SVM model on the dataset is: 0.8409090909090909\n",
            "The f1 score of the SVM model on the dataset is: 0.8131868131868132\n"
          ]
        }
      ],
      "source": [
        "print('The accuracy of the SVM model on the dataset is:', accuracy_score(y_test, y_pred2))\n",
        "print('The precision of the SVM model on the dataset is:', precision_score(y_test, y_pred2))\n",
        "print('The recall of the SVM model on the dataset is:', recall_score(y_test, y_pred2))\n",
        "print('The f1 score of the SVM model on the dataset is:', f1_score(y_test, y_pred2))"
      ]
    },
    {
      "cell_type": "markdown",
      "id": "19d6984e",
      "metadata": {
        "id": "19d6984e"
      },
      "source": [
        "### MULTICLASS CLASSIFICATION"
      ]
    },
    {
      "cell_type": "code",
      "execution_count": 32,
      "id": "0f74f848",
      "metadata": {
        "colab": {
          "base_uri": "https://localhost:8080/"
        },
        "id": "0f74f848",
        "outputId": "26164508-8106-4e83-ec83-f1e167125301"
      },
      "outputs": [
        {
          "name": "stderr",
          "output_type": "stream",
          "text": [
            "'gdown' is not recognized as an internal or external command,\n",
            "operable program or batch file.\n"
          ]
        }
      ],
      "source": [
        "! gdown 1bhWHfp1QS7ZHbNbxP_zFtEUAf76WfntC"
      ]
    },
    {
      "cell_type": "markdown",
      "id": "965a2a3e",
      "metadata": {
        "id": "965a2a3e"
      },
      "source": [
        "**Import the csv `social_well_being.csv` as a pandas dataframe.**"
      ]
    },
    {
      "cell_type": "code",
      "execution_count": 33,
      "id": "d8dcf919",
      "metadata": {
        "colab": {
          "base_uri": "https://localhost:8080/",
          "height": 513
        },
        "id": "d8dcf919",
        "outputId": "b9cf275a-0812-419b-c086-61783fe722c8"
      },
      "outputs": [
        {
          "data": {
            "text/html": [
              "<div>\n",
              "<style scoped>\n",
              "    .dataframe tbody tr th:only-of-type {\n",
              "        vertical-align: middle;\n",
              "    }\n",
              "\n",
              "    .dataframe tbody tr th {\n",
              "        vertical-align: top;\n",
              "    }\n",
              "\n",
              "    .dataframe thead th {\n",
              "        text-align: right;\n",
              "    }\n",
              "</style>\n",
              "<table border=\"1\" class=\"dataframe\">\n",
              "  <thead>\n",
              "    <tr style=\"text-align: right;\">\n",
              "      <th></th>\n",
              "      <th>User_ID</th>\n",
              "      <th>Age</th>\n",
              "      <th>Gender</th>\n",
              "      <th>Platform</th>\n",
              "      <th>Daily_Usage_Time (minutes)</th>\n",
              "      <th>Posts_Per_Day</th>\n",
              "      <th>Likes_Received_Per_Day</th>\n",
              "      <th>Comments_Received_Per_Day</th>\n",
              "      <th>Messages_Sent_Per_Day</th>\n",
              "      <th>Dominant_Emotion</th>\n",
              "    </tr>\n",
              "  </thead>\n",
              "  <tbody>\n",
              "    <tr>\n",
              "      <th>0</th>\n",
              "      <td>1</td>\n",
              "      <td>25</td>\n",
              "      <td>Female</td>\n",
              "      <td>Instagram</td>\n",
              "      <td>120</td>\n",
              "      <td>3</td>\n",
              "      <td>45</td>\n",
              "      <td>10</td>\n",
              "      <td>12</td>\n",
              "      <td>Happiness</td>\n",
              "    </tr>\n",
              "    <tr>\n",
              "      <th>1</th>\n",
              "      <td>2</td>\n",
              "      <td>30</td>\n",
              "      <td>Male</td>\n",
              "      <td>Twitter</td>\n",
              "      <td>90</td>\n",
              "      <td>5</td>\n",
              "      <td>20</td>\n",
              "      <td>25</td>\n",
              "      <td>30</td>\n",
              "      <td>Anger</td>\n",
              "    </tr>\n",
              "    <tr>\n",
              "      <th>2</th>\n",
              "      <td>3</td>\n",
              "      <td>22</td>\n",
              "      <td>Non-binary</td>\n",
              "      <td>Facebook</td>\n",
              "      <td>60</td>\n",
              "      <td>2</td>\n",
              "      <td>15</td>\n",
              "      <td>5</td>\n",
              "      <td>20</td>\n",
              "      <td>Neutral</td>\n",
              "    </tr>\n",
              "    <tr>\n",
              "      <th>3</th>\n",
              "      <td>4</td>\n",
              "      <td>28</td>\n",
              "      <td>Female</td>\n",
              "      <td>Instagram</td>\n",
              "      <td>200</td>\n",
              "      <td>8</td>\n",
              "      <td>100</td>\n",
              "      <td>30</td>\n",
              "      <td>50</td>\n",
              "      <td>Anxiety</td>\n",
              "    </tr>\n",
              "    <tr>\n",
              "      <th>4</th>\n",
              "      <td>5</td>\n",
              "      <td>33</td>\n",
              "      <td>Male</td>\n",
              "      <td>LinkedIn</td>\n",
              "      <td>45</td>\n",
              "      <td>1</td>\n",
              "      <td>5</td>\n",
              "      <td>2</td>\n",
              "      <td>10</td>\n",
              "      <td>Boredom</td>\n",
              "    </tr>\n",
              "    <tr>\n",
              "      <th>...</th>\n",
              "      <td>...</td>\n",
              "      <td>...</td>\n",
              "      <td>...</td>\n",
              "      <td>...</td>\n",
              "      <td>...</td>\n",
              "      <td>...</td>\n",
              "      <td>...</td>\n",
              "      <td>...</td>\n",
              "      <td>...</td>\n",
              "      <td>...</td>\n",
              "    </tr>\n",
              "    <tr>\n",
              "      <th>919</th>\n",
              "      <td>996</td>\n",
              "      <td>33</td>\n",
              "      <td>Non-binary</td>\n",
              "      <td>Twitter</td>\n",
              "      <td>85</td>\n",
              "      <td>4</td>\n",
              "      <td>35</td>\n",
              "      <td>18</td>\n",
              "      <td>18</td>\n",
              "      <td>Boredom</td>\n",
              "    </tr>\n",
              "    <tr>\n",
              "      <th>920</th>\n",
              "      <td>997</td>\n",
              "      <td>22</td>\n",
              "      <td>Female</td>\n",
              "      <td>Facebook</td>\n",
              "      <td>70</td>\n",
              "      <td>1</td>\n",
              "      <td>14</td>\n",
              "      <td>6</td>\n",
              "      <td>10</td>\n",
              "      <td>Neutral</td>\n",
              "    </tr>\n",
              "    <tr>\n",
              "      <th>921</th>\n",
              "      <td>998</td>\n",
              "      <td>35</td>\n",
              "      <td>Male</td>\n",
              "      <td>Whatsapp</td>\n",
              "      <td>110</td>\n",
              "      <td>3</td>\n",
              "      <td>50</td>\n",
              "      <td>25</td>\n",
              "      <td>25</td>\n",
              "      <td>Happiness</td>\n",
              "    </tr>\n",
              "    <tr>\n",
              "      <th>922</th>\n",
              "      <td>999</td>\n",
              "      <td>28</td>\n",
              "      <td>Non-binary</td>\n",
              "      <td>Telegram</td>\n",
              "      <td>60</td>\n",
              "      <td>2</td>\n",
              "      <td>18</td>\n",
              "      <td>8</td>\n",
              "      <td>18</td>\n",
              "      <td>Anger</td>\n",
              "    </tr>\n",
              "    <tr>\n",
              "      <th>923</th>\n",
              "      <td>1000</td>\n",
              "      <td>27</td>\n",
              "      <td>Female</td>\n",
              "      <td>Snapchat</td>\n",
              "      <td>120</td>\n",
              "      <td>4</td>\n",
              "      <td>40</td>\n",
              "      <td>18</td>\n",
              "      <td>22</td>\n",
              "      <td>Neutral</td>\n",
              "    </tr>\n",
              "  </tbody>\n",
              "</table>\n",
              "<p>924 rows × 10 columns</p>\n",
              "</div>"
            ],
            "text/plain": [
              "     User_ID  Age      Gender   Platform  Daily_Usage_Time (minutes)  \\\n",
              "0          1   25      Female  Instagram                         120   \n",
              "1          2   30        Male    Twitter                          90   \n",
              "2          3   22  Non-binary   Facebook                          60   \n",
              "3          4   28      Female  Instagram                         200   \n",
              "4          5   33        Male   LinkedIn                          45   \n",
              "..       ...  ...         ...        ...                         ...   \n",
              "919      996   33  Non-binary    Twitter                          85   \n",
              "920      997   22      Female   Facebook                          70   \n",
              "921      998   35        Male   Whatsapp                         110   \n",
              "922      999   28  Non-binary   Telegram                          60   \n",
              "923     1000   27      Female   Snapchat                         120   \n",
              "\n",
              "     Posts_Per_Day  Likes_Received_Per_Day  Comments_Received_Per_Day  \\\n",
              "0                3                      45                         10   \n",
              "1                5                      20                         25   \n",
              "2                2                      15                          5   \n",
              "3                8                     100                         30   \n",
              "4                1                       5                          2   \n",
              "..             ...                     ...                        ...   \n",
              "919              4                      35                         18   \n",
              "920              1                      14                          6   \n",
              "921              3                      50                         25   \n",
              "922              2                      18                          8   \n",
              "923              4                      40                         18   \n",
              "\n",
              "     Messages_Sent_Per_Day Dominant_Emotion  \n",
              "0                       12        Happiness  \n",
              "1                       30            Anger  \n",
              "2                       20          Neutral  \n",
              "3                       50          Anxiety  \n",
              "4                       10          Boredom  \n",
              "..                     ...              ...  \n",
              "919                     18          Boredom  \n",
              "920                     10          Neutral  \n",
              "921                     25        Happiness  \n",
              "922                     18            Anger  \n",
              "923                     22          Neutral  \n",
              "\n",
              "[924 rows x 10 columns]"
            ]
          },
          "execution_count": 33,
          "metadata": {},
          "output_type": "execute_result"
        }
      ],
      "source": [
        "#ENTER YOUR CODE HERE\n",
        "df2 = pd.read_csv(\"C:/Users/chhon/Downloads/social_well_being.csv\")\n",
        "df2"
      ]
    },
    {
      "cell_type": "markdown",
      "id": "321a910f",
      "metadata": {
        "id": "321a910f"
      },
      "source": [
        "**Always analyse the data.**"
      ]
    },
    {
      "cell_type": "code",
      "execution_count": 34,
      "id": "467c8c66",
      "metadata": {
        "id": "467c8c66"
      },
      "outputs": [],
      "source": [
        "#ENTER YOUR CODE HERE"
      ]
    },
    {
      "cell_type": "code",
      "execution_count": 35,
      "id": "cf99477c",
      "metadata": {
        "colab": {
          "base_uri": "https://localhost:8080/"
        },
        "id": "cf99477c",
        "outputId": "b4e87bc6-22fb-4a19-c33c-4777df7e5c65"
      },
      "outputs": [
        {
          "name": "stdout",
          "output_type": "stream",
          "text": [
            "Number of rows: 924\n",
            "Number of columns: 10\n"
          ]
        }
      ],
      "source": [
        "num_rows = df2.shape[0]\n",
        "num_columns = df2.shape[1]\n",
        "print(\"Number of rows:\", num_rows)\n",
        "print(\"Number of columns:\", num_columns)"
      ]
    },
    {
      "cell_type": "code",
      "execution_count": 36,
      "id": "af924d91",
      "metadata": {
        "colab": {
          "base_uri": "https://localhost:8080/",
          "height": 397
        },
        "id": "af924d91",
        "outputId": "5d4c4594-df81-47e7-f86a-3916dabda0fd"
      },
      "outputs": [
        {
          "data": {
            "text/plain": [
              "User_ID                       0\n",
              "Age                           0\n",
              "Gender                        0\n",
              "Platform                      0\n",
              "Daily_Usage_Time (minutes)    0\n",
              "Posts_Per_Day                 0\n",
              "Likes_Received_Per_Day        0\n",
              "Comments_Received_Per_Day     0\n",
              "Messages_Sent_Per_Day         0\n",
              "Dominant_Emotion              0\n",
              "dtype: int64"
            ]
          },
          "execution_count": 36,
          "metadata": {},
          "output_type": "execute_result"
        }
      ],
      "source": [
        "df2.isnull().sum()"
      ]
    },
    {
      "cell_type": "code",
      "execution_count": 37,
      "id": "80919305",
      "metadata": {
        "colab": {
          "base_uri": "https://localhost:8080/",
          "height": 397
        },
        "id": "80919305",
        "outputId": "146dab53-4877-4c7a-ddd3-6de379475920"
      },
      "outputs": [
        {
          "data": {
            "text/plain": [
              "User_ID                       0\n",
              "Age                           0\n",
              "Gender                        0\n",
              "Platform                      0\n",
              "Daily_Usage_Time (minutes)    0\n",
              "Posts_Per_Day                 0\n",
              "Likes_Received_Per_Day        0\n",
              "Comments_Received_Per_Day     0\n",
              "Messages_Sent_Per_Day         0\n",
              "Dominant_Emotion              0\n",
              "dtype: int64"
            ]
          },
          "execution_count": 37,
          "metadata": {},
          "output_type": "execute_result"
        }
      ],
      "source": [
        "df2.isna().sum()"
      ]
    },
    {
      "cell_type": "code",
      "execution_count": 38,
      "id": "55Fn7n04XN4T",
      "metadata": {
        "colab": {
          "base_uri": "https://localhost:8080/"
        },
        "id": "55Fn7n04XN4T",
        "outputId": "e1210795-a9e5-430f-932d-75b0f41eb325"
      },
      "outputs": [
        {
          "data": {
            "text/plain": [
              "Index(['User_ID', 'Age', 'Gender', 'Platform', 'Daily_Usage_Time (minutes)',\n",
              "       'Posts_Per_Day', 'Likes_Received_Per_Day', 'Comments_Received_Per_Day',\n",
              "       'Messages_Sent_Per_Day', 'Dominant_Emotion'],\n",
              "      dtype='object')"
            ]
          },
          "execution_count": 38,
          "metadata": {},
          "output_type": "execute_result"
        }
      ],
      "source": [
        "df2.columns"
      ]
    },
    {
      "cell_type": "code",
      "execution_count": 39,
      "id": "ZSxU6oN7XSIS",
      "metadata": {
        "colab": {
          "base_uri": "https://localhost:8080/"
        },
        "id": "ZSxU6oN7XSIS",
        "outputId": "ea0c28db-c144-4768-ca24-02090b4c9fd1"
      },
      "outputs": [
        {
          "data": {
            "text/plain": [
              "Index(['Gender', 'Platform', 'Dominant_Emotion'], dtype='object')"
            ]
          },
          "execution_count": 39,
          "metadata": {},
          "output_type": "execute_result"
        }
      ],
      "source": [
        "df2.select_dtypes(include=['object']).columns"
      ]
    },
    {
      "cell_type": "markdown",
      "id": "8b103775",
      "metadata": {
        "id": "8b103775"
      },
      "source": [
        "Since its multiclass-classification, the classes column 'Dominant_Emotion' has more than two classes.\n",
        "\n",
        "**Can you find out what these classes are?**"
      ]
    },
    {
      "cell_type": "code",
      "execution_count": 40,
      "id": "b937f339",
      "metadata": {
        "id": "b937f339"
      },
      "outputs": [],
      "source": [
        "#ENTER YOUR CODE HERE"
      ]
    },
    {
      "cell_type": "code",
      "execution_count": 41,
      "id": "52f3cfbc",
      "metadata": {
        "colab": {
          "base_uri": "https://localhost:8080/"
        },
        "id": "52f3cfbc",
        "outputId": "406f1b15-45ff-45e2-f56e-e71f0bf72df9"
      },
      "outputs": [
        {
          "name": "stdout",
          "output_type": "stream",
          "text": [
            "Types of emotions: ['Happiness' 'Anger' 'Neutral' 'Anxiety' 'Boredom' 'Sadness']\n"
          ]
        }
      ],
      "source": [
        "classes1 = df2['Dominant_Emotion'].unique()\n",
        "print('Types of emotions:',classes1)"
      ]
    },
    {
      "cell_type": "markdown",
      "id": "14ea261c",
      "metadata": {
        "id": "14ea261c"
      },
      "source": [
        "Actually this isn't the only categorical column in the dataset. There are other too.\n",
        "\n",
        "**Print their values as well!**"
      ]
    },
    {
      "cell_type": "code",
      "execution_count": 42,
      "id": "9f1999db",
      "metadata": {
        "id": "9f1999db"
      },
      "outputs": [],
      "source": [
        "#ENTER YOUR CODE HERE"
      ]
    },
    {
      "cell_type": "code",
      "execution_count": 43,
      "id": "1436646a",
      "metadata": {
        "colab": {
          "base_uri": "https://localhost:8080/"
        },
        "id": "1436646a",
        "outputId": "c5fca4b0-f3f6-4551-ac27-def399877d8a"
      },
      "outputs": [
        {
          "name": "stdout",
          "output_type": "stream",
          "text": [
            "Types of genders: ['Female' 'Male' 'Non-binary']\n"
          ]
        }
      ],
      "source": [
        "classes2 = df2['Gender'].unique()\n",
        "print('Types of genders:',classes2)"
      ]
    },
    {
      "cell_type": "code",
      "execution_count": 44,
      "id": "BqNjH5WWbHR-",
      "metadata": {
        "colab": {
          "base_uri": "https://localhost:8080/"
        },
        "id": "BqNjH5WWbHR-",
        "outputId": "624d843e-c237-4100-c96f-845b2aef2b75"
      },
      "outputs": [
        {
          "name": "stdout",
          "output_type": "stream",
          "text": [
            "Types of platforms: ['Instagram' 'Twitter' 'Facebook' 'LinkedIn' 'Whatsapp' 'Telegram'\n",
            " 'Snapchat']\n"
          ]
        }
      ],
      "source": [
        "classes3 = df2['Platform'].unique()\n",
        "print('Types of platforms:',classes3)"
      ]
    },
    {
      "cell_type": "markdown",
      "id": "89312ac6",
      "metadata": {
        "id": "89312ac6"
      },
      "source": [
        "Many models, including KNN, will only work with numerical data. Hence the textual categories need to go. We will use something called \"one-hot encoding\" for transforming our features and \"labelling\" for our categories.\n",
        "\n",
        "**Import the pandas module used for one-hot encoding**"
      ]
    },
    {
      "cell_type": "code",
      "execution_count": 45,
      "id": "540454bc",
      "metadata": {
        "id": "540454bc"
      },
      "outputs": [],
      "source": [
        "#ENTER YOUR CODE HERE\n",
        "import pandas as pd"
      ]
    },
    {
      "cell_type": "markdown",
      "id": "b40c32ee",
      "metadata": {
        "id": "b40c32ee"
      },
      "source": [
        "**First One-Hot Encode the 'Gender' column and replace the 'Gender' column with this.**"
      ]
    },
    {
      "cell_type": "code",
      "execution_count": 46,
      "id": "d2b5f376",
      "metadata": {
        "id": "d2b5f376"
      },
      "outputs": [],
      "source": [
        "#ENTER YOUR CODE HERE"
      ]
    },
    {
      "cell_type": "code",
      "execution_count": 47,
      "id": "0ff7889d",
      "metadata": {
        "id": "0ff7889d"
      },
      "outputs": [],
      "source": [
        "col_index = df2.columns.get_loc('Gender')\n",
        "encoded = pd.get_dummies(df2['Gender'],dtype=int)\n",
        "df2 = df2.drop('Gender', axis=1)\n",
        "for i, col in enumerate(encoded.columns):\n",
        "    df2.insert(col_index + i, col, encoded[col])"
      ]
    },
    {
      "cell_type": "code",
      "execution_count": 48,
      "id": "9HsdMvVNdvq1",
      "metadata": {
        "colab": {
          "base_uri": "https://localhost:8080/",
          "height": 461
        },
        "id": "9HsdMvVNdvq1",
        "outputId": "e9993bbe-234b-4576-d33b-11dd1ba45740"
      },
      "outputs": [
        {
          "data": {
            "text/html": [
              "<div>\n",
              "<style scoped>\n",
              "    .dataframe tbody tr th:only-of-type {\n",
              "        vertical-align: middle;\n",
              "    }\n",
              "\n",
              "    .dataframe tbody tr th {\n",
              "        vertical-align: top;\n",
              "    }\n",
              "\n",
              "    .dataframe thead th {\n",
              "        text-align: right;\n",
              "    }\n",
              "</style>\n",
              "<table border=\"1\" class=\"dataframe\">\n",
              "  <thead>\n",
              "    <tr style=\"text-align: right;\">\n",
              "      <th></th>\n",
              "      <th>User_ID</th>\n",
              "      <th>Age</th>\n",
              "      <th>Female</th>\n",
              "      <th>Male</th>\n",
              "      <th>Non-binary</th>\n",
              "      <th>Platform</th>\n",
              "      <th>Daily_Usage_Time (minutes)</th>\n",
              "      <th>Posts_Per_Day</th>\n",
              "      <th>Likes_Received_Per_Day</th>\n",
              "      <th>Comments_Received_Per_Day</th>\n",
              "      <th>Messages_Sent_Per_Day</th>\n",
              "      <th>Dominant_Emotion</th>\n",
              "    </tr>\n",
              "  </thead>\n",
              "  <tbody>\n",
              "    <tr>\n",
              "      <th>0</th>\n",
              "      <td>1</td>\n",
              "      <td>25</td>\n",
              "      <td>1</td>\n",
              "      <td>0</td>\n",
              "      <td>0</td>\n",
              "      <td>Instagram</td>\n",
              "      <td>120</td>\n",
              "      <td>3</td>\n",
              "      <td>45</td>\n",
              "      <td>10</td>\n",
              "      <td>12</td>\n",
              "      <td>Happiness</td>\n",
              "    </tr>\n",
              "    <tr>\n",
              "      <th>1</th>\n",
              "      <td>2</td>\n",
              "      <td>30</td>\n",
              "      <td>0</td>\n",
              "      <td>1</td>\n",
              "      <td>0</td>\n",
              "      <td>Twitter</td>\n",
              "      <td>90</td>\n",
              "      <td>5</td>\n",
              "      <td>20</td>\n",
              "      <td>25</td>\n",
              "      <td>30</td>\n",
              "      <td>Anger</td>\n",
              "    </tr>\n",
              "    <tr>\n",
              "      <th>2</th>\n",
              "      <td>3</td>\n",
              "      <td>22</td>\n",
              "      <td>0</td>\n",
              "      <td>0</td>\n",
              "      <td>1</td>\n",
              "      <td>Facebook</td>\n",
              "      <td>60</td>\n",
              "      <td>2</td>\n",
              "      <td>15</td>\n",
              "      <td>5</td>\n",
              "      <td>20</td>\n",
              "      <td>Neutral</td>\n",
              "    </tr>\n",
              "    <tr>\n",
              "      <th>3</th>\n",
              "      <td>4</td>\n",
              "      <td>28</td>\n",
              "      <td>1</td>\n",
              "      <td>0</td>\n",
              "      <td>0</td>\n",
              "      <td>Instagram</td>\n",
              "      <td>200</td>\n",
              "      <td>8</td>\n",
              "      <td>100</td>\n",
              "      <td>30</td>\n",
              "      <td>50</td>\n",
              "      <td>Anxiety</td>\n",
              "    </tr>\n",
              "    <tr>\n",
              "      <th>4</th>\n",
              "      <td>5</td>\n",
              "      <td>33</td>\n",
              "      <td>0</td>\n",
              "      <td>1</td>\n",
              "      <td>0</td>\n",
              "      <td>LinkedIn</td>\n",
              "      <td>45</td>\n",
              "      <td>1</td>\n",
              "      <td>5</td>\n",
              "      <td>2</td>\n",
              "      <td>10</td>\n",
              "      <td>Boredom</td>\n",
              "    </tr>\n",
              "    <tr>\n",
              "      <th>...</th>\n",
              "      <td>...</td>\n",
              "      <td>...</td>\n",
              "      <td>...</td>\n",
              "      <td>...</td>\n",
              "      <td>...</td>\n",
              "      <td>...</td>\n",
              "      <td>...</td>\n",
              "      <td>...</td>\n",
              "      <td>...</td>\n",
              "      <td>...</td>\n",
              "      <td>...</td>\n",
              "      <td>...</td>\n",
              "    </tr>\n",
              "    <tr>\n",
              "      <th>919</th>\n",
              "      <td>996</td>\n",
              "      <td>33</td>\n",
              "      <td>0</td>\n",
              "      <td>0</td>\n",
              "      <td>1</td>\n",
              "      <td>Twitter</td>\n",
              "      <td>85</td>\n",
              "      <td>4</td>\n",
              "      <td>35</td>\n",
              "      <td>18</td>\n",
              "      <td>18</td>\n",
              "      <td>Boredom</td>\n",
              "    </tr>\n",
              "    <tr>\n",
              "      <th>920</th>\n",
              "      <td>997</td>\n",
              "      <td>22</td>\n",
              "      <td>1</td>\n",
              "      <td>0</td>\n",
              "      <td>0</td>\n",
              "      <td>Facebook</td>\n",
              "      <td>70</td>\n",
              "      <td>1</td>\n",
              "      <td>14</td>\n",
              "      <td>6</td>\n",
              "      <td>10</td>\n",
              "      <td>Neutral</td>\n",
              "    </tr>\n",
              "    <tr>\n",
              "      <th>921</th>\n",
              "      <td>998</td>\n",
              "      <td>35</td>\n",
              "      <td>0</td>\n",
              "      <td>1</td>\n",
              "      <td>0</td>\n",
              "      <td>Whatsapp</td>\n",
              "      <td>110</td>\n",
              "      <td>3</td>\n",
              "      <td>50</td>\n",
              "      <td>25</td>\n",
              "      <td>25</td>\n",
              "      <td>Happiness</td>\n",
              "    </tr>\n",
              "    <tr>\n",
              "      <th>922</th>\n",
              "      <td>999</td>\n",
              "      <td>28</td>\n",
              "      <td>0</td>\n",
              "      <td>0</td>\n",
              "      <td>1</td>\n",
              "      <td>Telegram</td>\n",
              "      <td>60</td>\n",
              "      <td>2</td>\n",
              "      <td>18</td>\n",
              "      <td>8</td>\n",
              "      <td>18</td>\n",
              "      <td>Anger</td>\n",
              "    </tr>\n",
              "    <tr>\n",
              "      <th>923</th>\n",
              "      <td>1000</td>\n",
              "      <td>27</td>\n",
              "      <td>1</td>\n",
              "      <td>0</td>\n",
              "      <td>0</td>\n",
              "      <td>Snapchat</td>\n",
              "      <td>120</td>\n",
              "      <td>4</td>\n",
              "      <td>40</td>\n",
              "      <td>18</td>\n",
              "      <td>22</td>\n",
              "      <td>Neutral</td>\n",
              "    </tr>\n",
              "  </tbody>\n",
              "</table>\n",
              "<p>924 rows × 12 columns</p>\n",
              "</div>"
            ],
            "text/plain": [
              "     User_ID  Age  Female  Male  Non-binary   Platform  \\\n",
              "0          1   25       1     0           0  Instagram   \n",
              "1          2   30       0     1           0    Twitter   \n",
              "2          3   22       0     0           1   Facebook   \n",
              "3          4   28       1     0           0  Instagram   \n",
              "4          5   33       0     1           0   LinkedIn   \n",
              "..       ...  ...     ...   ...         ...        ...   \n",
              "919      996   33       0     0           1    Twitter   \n",
              "920      997   22       1     0           0   Facebook   \n",
              "921      998   35       0     1           0   Whatsapp   \n",
              "922      999   28       0     0           1   Telegram   \n",
              "923     1000   27       1     0           0   Snapchat   \n",
              "\n",
              "     Daily_Usage_Time (minutes)  Posts_Per_Day  Likes_Received_Per_Day  \\\n",
              "0                           120              3                      45   \n",
              "1                            90              5                      20   \n",
              "2                            60              2                      15   \n",
              "3                           200              8                     100   \n",
              "4                            45              1                       5   \n",
              "..                          ...            ...                     ...   \n",
              "919                          85              4                      35   \n",
              "920                          70              1                      14   \n",
              "921                         110              3                      50   \n",
              "922                          60              2                      18   \n",
              "923                         120              4                      40   \n",
              "\n",
              "     Comments_Received_Per_Day  Messages_Sent_Per_Day Dominant_Emotion  \n",
              "0                           10                     12        Happiness  \n",
              "1                           25                     30            Anger  \n",
              "2                            5                     20          Neutral  \n",
              "3                           30                     50          Anxiety  \n",
              "4                            2                     10          Boredom  \n",
              "..                         ...                    ...              ...  \n",
              "919                         18                     18          Boredom  \n",
              "920                          6                     10          Neutral  \n",
              "921                         25                     25        Happiness  \n",
              "922                          8                     18            Anger  \n",
              "923                         18                     22          Neutral  \n",
              "\n",
              "[924 rows x 12 columns]"
            ]
          },
          "execution_count": 48,
          "metadata": {},
          "output_type": "execute_result"
        }
      ],
      "source": [
        "df2"
      ]
    },
    {
      "cell_type": "markdown",
      "id": "e95e02f3",
      "metadata": {
        "id": "e95e02f3"
      },
      "source": [
        "**Repeat the drill for the column 'Platform'.**"
      ]
    },
    {
      "cell_type": "code",
      "execution_count": 49,
      "id": "4e6c6fef",
      "metadata": {
        "id": "4e6c6fef"
      },
      "outputs": [],
      "source": [
        "#ENTER YOUR CODE HERE"
      ]
    },
    {
      "cell_type": "code",
      "execution_count": 50,
      "id": "117956cb",
      "metadata": {
        "id": "117956cb"
      },
      "outputs": [],
      "source": [
        "col_index = df2.columns.get_loc('Platform')\n",
        "encoded = pd.get_dummies(df2['Platform'],dtype = int)\n",
        "df2 = df2.drop('Platform', axis=1)\n",
        "for i, col in enumerate(encoded.columns):\n",
        "    df2.insert(col_index + i, col, encoded[col])"
      ]
    },
    {
      "cell_type": "code",
      "execution_count": 51,
      "id": "EiI9b6YceKZv",
      "metadata": {
        "colab": {
          "base_uri": "https://localhost:8080/",
          "height": 461
        },
        "id": "EiI9b6YceKZv",
        "outputId": "4d040284-1002-46f9-d081-960e005f8f1a"
      },
      "outputs": [
        {
          "data": {
            "text/html": [
              "<div>\n",
              "<style scoped>\n",
              "    .dataframe tbody tr th:only-of-type {\n",
              "        vertical-align: middle;\n",
              "    }\n",
              "\n",
              "    .dataframe tbody tr th {\n",
              "        vertical-align: top;\n",
              "    }\n",
              "\n",
              "    .dataframe thead th {\n",
              "        text-align: right;\n",
              "    }\n",
              "</style>\n",
              "<table border=\"1\" class=\"dataframe\">\n",
              "  <thead>\n",
              "    <tr style=\"text-align: right;\">\n",
              "      <th></th>\n",
              "      <th>User_ID</th>\n",
              "      <th>Age</th>\n",
              "      <th>Female</th>\n",
              "      <th>Male</th>\n",
              "      <th>Non-binary</th>\n",
              "      <th>Facebook</th>\n",
              "      <th>Instagram</th>\n",
              "      <th>LinkedIn</th>\n",
              "      <th>Snapchat</th>\n",
              "      <th>Telegram</th>\n",
              "      <th>Twitter</th>\n",
              "      <th>Whatsapp</th>\n",
              "      <th>Daily_Usage_Time (minutes)</th>\n",
              "      <th>Posts_Per_Day</th>\n",
              "      <th>Likes_Received_Per_Day</th>\n",
              "      <th>Comments_Received_Per_Day</th>\n",
              "      <th>Messages_Sent_Per_Day</th>\n",
              "      <th>Dominant_Emotion</th>\n",
              "    </tr>\n",
              "  </thead>\n",
              "  <tbody>\n",
              "    <tr>\n",
              "      <th>0</th>\n",
              "      <td>1</td>\n",
              "      <td>25</td>\n",
              "      <td>1</td>\n",
              "      <td>0</td>\n",
              "      <td>0</td>\n",
              "      <td>0</td>\n",
              "      <td>1</td>\n",
              "      <td>0</td>\n",
              "      <td>0</td>\n",
              "      <td>0</td>\n",
              "      <td>0</td>\n",
              "      <td>0</td>\n",
              "      <td>120</td>\n",
              "      <td>3</td>\n",
              "      <td>45</td>\n",
              "      <td>10</td>\n",
              "      <td>12</td>\n",
              "      <td>Happiness</td>\n",
              "    </tr>\n",
              "    <tr>\n",
              "      <th>1</th>\n",
              "      <td>2</td>\n",
              "      <td>30</td>\n",
              "      <td>0</td>\n",
              "      <td>1</td>\n",
              "      <td>0</td>\n",
              "      <td>0</td>\n",
              "      <td>0</td>\n",
              "      <td>0</td>\n",
              "      <td>0</td>\n",
              "      <td>0</td>\n",
              "      <td>1</td>\n",
              "      <td>0</td>\n",
              "      <td>90</td>\n",
              "      <td>5</td>\n",
              "      <td>20</td>\n",
              "      <td>25</td>\n",
              "      <td>30</td>\n",
              "      <td>Anger</td>\n",
              "    </tr>\n",
              "    <tr>\n",
              "      <th>2</th>\n",
              "      <td>3</td>\n",
              "      <td>22</td>\n",
              "      <td>0</td>\n",
              "      <td>0</td>\n",
              "      <td>1</td>\n",
              "      <td>1</td>\n",
              "      <td>0</td>\n",
              "      <td>0</td>\n",
              "      <td>0</td>\n",
              "      <td>0</td>\n",
              "      <td>0</td>\n",
              "      <td>0</td>\n",
              "      <td>60</td>\n",
              "      <td>2</td>\n",
              "      <td>15</td>\n",
              "      <td>5</td>\n",
              "      <td>20</td>\n",
              "      <td>Neutral</td>\n",
              "    </tr>\n",
              "    <tr>\n",
              "      <th>3</th>\n",
              "      <td>4</td>\n",
              "      <td>28</td>\n",
              "      <td>1</td>\n",
              "      <td>0</td>\n",
              "      <td>0</td>\n",
              "      <td>0</td>\n",
              "      <td>1</td>\n",
              "      <td>0</td>\n",
              "      <td>0</td>\n",
              "      <td>0</td>\n",
              "      <td>0</td>\n",
              "      <td>0</td>\n",
              "      <td>200</td>\n",
              "      <td>8</td>\n",
              "      <td>100</td>\n",
              "      <td>30</td>\n",
              "      <td>50</td>\n",
              "      <td>Anxiety</td>\n",
              "    </tr>\n",
              "    <tr>\n",
              "      <th>4</th>\n",
              "      <td>5</td>\n",
              "      <td>33</td>\n",
              "      <td>0</td>\n",
              "      <td>1</td>\n",
              "      <td>0</td>\n",
              "      <td>0</td>\n",
              "      <td>0</td>\n",
              "      <td>1</td>\n",
              "      <td>0</td>\n",
              "      <td>0</td>\n",
              "      <td>0</td>\n",
              "      <td>0</td>\n",
              "      <td>45</td>\n",
              "      <td>1</td>\n",
              "      <td>5</td>\n",
              "      <td>2</td>\n",
              "      <td>10</td>\n",
              "      <td>Boredom</td>\n",
              "    </tr>\n",
              "    <tr>\n",
              "      <th>...</th>\n",
              "      <td>...</td>\n",
              "      <td>...</td>\n",
              "      <td>...</td>\n",
              "      <td>...</td>\n",
              "      <td>...</td>\n",
              "      <td>...</td>\n",
              "      <td>...</td>\n",
              "      <td>...</td>\n",
              "      <td>...</td>\n",
              "      <td>...</td>\n",
              "      <td>...</td>\n",
              "      <td>...</td>\n",
              "      <td>...</td>\n",
              "      <td>...</td>\n",
              "      <td>...</td>\n",
              "      <td>...</td>\n",
              "      <td>...</td>\n",
              "      <td>...</td>\n",
              "    </tr>\n",
              "    <tr>\n",
              "      <th>919</th>\n",
              "      <td>996</td>\n",
              "      <td>33</td>\n",
              "      <td>0</td>\n",
              "      <td>0</td>\n",
              "      <td>1</td>\n",
              "      <td>0</td>\n",
              "      <td>0</td>\n",
              "      <td>0</td>\n",
              "      <td>0</td>\n",
              "      <td>0</td>\n",
              "      <td>1</td>\n",
              "      <td>0</td>\n",
              "      <td>85</td>\n",
              "      <td>4</td>\n",
              "      <td>35</td>\n",
              "      <td>18</td>\n",
              "      <td>18</td>\n",
              "      <td>Boredom</td>\n",
              "    </tr>\n",
              "    <tr>\n",
              "      <th>920</th>\n",
              "      <td>997</td>\n",
              "      <td>22</td>\n",
              "      <td>1</td>\n",
              "      <td>0</td>\n",
              "      <td>0</td>\n",
              "      <td>1</td>\n",
              "      <td>0</td>\n",
              "      <td>0</td>\n",
              "      <td>0</td>\n",
              "      <td>0</td>\n",
              "      <td>0</td>\n",
              "      <td>0</td>\n",
              "      <td>70</td>\n",
              "      <td>1</td>\n",
              "      <td>14</td>\n",
              "      <td>6</td>\n",
              "      <td>10</td>\n",
              "      <td>Neutral</td>\n",
              "    </tr>\n",
              "    <tr>\n",
              "      <th>921</th>\n",
              "      <td>998</td>\n",
              "      <td>35</td>\n",
              "      <td>0</td>\n",
              "      <td>1</td>\n",
              "      <td>0</td>\n",
              "      <td>0</td>\n",
              "      <td>0</td>\n",
              "      <td>0</td>\n",
              "      <td>0</td>\n",
              "      <td>0</td>\n",
              "      <td>0</td>\n",
              "      <td>1</td>\n",
              "      <td>110</td>\n",
              "      <td>3</td>\n",
              "      <td>50</td>\n",
              "      <td>25</td>\n",
              "      <td>25</td>\n",
              "      <td>Happiness</td>\n",
              "    </tr>\n",
              "    <tr>\n",
              "      <th>922</th>\n",
              "      <td>999</td>\n",
              "      <td>28</td>\n",
              "      <td>0</td>\n",
              "      <td>0</td>\n",
              "      <td>1</td>\n",
              "      <td>0</td>\n",
              "      <td>0</td>\n",
              "      <td>0</td>\n",
              "      <td>0</td>\n",
              "      <td>1</td>\n",
              "      <td>0</td>\n",
              "      <td>0</td>\n",
              "      <td>60</td>\n",
              "      <td>2</td>\n",
              "      <td>18</td>\n",
              "      <td>8</td>\n",
              "      <td>18</td>\n",
              "      <td>Anger</td>\n",
              "    </tr>\n",
              "    <tr>\n",
              "      <th>923</th>\n",
              "      <td>1000</td>\n",
              "      <td>27</td>\n",
              "      <td>1</td>\n",
              "      <td>0</td>\n",
              "      <td>0</td>\n",
              "      <td>0</td>\n",
              "      <td>0</td>\n",
              "      <td>0</td>\n",
              "      <td>1</td>\n",
              "      <td>0</td>\n",
              "      <td>0</td>\n",
              "      <td>0</td>\n",
              "      <td>120</td>\n",
              "      <td>4</td>\n",
              "      <td>40</td>\n",
              "      <td>18</td>\n",
              "      <td>22</td>\n",
              "      <td>Neutral</td>\n",
              "    </tr>\n",
              "  </tbody>\n",
              "</table>\n",
              "<p>924 rows × 18 columns</p>\n",
              "</div>"
            ],
            "text/plain": [
              "     User_ID  Age  Female  Male  Non-binary  Facebook  Instagram  LinkedIn  \\\n",
              "0          1   25       1     0           0         0          1         0   \n",
              "1          2   30       0     1           0         0          0         0   \n",
              "2          3   22       0     0           1         1          0         0   \n",
              "3          4   28       1     0           0         0          1         0   \n",
              "4          5   33       0     1           0         0          0         1   \n",
              "..       ...  ...     ...   ...         ...       ...        ...       ...   \n",
              "919      996   33       0     0           1         0          0         0   \n",
              "920      997   22       1     0           0         1          0         0   \n",
              "921      998   35       0     1           0         0          0         0   \n",
              "922      999   28       0     0           1         0          0         0   \n",
              "923     1000   27       1     0           0         0          0         0   \n",
              "\n",
              "     Snapchat  Telegram  Twitter  Whatsapp  Daily_Usage_Time (minutes)  \\\n",
              "0           0         0        0         0                         120   \n",
              "1           0         0        1         0                          90   \n",
              "2           0         0        0         0                          60   \n",
              "3           0         0        0         0                         200   \n",
              "4           0         0        0         0                          45   \n",
              "..        ...       ...      ...       ...                         ...   \n",
              "919         0         0        1         0                          85   \n",
              "920         0         0        0         0                          70   \n",
              "921         0         0        0         1                         110   \n",
              "922         0         1        0         0                          60   \n",
              "923         1         0        0         0                         120   \n",
              "\n",
              "     Posts_Per_Day  Likes_Received_Per_Day  Comments_Received_Per_Day  \\\n",
              "0                3                      45                         10   \n",
              "1                5                      20                         25   \n",
              "2                2                      15                          5   \n",
              "3                8                     100                         30   \n",
              "4                1                       5                          2   \n",
              "..             ...                     ...                        ...   \n",
              "919              4                      35                         18   \n",
              "920              1                      14                          6   \n",
              "921              3                      50                         25   \n",
              "922              2                      18                          8   \n",
              "923              4                      40                         18   \n",
              "\n",
              "     Messages_Sent_Per_Day Dominant_Emotion  \n",
              "0                       12        Happiness  \n",
              "1                       30            Anger  \n",
              "2                       20          Neutral  \n",
              "3                       50          Anxiety  \n",
              "4                       10          Boredom  \n",
              "..                     ...              ...  \n",
              "919                     18          Boredom  \n",
              "920                     10          Neutral  \n",
              "921                     25        Happiness  \n",
              "922                     18            Anger  \n",
              "923                     22          Neutral  \n",
              "\n",
              "[924 rows x 18 columns]"
            ]
          },
          "execution_count": 51,
          "metadata": {},
          "output_type": "execute_result"
        }
      ],
      "source": [
        "df2"
      ]
    },
    {
      "cell_type": "markdown",
      "id": "5c7e8ba6",
      "metadata": {
        "id": "5c7e8ba6"
      },
      "source": [
        "Last categorical feature is our label column.\n",
        "\n",
        "**Import the module used for label encoding.**"
      ]
    },
    {
      "cell_type": "code",
      "execution_count": 52,
      "id": "88e0d9be",
      "metadata": {
        "id": "88e0d9be"
      },
      "outputs": [],
      "source": [
        "#ENTER YOUR CODE HERE\n",
        "from sklearn.preprocessing import LabelEncoder"
      ]
    },
    {
      "cell_type": "markdown",
      "id": "e02a0ece",
      "metadata": {
        "id": "e02a0ece"
      },
      "source": [
        "**Now label encode the column 'Dominant_Emotion'**"
      ]
    },
    {
      "cell_type": "code",
      "execution_count": 53,
      "id": "ecba97af",
      "metadata": {
        "id": "ecba97af"
      },
      "outputs": [],
      "source": [
        "#ENTER YOUR CODE HERE"
      ]
    },
    {
      "cell_type": "code",
      "execution_count": 54,
      "id": "933767cc",
      "metadata": {
        "colab": {
          "base_uri": "https://localhost:8080/",
          "height": 461
        },
        "id": "933767cc",
        "outputId": "d3504686-c2e3-465b-d52e-60ec3e0dfb21"
      },
      "outputs": [
        {
          "data": {
            "text/html": [
              "<div>\n",
              "<style scoped>\n",
              "    .dataframe tbody tr th:only-of-type {\n",
              "        vertical-align: middle;\n",
              "    }\n",
              "\n",
              "    .dataframe tbody tr th {\n",
              "        vertical-align: top;\n",
              "    }\n",
              "\n",
              "    .dataframe thead th {\n",
              "        text-align: right;\n",
              "    }\n",
              "</style>\n",
              "<table border=\"1\" class=\"dataframe\">\n",
              "  <thead>\n",
              "    <tr style=\"text-align: right;\">\n",
              "      <th></th>\n",
              "      <th>User_ID</th>\n",
              "      <th>Age</th>\n",
              "      <th>Female</th>\n",
              "      <th>Male</th>\n",
              "      <th>Non-binary</th>\n",
              "      <th>Facebook</th>\n",
              "      <th>Instagram</th>\n",
              "      <th>LinkedIn</th>\n",
              "      <th>Snapchat</th>\n",
              "      <th>Telegram</th>\n",
              "      <th>Twitter</th>\n",
              "      <th>Whatsapp</th>\n",
              "      <th>Daily_Usage_Time (minutes)</th>\n",
              "      <th>Posts_Per_Day</th>\n",
              "      <th>Likes_Received_Per_Day</th>\n",
              "      <th>Comments_Received_Per_Day</th>\n",
              "      <th>Messages_Sent_Per_Day</th>\n",
              "      <th>Dominant_Emotion</th>\n",
              "    </tr>\n",
              "  </thead>\n",
              "  <tbody>\n",
              "    <tr>\n",
              "      <th>0</th>\n",
              "      <td>1</td>\n",
              "      <td>25</td>\n",
              "      <td>1</td>\n",
              "      <td>0</td>\n",
              "      <td>0</td>\n",
              "      <td>0</td>\n",
              "      <td>1</td>\n",
              "      <td>0</td>\n",
              "      <td>0</td>\n",
              "      <td>0</td>\n",
              "      <td>0</td>\n",
              "      <td>0</td>\n",
              "      <td>120</td>\n",
              "      <td>3</td>\n",
              "      <td>45</td>\n",
              "      <td>10</td>\n",
              "      <td>12</td>\n",
              "      <td>3</td>\n",
              "    </tr>\n",
              "    <tr>\n",
              "      <th>1</th>\n",
              "      <td>2</td>\n",
              "      <td>30</td>\n",
              "      <td>0</td>\n",
              "      <td>1</td>\n",
              "      <td>0</td>\n",
              "      <td>0</td>\n",
              "      <td>0</td>\n",
              "      <td>0</td>\n",
              "      <td>0</td>\n",
              "      <td>0</td>\n",
              "      <td>1</td>\n",
              "      <td>0</td>\n",
              "      <td>90</td>\n",
              "      <td>5</td>\n",
              "      <td>20</td>\n",
              "      <td>25</td>\n",
              "      <td>30</td>\n",
              "      <td>0</td>\n",
              "    </tr>\n",
              "    <tr>\n",
              "      <th>2</th>\n",
              "      <td>3</td>\n",
              "      <td>22</td>\n",
              "      <td>0</td>\n",
              "      <td>0</td>\n",
              "      <td>1</td>\n",
              "      <td>1</td>\n",
              "      <td>0</td>\n",
              "      <td>0</td>\n",
              "      <td>0</td>\n",
              "      <td>0</td>\n",
              "      <td>0</td>\n",
              "      <td>0</td>\n",
              "      <td>60</td>\n",
              "      <td>2</td>\n",
              "      <td>15</td>\n",
              "      <td>5</td>\n",
              "      <td>20</td>\n",
              "      <td>4</td>\n",
              "    </tr>\n",
              "    <tr>\n",
              "      <th>3</th>\n",
              "      <td>4</td>\n",
              "      <td>28</td>\n",
              "      <td>1</td>\n",
              "      <td>0</td>\n",
              "      <td>0</td>\n",
              "      <td>0</td>\n",
              "      <td>1</td>\n",
              "      <td>0</td>\n",
              "      <td>0</td>\n",
              "      <td>0</td>\n",
              "      <td>0</td>\n",
              "      <td>0</td>\n",
              "      <td>200</td>\n",
              "      <td>8</td>\n",
              "      <td>100</td>\n",
              "      <td>30</td>\n",
              "      <td>50</td>\n",
              "      <td>1</td>\n",
              "    </tr>\n",
              "    <tr>\n",
              "      <th>4</th>\n",
              "      <td>5</td>\n",
              "      <td>33</td>\n",
              "      <td>0</td>\n",
              "      <td>1</td>\n",
              "      <td>0</td>\n",
              "      <td>0</td>\n",
              "      <td>0</td>\n",
              "      <td>1</td>\n",
              "      <td>0</td>\n",
              "      <td>0</td>\n",
              "      <td>0</td>\n",
              "      <td>0</td>\n",
              "      <td>45</td>\n",
              "      <td>1</td>\n",
              "      <td>5</td>\n",
              "      <td>2</td>\n",
              "      <td>10</td>\n",
              "      <td>2</td>\n",
              "    </tr>\n",
              "    <tr>\n",
              "      <th>...</th>\n",
              "      <td>...</td>\n",
              "      <td>...</td>\n",
              "      <td>...</td>\n",
              "      <td>...</td>\n",
              "      <td>...</td>\n",
              "      <td>...</td>\n",
              "      <td>...</td>\n",
              "      <td>...</td>\n",
              "      <td>...</td>\n",
              "      <td>...</td>\n",
              "      <td>...</td>\n",
              "      <td>...</td>\n",
              "      <td>...</td>\n",
              "      <td>...</td>\n",
              "      <td>...</td>\n",
              "      <td>...</td>\n",
              "      <td>...</td>\n",
              "      <td>...</td>\n",
              "    </tr>\n",
              "    <tr>\n",
              "      <th>919</th>\n",
              "      <td>996</td>\n",
              "      <td>33</td>\n",
              "      <td>0</td>\n",
              "      <td>0</td>\n",
              "      <td>1</td>\n",
              "      <td>0</td>\n",
              "      <td>0</td>\n",
              "      <td>0</td>\n",
              "      <td>0</td>\n",
              "      <td>0</td>\n",
              "      <td>1</td>\n",
              "      <td>0</td>\n",
              "      <td>85</td>\n",
              "      <td>4</td>\n",
              "      <td>35</td>\n",
              "      <td>18</td>\n",
              "      <td>18</td>\n",
              "      <td>2</td>\n",
              "    </tr>\n",
              "    <tr>\n",
              "      <th>920</th>\n",
              "      <td>997</td>\n",
              "      <td>22</td>\n",
              "      <td>1</td>\n",
              "      <td>0</td>\n",
              "      <td>0</td>\n",
              "      <td>1</td>\n",
              "      <td>0</td>\n",
              "      <td>0</td>\n",
              "      <td>0</td>\n",
              "      <td>0</td>\n",
              "      <td>0</td>\n",
              "      <td>0</td>\n",
              "      <td>70</td>\n",
              "      <td>1</td>\n",
              "      <td>14</td>\n",
              "      <td>6</td>\n",
              "      <td>10</td>\n",
              "      <td>4</td>\n",
              "    </tr>\n",
              "    <tr>\n",
              "      <th>921</th>\n",
              "      <td>998</td>\n",
              "      <td>35</td>\n",
              "      <td>0</td>\n",
              "      <td>1</td>\n",
              "      <td>0</td>\n",
              "      <td>0</td>\n",
              "      <td>0</td>\n",
              "      <td>0</td>\n",
              "      <td>0</td>\n",
              "      <td>0</td>\n",
              "      <td>0</td>\n",
              "      <td>1</td>\n",
              "      <td>110</td>\n",
              "      <td>3</td>\n",
              "      <td>50</td>\n",
              "      <td>25</td>\n",
              "      <td>25</td>\n",
              "      <td>3</td>\n",
              "    </tr>\n",
              "    <tr>\n",
              "      <th>922</th>\n",
              "      <td>999</td>\n",
              "      <td>28</td>\n",
              "      <td>0</td>\n",
              "      <td>0</td>\n",
              "      <td>1</td>\n",
              "      <td>0</td>\n",
              "      <td>0</td>\n",
              "      <td>0</td>\n",
              "      <td>0</td>\n",
              "      <td>1</td>\n",
              "      <td>0</td>\n",
              "      <td>0</td>\n",
              "      <td>60</td>\n",
              "      <td>2</td>\n",
              "      <td>18</td>\n",
              "      <td>8</td>\n",
              "      <td>18</td>\n",
              "      <td>0</td>\n",
              "    </tr>\n",
              "    <tr>\n",
              "      <th>923</th>\n",
              "      <td>1000</td>\n",
              "      <td>27</td>\n",
              "      <td>1</td>\n",
              "      <td>0</td>\n",
              "      <td>0</td>\n",
              "      <td>0</td>\n",
              "      <td>0</td>\n",
              "      <td>0</td>\n",
              "      <td>1</td>\n",
              "      <td>0</td>\n",
              "      <td>0</td>\n",
              "      <td>0</td>\n",
              "      <td>120</td>\n",
              "      <td>4</td>\n",
              "      <td>40</td>\n",
              "      <td>18</td>\n",
              "      <td>22</td>\n",
              "      <td>4</td>\n",
              "    </tr>\n",
              "  </tbody>\n",
              "</table>\n",
              "<p>924 rows × 18 columns</p>\n",
              "</div>"
            ],
            "text/plain": [
              "     User_ID  Age  Female  Male  Non-binary  Facebook  Instagram  LinkedIn  \\\n",
              "0          1   25       1     0           0         0          1         0   \n",
              "1          2   30       0     1           0         0          0         0   \n",
              "2          3   22       0     0           1         1          0         0   \n",
              "3          4   28       1     0           0         0          1         0   \n",
              "4          5   33       0     1           0         0          0         1   \n",
              "..       ...  ...     ...   ...         ...       ...        ...       ...   \n",
              "919      996   33       0     0           1         0          0         0   \n",
              "920      997   22       1     0           0         1          0         0   \n",
              "921      998   35       0     1           0         0          0         0   \n",
              "922      999   28       0     0           1         0          0         0   \n",
              "923     1000   27       1     0           0         0          0         0   \n",
              "\n",
              "     Snapchat  Telegram  Twitter  Whatsapp  Daily_Usage_Time (minutes)  \\\n",
              "0           0         0        0         0                         120   \n",
              "1           0         0        1         0                          90   \n",
              "2           0         0        0         0                          60   \n",
              "3           0         0        0         0                         200   \n",
              "4           0         0        0         0                          45   \n",
              "..        ...       ...      ...       ...                         ...   \n",
              "919         0         0        1         0                          85   \n",
              "920         0         0        0         0                          70   \n",
              "921         0         0        0         1                         110   \n",
              "922         0         1        0         0                          60   \n",
              "923         1         0        0         0                         120   \n",
              "\n",
              "     Posts_Per_Day  Likes_Received_Per_Day  Comments_Received_Per_Day  \\\n",
              "0                3                      45                         10   \n",
              "1                5                      20                         25   \n",
              "2                2                      15                          5   \n",
              "3                8                     100                         30   \n",
              "4                1                       5                          2   \n",
              "..             ...                     ...                        ...   \n",
              "919              4                      35                         18   \n",
              "920              1                      14                          6   \n",
              "921              3                      50                         25   \n",
              "922              2                      18                          8   \n",
              "923              4                      40                         18   \n",
              "\n",
              "     Messages_Sent_Per_Day  Dominant_Emotion  \n",
              "0                       12                 3  \n",
              "1                       30                 0  \n",
              "2                       20                 4  \n",
              "3                       50                 1  \n",
              "4                       10                 2  \n",
              "..                     ...               ...  \n",
              "919                     18                 2  \n",
              "920                     10                 4  \n",
              "921                     25                 3  \n",
              "922                     18                 0  \n",
              "923                     22                 4  \n",
              "\n",
              "[924 rows x 18 columns]"
            ]
          },
          "execution_count": 54,
          "metadata": {},
          "output_type": "execute_result"
        }
      ],
      "source": [
        "lbe = LabelEncoder()\n",
        "df2['Dominant_Emotion'] = lbe.fit_transform(df2['Dominant_Emotion'])\n",
        "df2"
      ]
    },
    {
      "cell_type": "code",
      "execution_count": 55,
      "id": "c_3GF_IKf4oG",
      "metadata": {
        "colab": {
          "base_uri": "https://localhost:8080/"
        },
        "id": "c_3GF_IKf4oG",
        "outputId": "307ba34a-08f1-40bb-a77d-fe068f42351e"
      },
      "outputs": [
        {
          "name": "stdout",
          "output_type": "stream",
          "text": [
            "Anger : 0\n",
            "Anxiety : 1\n",
            "Boredom : 2\n",
            "Happiness : 3\n",
            "Neutral : 4\n",
            "Sadness : 5\n"
          ]
        }
      ],
      "source": [
        "for i, label in enumerate(lbe.classes_):\n",
        "    print(f\"{label} : {i}\")"
      ]
    },
    {
      "cell_type": "markdown",
      "id": "806867c8",
      "metadata": {
        "id": "806867c8"
      },
      "source": [
        "Now we have only numerical data, phew! Lets start training!\n",
        "\n",
        "**Create the freatures dataframe and the labels dataframe as we had done before, and split them into train and test parts. Do you need to import the libraries again?**"
      ]
    },
    {
      "cell_type": "code",
      "execution_count": 56,
      "id": "fe5d5076",
      "metadata": {
        "id": "fe5d5076"
      },
      "outputs": [],
      "source": [
        "#ENTER YOUR CODE HERE"
      ]
    },
    {
      "cell_type": "code",
      "execution_count": 57,
      "id": "07a812ca",
      "metadata": {
        "colab": {
          "base_uri": "https://localhost:8080/"
        },
        "id": "07a812ca",
        "outputId": "92caecf8-4a28-4d19-db6a-b98b2ea12f5b"
      },
      "outputs": [
        {
          "name": "stdout",
          "output_type": "stream",
          "text": [
            "Shape of the features dataframe is: (924, 16)\n",
            "Shape of the labels dataframe is: (924,)\n"
          ]
        }
      ],
      "source": [
        "X2 = df2.drop(['Dominant_Emotion','User_ID'], axis=1)\n",
        "y2 = df2['Dominant_Emotion']\n",
        "print('Shape of the features dataframe is:', X2.shape)\n",
        "print('Shape of the labels dataframe is:', y2.shape)"
      ]
    },
    {
      "cell_type": "code",
      "execution_count": 58,
      "id": "YcmzEndtg9RE",
      "metadata": {
        "colab": {
          "base_uri": "https://localhost:8080/",
          "height": 547
        },
        "id": "YcmzEndtg9RE",
        "outputId": "cfde64a4-0fd0-4680-df83-38f4779ec601"
      },
      "outputs": [
        {
          "name": "stdout",
          "output_type": "stream",
          "text": [
            "Shape of the training features dataframe is: (739, 16)\n",
            "Shape of the training labels dataframe is: (739,)\n",
            "Shape of the testing features dataframe is: (185, 16)\n",
            "Shape of the testing labels dataframe is: (185,)\n",
            "The train to test split ratio 3.9945945945945946\n"
          ]
        },
        {
          "data": {
            "text/html": [
              "<div>\n",
              "<style scoped>\n",
              "    .dataframe tbody tr th:only-of-type {\n",
              "        vertical-align: middle;\n",
              "    }\n",
              "\n",
              "    .dataframe tbody tr th {\n",
              "        vertical-align: top;\n",
              "    }\n",
              "\n",
              "    .dataframe thead th {\n",
              "        text-align: right;\n",
              "    }\n",
              "</style>\n",
              "<table border=\"1\" class=\"dataframe\">\n",
              "  <thead>\n",
              "    <tr style=\"text-align: right;\">\n",
              "      <th></th>\n",
              "      <th>Age</th>\n",
              "      <th>Female</th>\n",
              "      <th>Male</th>\n",
              "      <th>Non-binary</th>\n",
              "      <th>Facebook</th>\n",
              "      <th>Instagram</th>\n",
              "      <th>LinkedIn</th>\n",
              "      <th>Snapchat</th>\n",
              "      <th>Telegram</th>\n",
              "      <th>Twitter</th>\n",
              "      <th>Whatsapp</th>\n",
              "      <th>Daily_Usage_Time (minutes)</th>\n",
              "      <th>Posts_Per_Day</th>\n",
              "      <th>Likes_Received_Per_Day</th>\n",
              "      <th>Comments_Received_Per_Day</th>\n",
              "      <th>Messages_Sent_Per_Day</th>\n",
              "    </tr>\n",
              "  </thead>\n",
              "  <tbody>\n",
              "    <tr>\n",
              "      <th>97</th>\n",
              "      <td>35</td>\n",
              "      <td>0</td>\n",
              "      <td>1</td>\n",
              "      <td>0</td>\n",
              "      <td>0</td>\n",
              "      <td>0</td>\n",
              "      <td>0</td>\n",
              "      <td>0</td>\n",
              "      <td>0</td>\n",
              "      <td>0</td>\n",
              "      <td>1</td>\n",
              "      <td>110</td>\n",
              "      <td>3</td>\n",
              "      <td>45</td>\n",
              "      <td>20</td>\n",
              "      <td>25</td>\n",
              "    </tr>\n",
              "    <tr>\n",
              "      <th>227</th>\n",
              "      <td>25</td>\n",
              "      <td>1</td>\n",
              "      <td>0</td>\n",
              "      <td>0</td>\n",
              "      <td>0</td>\n",
              "      <td>1</td>\n",
              "      <td>0</td>\n",
              "      <td>0</td>\n",
              "      <td>0</td>\n",
              "      <td>0</td>\n",
              "      <td>0</td>\n",
              "      <td>160</td>\n",
              "      <td>6</td>\n",
              "      <td>85</td>\n",
              "      <td>26</td>\n",
              "      <td>30</td>\n",
              "    </tr>\n",
              "    <tr>\n",
              "      <th>692</th>\n",
              "      <td>34</td>\n",
              "      <td>1</td>\n",
              "      <td>0</td>\n",
              "      <td>0</td>\n",
              "      <td>0</td>\n",
              "      <td>0</td>\n",
              "      <td>1</td>\n",
              "      <td>0</td>\n",
              "      <td>0</td>\n",
              "      <td>0</td>\n",
              "      <td>0</td>\n",
              "      <td>65</td>\n",
              "      <td>2</td>\n",
              "      <td>17</td>\n",
              "      <td>5</td>\n",
              "      <td>14</td>\n",
              "    </tr>\n",
              "    <tr>\n",
              "      <th>587</th>\n",
              "      <td>31</td>\n",
              "      <td>0</td>\n",
              "      <td>1</td>\n",
              "      <td>0</td>\n",
              "      <td>1</td>\n",
              "      <td>0</td>\n",
              "      <td>0</td>\n",
              "      <td>0</td>\n",
              "      <td>0</td>\n",
              "      <td>0</td>\n",
              "      <td>0</td>\n",
              "      <td>80</td>\n",
              "      <td>2</td>\n",
              "      <td>20</td>\n",
              "      <td>10</td>\n",
              "      <td>20</td>\n",
              "    </tr>\n",
              "    <tr>\n",
              "      <th>884</th>\n",
              "      <td>30</td>\n",
              "      <td>1</td>\n",
              "      <td>0</td>\n",
              "      <td>0</td>\n",
              "      <td>0</td>\n",
              "      <td>1</td>\n",
              "      <td>0</td>\n",
              "      <td>0</td>\n",
              "      <td>0</td>\n",
              "      <td>0</td>\n",
              "      <td>0</td>\n",
              "      <td>175</td>\n",
              "      <td>6</td>\n",
              "      <td>72</td>\n",
              "      <td>30</td>\n",
              "      <td>33</td>\n",
              "    </tr>\n",
              "    <tr>\n",
              "      <th>...</th>\n",
              "      <td>...</td>\n",
              "      <td>...</td>\n",
              "      <td>...</td>\n",
              "      <td>...</td>\n",
              "      <td>...</td>\n",
              "      <td>...</td>\n",
              "      <td>...</td>\n",
              "      <td>...</td>\n",
              "      <td>...</td>\n",
              "      <td>...</td>\n",
              "      <td>...</td>\n",
              "      <td>...</td>\n",
              "      <td>...</td>\n",
              "      <td>...</td>\n",
              "      <td>...</td>\n",
              "      <td>...</td>\n",
              "    </tr>\n",
              "    <tr>\n",
              "      <th>106</th>\n",
              "      <td>27</td>\n",
              "      <td>1</td>\n",
              "      <td>0</td>\n",
              "      <td>0</td>\n",
              "      <td>0</td>\n",
              "      <td>0</td>\n",
              "      <td>0</td>\n",
              "      <td>0</td>\n",
              "      <td>0</td>\n",
              "      <td>1</td>\n",
              "      <td>0</td>\n",
              "      <td>85</td>\n",
              "      <td>3</td>\n",
              "      <td>40</td>\n",
              "      <td>18</td>\n",
              "      <td>20</td>\n",
              "    </tr>\n",
              "    <tr>\n",
              "      <th>270</th>\n",
              "      <td>29</td>\n",
              "      <td>1</td>\n",
              "      <td>0</td>\n",
              "      <td>0</td>\n",
              "      <td>0</td>\n",
              "      <td>0</td>\n",
              "      <td>1</td>\n",
              "      <td>0</td>\n",
              "      <td>0</td>\n",
              "      <td>0</td>\n",
              "      <td>0</td>\n",
              "      <td>55</td>\n",
              "      <td>2</td>\n",
              "      <td>15</td>\n",
              "      <td>5</td>\n",
              "      <td>10</td>\n",
              "    </tr>\n",
              "    <tr>\n",
              "      <th>860</th>\n",
              "      <td>33</td>\n",
              "      <td>1</td>\n",
              "      <td>0</td>\n",
              "      <td>0</td>\n",
              "      <td>0</td>\n",
              "      <td>1</td>\n",
              "      <td>0</td>\n",
              "      <td>0</td>\n",
              "      <td>0</td>\n",
              "      <td>0</td>\n",
              "      <td>0</td>\n",
              "      <td>170</td>\n",
              "      <td>7</td>\n",
              "      <td>95</td>\n",
              "      <td>30</td>\n",
              "      <td>38</td>\n",
              "    </tr>\n",
              "    <tr>\n",
              "      <th>435</th>\n",
              "      <td>29</td>\n",
              "      <td>1</td>\n",
              "      <td>0</td>\n",
              "      <td>0</td>\n",
              "      <td>0</td>\n",
              "      <td>0</td>\n",
              "      <td>0</td>\n",
              "      <td>0</td>\n",
              "      <td>0</td>\n",
              "      <td>0</td>\n",
              "      <td>1</td>\n",
              "      <td>90</td>\n",
              "      <td>2</td>\n",
              "      <td>24</td>\n",
              "      <td>12</td>\n",
              "      <td>22</td>\n",
              "    </tr>\n",
              "    <tr>\n",
              "      <th>102</th>\n",
              "      <td>22</td>\n",
              "      <td>0</td>\n",
              "      <td>0</td>\n",
              "      <td>1</td>\n",
              "      <td>1</td>\n",
              "      <td>0</td>\n",
              "      <td>0</td>\n",
              "      <td>0</td>\n",
              "      <td>0</td>\n",
              "      <td>0</td>\n",
              "      <td>0</td>\n",
              "      <td>60</td>\n",
              "      <td>2</td>\n",
              "      <td>20</td>\n",
              "      <td>10</td>\n",
              "      <td>15</td>\n",
              "    </tr>\n",
              "  </tbody>\n",
              "</table>\n",
              "<p>739 rows × 16 columns</p>\n",
              "</div>"
            ],
            "text/plain": [
              "     Age  Female  Male  Non-binary  Facebook  Instagram  LinkedIn  Snapchat  \\\n",
              "97    35       0     1           0         0          0         0         0   \n",
              "227   25       1     0           0         0          1         0         0   \n",
              "692   34       1     0           0         0          0         1         0   \n",
              "587   31       0     1           0         1          0         0         0   \n",
              "884   30       1     0           0         0          1         0         0   \n",
              "..   ...     ...   ...         ...       ...        ...       ...       ...   \n",
              "106   27       1     0           0         0          0         0         0   \n",
              "270   29       1     0           0         0          0         1         0   \n",
              "860   33       1     0           0         0          1         0         0   \n",
              "435   29       1     0           0         0          0         0         0   \n",
              "102   22       0     0           1         1          0         0         0   \n",
              "\n",
              "     Telegram  Twitter  Whatsapp  Daily_Usage_Time (minutes)  Posts_Per_Day  \\\n",
              "97          0        0         1                         110              3   \n",
              "227         0        0         0                         160              6   \n",
              "692         0        0         0                          65              2   \n",
              "587         0        0         0                          80              2   \n",
              "884         0        0         0                         175              6   \n",
              "..        ...      ...       ...                         ...            ...   \n",
              "106         0        1         0                          85              3   \n",
              "270         0        0         0                          55              2   \n",
              "860         0        0         0                         170              7   \n",
              "435         0        0         1                          90              2   \n",
              "102         0        0         0                          60              2   \n",
              "\n",
              "     Likes_Received_Per_Day  Comments_Received_Per_Day  Messages_Sent_Per_Day  \n",
              "97                       45                         20                     25  \n",
              "227                      85                         26                     30  \n",
              "692                      17                          5                     14  \n",
              "587                      20                         10                     20  \n",
              "884                      72                         30                     33  \n",
              "..                      ...                        ...                    ...  \n",
              "106                      40                         18                     20  \n",
              "270                      15                          5                     10  \n",
              "860                      95                         30                     38  \n",
              "435                      24                         12                     22  \n",
              "102                      20                         10                     15  \n",
              "\n",
              "[739 rows x 16 columns]"
            ]
          },
          "execution_count": 58,
          "metadata": {},
          "output_type": "execute_result"
        }
      ],
      "source": [
        "X_train, X_test, y_train, y_test = train_test_split(X2, y2, test_size=0.2, random_state=42)\n",
        "print('Shape of the training features dataframe is:', X_train.shape)\n",
        "print('Shape of the training labels dataframe is:', y_train.shape)\n",
        "print('Shape of the testing features dataframe is:', X_test.shape)\n",
        "print('Shape of the testing labels dataframe is:', y_test.shape)\n",
        "print('The train to test split ratio',X_train.shape[0]/X_test.shape[0])\n",
        "X_train"
      ]
    },
    {
      "cell_type": "code",
      "execution_count": 59,
      "id": "ofvTzHLyISGY",
      "metadata": {
        "colab": {
          "base_uri": "https://localhost:8080/",
          "height": 458
        },
        "id": "ofvTzHLyISGY",
        "outputId": "4d292ca0-2cb3-4bc9-81d9-118f0f7f2c46"
      },
      "outputs": [
        {
          "data": {
            "text/plain": [
              "97     3\n",
              "227    3\n",
              "692    2\n",
              "587    4\n",
              "884    3\n",
              "      ..\n",
              "106    0\n",
              "270    4\n",
              "860    3\n",
              "435    0\n",
              "102    4\n",
              "Name: Dominant_Emotion, Length: 739, dtype: int64"
            ]
          },
          "execution_count": 59,
          "metadata": {},
          "output_type": "execute_result"
        }
      ],
      "source": [
        "y_train"
      ]
    },
    {
      "cell_type": "markdown",
      "id": "c7f975fb",
      "metadata": {
        "id": "c7f975fb"
      },
      "source": [
        "**Import the module used for training a KNN model.**"
      ]
    },
    {
      "cell_type": "code",
      "execution_count": 60,
      "id": "6aca486b",
      "metadata": {
        "id": "6aca486b"
      },
      "outputs": [],
      "source": [
        "#ENTER YOUR CODE HERE\n",
        "from sklearn.neighbors import KNeighborsClassifier"
      ]
    },
    {
      "cell_type": "markdown",
      "id": "c3107a53",
      "metadata": {
        "id": "c3107a53"
      },
      "source": [
        "**Train your model.**"
      ]
    },
    {
      "cell_type": "code",
      "execution_count": 61,
      "id": "0d222848",
      "metadata": {
        "id": "0d222848"
      },
      "outputs": [],
      "source": [
        "#ENTER YOUR CODE HERE"
      ]
    },
    {
      "cell_type": "code",
      "execution_count": 62,
      "id": "4860ab5f",
      "metadata": {
        "id": "4860ab5f"
      },
      "outputs": [],
      "source": [
        "knn = KNeighborsClassifier()\n",
        "knn.fit(X_train, y_train)\n",
        "y_pred3 = knn.predict(X_test)"
      ]
    },
    {
      "cell_type": "markdown",
      "id": "5f118ed1",
      "metadata": {
        "id": "5f118ed1"
      },
      "source": [
        "**Create and print the Prediction Dataframe.**"
      ]
    },
    {
      "cell_type": "code",
      "execution_count": 63,
      "id": "5d5ba9b5",
      "metadata": {
        "id": "5d5ba9b5"
      },
      "outputs": [],
      "source": [
        "#ENTER YOUR CODE HERE"
      ]
    },
    {
      "cell_type": "code",
      "execution_count": 64,
      "id": "2432aec4",
      "metadata": {
        "colab": {
          "base_uri": "https://localhost:8080/",
          "height": 423
        },
        "id": "2432aec4",
        "outputId": "ee227bb4-7d22-4726-8bcb-08ebf0fcf08e"
      },
      "outputs": [
        {
          "data": {
            "text/html": [
              "<div>\n",
              "<style scoped>\n",
              "    .dataframe tbody tr th:only-of-type {\n",
              "        vertical-align: middle;\n",
              "    }\n",
              "\n",
              "    .dataframe tbody tr th {\n",
              "        vertical-align: top;\n",
              "    }\n",
              "\n",
              "    .dataframe thead th {\n",
              "        text-align: right;\n",
              "    }\n",
              "</style>\n",
              "<table border=\"1\" class=\"dataframe\">\n",
              "  <thead>\n",
              "    <tr style=\"text-align: right;\">\n",
              "      <th></th>\n",
              "      <th>Actual</th>\n",
              "      <th>Predicted</th>\n",
              "    </tr>\n",
              "  </thead>\n",
              "  <tbody>\n",
              "    <tr>\n",
              "      <th>323</th>\n",
              "      <td>0</td>\n",
              "      <td>0</td>\n",
              "    </tr>\n",
              "    <tr>\n",
              "      <th>861</th>\n",
              "      <td>0</td>\n",
              "      <td>0</td>\n",
              "    </tr>\n",
              "    <tr>\n",
              "      <th>30</th>\n",
              "      <td>2</td>\n",
              "      <td>2</td>\n",
              "    </tr>\n",
              "    <tr>\n",
              "      <th>837</th>\n",
              "      <td>3</td>\n",
              "      <td>3</td>\n",
              "    </tr>\n",
              "    <tr>\n",
              "      <th>294</th>\n",
              "      <td>4</td>\n",
              "      <td>4</td>\n",
              "    </tr>\n",
              "    <tr>\n",
              "      <th>...</th>\n",
              "      <td>...</td>\n",
              "      <td>...</td>\n",
              "    </tr>\n",
              "    <tr>\n",
              "      <th>54</th>\n",
              "      <td>1</td>\n",
              "      <td>2</td>\n",
              "    </tr>\n",
              "    <tr>\n",
              "      <th>827</th>\n",
              "      <td>1</td>\n",
              "      <td>1</td>\n",
              "    </tr>\n",
              "    <tr>\n",
              "      <th>490</th>\n",
              "      <td>0</td>\n",
              "      <td>0</td>\n",
              "    </tr>\n",
              "    <tr>\n",
              "      <th>753</th>\n",
              "      <td>5</td>\n",
              "      <td>5</td>\n",
              "    </tr>\n",
              "    <tr>\n",
              "      <th>843</th>\n",
              "      <td>3</td>\n",
              "      <td>3</td>\n",
              "    </tr>\n",
              "  </tbody>\n",
              "</table>\n",
              "<p>185 rows × 2 columns</p>\n",
              "</div>"
            ],
            "text/plain": [
              "     Actual  Predicted\n",
              "323       0          0\n",
              "861       0          0\n",
              "30        2          2\n",
              "837       3          3\n",
              "294       4          4\n",
              "..      ...        ...\n",
              "54        1          2\n",
              "827       1          1\n",
              "490       0          0\n",
              "753       5          5\n",
              "843       3          3\n",
              "\n",
              "[185 rows x 2 columns]"
            ]
          },
          "execution_count": 64,
          "metadata": {},
          "output_type": "execute_result"
        }
      ],
      "source": [
        "pred_df = pd.DataFrame({'Actual': y_test, 'Predicted': y_pred3})\n",
        "pred_df"
      ]
    },
    {
      "cell_type": "markdown",
      "id": "689d81a6",
      "metadata": {
        "id": "689d81a6"
      },
      "source": [
        "I'm guessing you notice the issue. These are not our original labels!\n",
        "\n",
        "**Tranform these labels using the encoder you had created while encoding 'Dominant_Emotion'.**"
      ]
    },
    {
      "cell_type": "code",
      "execution_count": 65,
      "id": "93cd6d8f",
      "metadata": {
        "id": "93cd6d8f"
      },
      "outputs": [],
      "source": [
        "#ENTER YOUR CODE HERE"
      ]
    },
    {
      "cell_type": "code",
      "execution_count": 66,
      "id": "4479f70f",
      "metadata": {
        "colab": {
          "base_uri": "https://localhost:8080/",
          "height": 423
        },
        "id": "4479f70f",
        "outputId": "bdd890a9-a717-4dd1-fe30-91a2a1d1e1e7"
      },
      "outputs": [
        {
          "data": {
            "text/html": [
              "<div>\n",
              "<style scoped>\n",
              "    .dataframe tbody tr th:only-of-type {\n",
              "        vertical-align: middle;\n",
              "    }\n",
              "\n",
              "    .dataframe tbody tr th {\n",
              "        vertical-align: top;\n",
              "    }\n",
              "\n",
              "    .dataframe thead th {\n",
              "        text-align: right;\n",
              "    }\n",
              "</style>\n",
              "<table border=\"1\" class=\"dataframe\">\n",
              "  <thead>\n",
              "    <tr style=\"text-align: right;\">\n",
              "      <th></th>\n",
              "      <th>Actual</th>\n",
              "      <th>Predicted</th>\n",
              "    </tr>\n",
              "  </thead>\n",
              "  <tbody>\n",
              "    <tr>\n",
              "      <th>323</th>\n",
              "      <td>Anger</td>\n",
              "      <td>Anger</td>\n",
              "    </tr>\n",
              "    <tr>\n",
              "      <th>861</th>\n",
              "      <td>Anger</td>\n",
              "      <td>Anger</td>\n",
              "    </tr>\n",
              "    <tr>\n",
              "      <th>30</th>\n",
              "      <td>Boredom</td>\n",
              "      <td>Boredom</td>\n",
              "    </tr>\n",
              "    <tr>\n",
              "      <th>837</th>\n",
              "      <td>Happiness</td>\n",
              "      <td>Happiness</td>\n",
              "    </tr>\n",
              "    <tr>\n",
              "      <th>294</th>\n",
              "      <td>Neutral</td>\n",
              "      <td>Neutral</td>\n",
              "    </tr>\n",
              "    <tr>\n",
              "      <th>...</th>\n",
              "      <td>...</td>\n",
              "      <td>...</td>\n",
              "    </tr>\n",
              "    <tr>\n",
              "      <th>54</th>\n",
              "      <td>Anxiety</td>\n",
              "      <td>Boredom</td>\n",
              "    </tr>\n",
              "    <tr>\n",
              "      <th>827</th>\n",
              "      <td>Anxiety</td>\n",
              "      <td>Anxiety</td>\n",
              "    </tr>\n",
              "    <tr>\n",
              "      <th>490</th>\n",
              "      <td>Anger</td>\n",
              "      <td>Anger</td>\n",
              "    </tr>\n",
              "    <tr>\n",
              "      <th>753</th>\n",
              "      <td>Sadness</td>\n",
              "      <td>Sadness</td>\n",
              "    </tr>\n",
              "    <tr>\n",
              "      <th>843</th>\n",
              "      <td>Happiness</td>\n",
              "      <td>Happiness</td>\n",
              "    </tr>\n",
              "  </tbody>\n",
              "</table>\n",
              "<p>185 rows × 2 columns</p>\n",
              "</div>"
            ],
            "text/plain": [
              "        Actual  Predicted\n",
              "323      Anger      Anger\n",
              "861      Anger      Anger\n",
              "30     Boredom    Boredom\n",
              "837  Happiness  Happiness\n",
              "294    Neutral    Neutral\n",
              "..         ...        ...\n",
              "54     Anxiety    Boredom\n",
              "827    Anxiety    Anxiety\n",
              "490      Anger      Anger\n",
              "753    Sadness    Sadness\n",
              "843  Happiness  Happiness\n",
              "\n",
              "[185 rows x 2 columns]"
            ]
          },
          "execution_count": 66,
          "metadata": {},
          "output_type": "execute_result"
        }
      ],
      "source": [
        "pred_df['Actual'] = lbe.inverse_transform(pred_df['Actual'])\n",
        "pred_df['Predicted'] = lbe.inverse_transform(pred_df['Predicted'])\n",
        "pred_df"
      ]
    },
    {
      "cell_type": "markdown",
      "id": "a7f07660",
      "metadata": {
        "id": "a7f07660"
      },
      "source": [
        "**Now print the relevant metrics! Don't forget to get original y_test first!**"
      ]
    },
    {
      "cell_type": "code",
      "execution_count": 67,
      "id": "72f8f643",
      "metadata": {
        "id": "72f8f643"
      },
      "outputs": [],
      "source": [
        "#ENTER YOUR CODE HERE"
      ]
    },
    {
      "cell_type": "code",
      "execution_count": 68,
      "id": "ea421ae9",
      "metadata": {
        "colab": {
          "base_uri": "https://localhost:8080/"
        },
        "id": "ea421ae9",
        "outputId": "38c6a39e-caee-47d5-b3f2-79f0e42a65a1"
      },
      "outputs": [
        {
          "name": "stdout",
          "output_type": "stream",
          "text": [
            "The accuracy of the KNN model on the dataset is: 0.9891891891891892\n"
          ]
        }
      ],
      "source": [
        "print('The accuracy of the KNN model on the dataset is:', accuracy_score(pred_df['Actual'], pred_df['Predicted']))"
      ]
    },
    {
      "cell_type": "markdown",
      "id": "0d960f22",
      "metadata": {
        "id": "0d960f22"
      },
      "source": [
        "**That's a good model!**\n",
        "\n",
        "Since it's multi-class classification, traditional metrics like precision and recall won't work. We'll judge our model using a confusion matrix and classification report!\n",
        "\n",
        "**Import the module for confusion matrix and classification report, and print them.**"
      ]
    },
    {
      "cell_type": "code",
      "execution_count": 69,
      "id": "4c830ac8",
      "metadata": {
        "id": "4c830ac8"
      },
      "outputs": [],
      "source": [
        "#ENTER YOUR CODE HERE"
      ]
    },
    {
      "cell_type": "code",
      "execution_count": 70,
      "id": "690eb85f",
      "metadata": {
        "id": "690eb85f"
      },
      "outputs": [],
      "source": [
        "from sklearn.metrics import confusion_matrix,classification_report"
      ]
    },
    {
      "cell_type": "code",
      "execution_count": 71,
      "id": "-_m4iyfM_ve4",
      "metadata": {
        "colab": {
          "base_uri": "https://localhost:8080/"
        },
        "id": "-_m4iyfM_ve4",
        "outputId": "7270bc9e-2ce5-4f6f-c31c-83479b2ab632"
      },
      "outputs": [
        {
          "name": "stdout",
          "output_type": "stream",
          "text": [
            "              precision    recall  f1-score   support\n",
            "\n",
            "       Anger       1.00      1.00      1.00        29\n",
            "     Anxiety       0.97      0.97      0.97        35\n",
            "     Boredom       0.95      1.00      0.97        18\n",
            "   Happiness       1.00      0.98      0.99        43\n",
            "     Neutral       1.00      1.00      1.00        35\n",
            "     Sadness       1.00      1.00      1.00        25\n",
            "\n",
            "    accuracy                           0.99       185\n",
            "   macro avg       0.99      0.99      0.99       185\n",
            "weighted avg       0.99      0.99      0.99       185\n",
            "\n"
          ]
        }
      ],
      "source": [
        "print(classification_report(pred_df['Actual'], pred_df['Predicted']))"
      ]
    },
    {
      "cell_type": "code",
      "execution_count": 72,
      "id": "s6BLMgGE_9bE",
      "metadata": {
        "colab": {
          "base_uri": "https://localhost:8080/",
          "height": 847
        },
        "id": "s6BLMgGE_9bE",
        "outputId": "ee36684f-b8c3-4b3b-fa9b-ef15977e7ed2"
      },
      "outputs": [
        {
          "data": {
            "text/plain": [
              "<Axes: >"
            ]
          },
          "execution_count": 72,
          "metadata": {},
          "output_type": "execute_result"
        },
        {
          "data": {
            "image/png": "[encoded data removed]",
            "text/plain": [
              "<Figure size 1000x1000 with 2 Axes>"
            ]
          },
          "metadata": {},
          "output_type": "display_data"
        }
      ],
      "source": [
        "plt.figure(figsize=(10,10))\n",
        "sns.heatmap(confusion_matrix(pred_df['Actual'], pred_df['Predicted']), annot=True,)"
      ]
    },
    {
      "cell_type": "markdown",
      "id": "32c6beaa",
      "metadata": {
        "id": "32c6beaa"
      },
      "source": [
        "We already have our training and test datasets ready, lets train some other models.\n",
        "\n",
        "**Import Naive Bayes**"
      ]
    },
    {
      "cell_type": "code",
      "execution_count": 73,
      "id": "435cfa40",
      "metadata": {
        "id": "435cfa40"
      },
      "outputs": [],
      "source": [
        "#ENTER YOUR CODE HERE\n",
        "from sklearn.naive_bayes import BernoulliNB"
      ]
    },
    {
      "cell_type": "markdown",
      "id": "7fc1b376",
      "metadata": {
        "id": "7fc1b376"
      },
      "source": [
        "**Now instantiate and fit a model.**"
      ]
    },
    {
      "cell_type": "code",
      "execution_count": 74,
      "id": "83e4e7f0",
      "metadata": {
        "id": "83e4e7f0"
      },
      "outputs": [],
      "source": [
        "#ENTER YOUR CODE HERE"
      ]
    },
    {
      "cell_type": "code",
      "execution_count": 75,
      "id": "2jlzcj5cOjm5",
      "metadata": {
        "colab": {
          "base_uri": "https://localhost:8080/"
        },
        "id": "2jlzcj5cOjm5",
        "outputId": "eb28020e-00b8-4bf2-d22b-9160633e09cd"
      },
      "outputs": [
        {
          "name": "stdout",
          "output_type": "stream",
          "text": [
            "Shape of the training features dataframe is: (739, 16)\n",
            "Shape of the training labels dataframe is: (739,)\n",
            "Shape of the testing features dataframe is: (185, 16)\n",
            "Shape of the testing labels dataframe is: (185,)\n",
            "The train to test split ratio 3.9945945945945946\n"
          ]
        }
      ],
      "source": [
        "X_train, X_test, y_train, y_test = train_test_split(X2, y2, test_size=0.2, random_state=42)\n",
        "print('Shape of the training features dataframe is:', X_train.shape)\n",
        "print('Shape of the training labels dataframe is:', y_train.shape)\n",
        "print('Shape of the testing features dataframe is:', X_test.shape)\n",
        "print('Shape of the testing labels dataframe is:', y_test.shape)\n",
        "print('The train to test split ratio',X_train.shape[0]/X_test.shape[0])"
      ]
    },
    {
      "cell_type": "code",
      "execution_count": 76,
      "id": "bd78b2d4",
      "metadata": {
        "id": "bd78b2d4"
      },
      "outputs": [],
      "source": [
        "berb = BernoulliNB(alpha=0.0001)\n",
        "berb.fit(X_train, y_train)\n",
        "y_pred4 = berb.predict(X_test)"
      ]
    },
    {
      "cell_type": "markdown",
      "id": "a5b28149",
      "metadata": {
        "id": "a5b28149"
      },
      "source": [
        "**Predict on the test features, and dont forget to inverse transform!**"
      ]
    },
    {
      "cell_type": "code",
      "execution_count": 77,
      "id": "b087b88d",
      "metadata": {
        "id": "b087b88d"
      },
      "outputs": [],
      "source": [
        "#ENTER YOUR CODE HERE"
      ]
    },
    {
      "cell_type": "code",
      "execution_count": 78,
      "id": "bep2tFIlCRd5",
      "metadata": {
        "colab": {
          "base_uri": "https://localhost:8080/",
          "height": 423
        },
        "id": "bep2tFIlCRd5",
        "outputId": "f3f6035c-dda1-4d36-ef27-5607b393cb3e"
      },
      "outputs": [
        {
          "data": {
            "text/html": [
              "<div>\n",
              "<style scoped>\n",
              "    .dataframe tbody tr th:only-of-type {\n",
              "        vertical-align: middle;\n",
              "    }\n",
              "\n",
              "    .dataframe tbody tr th {\n",
              "        vertical-align: top;\n",
              "    }\n",
              "\n",
              "    .dataframe thead th {\n",
              "        text-align: right;\n",
              "    }\n",
              "</style>\n",
              "<table border=\"1\" class=\"dataframe\">\n",
              "  <thead>\n",
              "    <tr style=\"text-align: right;\">\n",
              "      <th></th>\n",
              "      <th>Actual</th>\n",
              "      <th>Predicted</th>\n",
              "    </tr>\n",
              "  </thead>\n",
              "  <tbody>\n",
              "    <tr>\n",
              "      <th>323</th>\n",
              "      <td>0</td>\n",
              "      <td>0</td>\n",
              "    </tr>\n",
              "    <tr>\n",
              "      <th>861</th>\n",
              "      <td>0</td>\n",
              "      <td>0</td>\n",
              "    </tr>\n",
              "    <tr>\n",
              "      <th>30</th>\n",
              "      <td>2</td>\n",
              "      <td>2</td>\n",
              "    </tr>\n",
              "    <tr>\n",
              "      <th>837</th>\n",
              "      <td>3</td>\n",
              "      <td>3</td>\n",
              "    </tr>\n",
              "    <tr>\n",
              "      <th>294</th>\n",
              "      <td>4</td>\n",
              "      <td>5</td>\n",
              "    </tr>\n",
              "    <tr>\n",
              "      <th>...</th>\n",
              "      <td>...</td>\n",
              "      <td>...</td>\n",
              "    </tr>\n",
              "    <tr>\n",
              "      <th>54</th>\n",
              "      <td>1</td>\n",
              "      <td>2</td>\n",
              "    </tr>\n",
              "    <tr>\n",
              "      <th>827</th>\n",
              "      <td>1</td>\n",
              "      <td>3</td>\n",
              "    </tr>\n",
              "    <tr>\n",
              "      <th>490</th>\n",
              "      <td>0</td>\n",
              "      <td>0</td>\n",
              "    </tr>\n",
              "    <tr>\n",
              "      <th>753</th>\n",
              "      <td>5</td>\n",
              "      <td>4</td>\n",
              "    </tr>\n",
              "    <tr>\n",
              "      <th>843</th>\n",
              "      <td>3</td>\n",
              "      <td>3</td>\n",
              "    </tr>\n",
              "  </tbody>\n",
              "</table>\n",
              "<p>185 rows × 2 columns</p>\n",
              "</div>"
            ],
            "text/plain": [
              "     Actual  Predicted\n",
              "323       0          0\n",
              "861       0          0\n",
              "30        2          2\n",
              "837       3          3\n",
              "294       4          5\n",
              "..      ...        ...\n",
              "54        1          2\n",
              "827       1          3\n",
              "490       0          0\n",
              "753       5          4\n",
              "843       3          3\n",
              "\n",
              "[185 rows x 2 columns]"
            ]
          },
          "execution_count": 78,
          "metadata": {},
          "output_type": "execute_result"
        }
      ],
      "source": [
        "pred_df2 = pd.DataFrame({'Actual': y_test, 'Predicted': y_pred4})\n",
        "pred_df2"
      ]
    },
    {
      "cell_type": "code",
      "execution_count": 79,
      "id": "h32Q2XywCa2N",
      "metadata": {
        "colab": {
          "base_uri": "https://localhost:8080/",
          "height": 423
        },
        "id": "h32Q2XywCa2N",
        "outputId": "c1ecd0c9-376e-4b00-fd45-5b095c35b705"
      },
      "outputs": [
        {
          "data": {
            "text/html": [
              "<div>\n",
              "<style scoped>\n",
              "    .dataframe tbody tr th:only-of-type {\n",
              "        vertical-align: middle;\n",
              "    }\n",
              "\n",
              "    .dataframe tbody tr th {\n",
              "        vertical-align: top;\n",
              "    }\n",
              "\n",
              "    .dataframe thead th {\n",
              "        text-align: right;\n",
              "    }\n",
              "</style>\n",
              "<table border=\"1\" class=\"dataframe\">\n",
              "  <thead>\n",
              "    <tr style=\"text-align: right;\">\n",
              "      <th></th>\n",
              "      <th>Actual</th>\n",
              "      <th>Predicted</th>\n",
              "    </tr>\n",
              "  </thead>\n",
              "  <tbody>\n",
              "    <tr>\n",
              "      <th>323</th>\n",
              "      <td>Anger</td>\n",
              "      <td>Anger</td>\n",
              "    </tr>\n",
              "    <tr>\n",
              "      <th>861</th>\n",
              "      <td>Anger</td>\n",
              "      <td>Anger</td>\n",
              "    </tr>\n",
              "    <tr>\n",
              "      <th>30</th>\n",
              "      <td>Boredom</td>\n",
              "      <td>Boredom</td>\n",
              "    </tr>\n",
              "    <tr>\n",
              "      <th>837</th>\n",
              "      <td>Happiness</td>\n",
              "      <td>Happiness</td>\n",
              "    </tr>\n",
              "    <tr>\n",
              "      <th>294</th>\n",
              "      <td>Neutral</td>\n",
              "      <td>Sadness</td>\n",
              "    </tr>\n",
              "    <tr>\n",
              "      <th>...</th>\n",
              "      <td>...</td>\n",
              "      <td>...</td>\n",
              "    </tr>\n",
              "    <tr>\n",
              "      <th>54</th>\n",
              "      <td>Anxiety</td>\n",
              "      <td>Boredom</td>\n",
              "    </tr>\n",
              "    <tr>\n",
              "      <th>827</th>\n",
              "      <td>Anxiety</td>\n",
              "      <td>Happiness</td>\n",
              "    </tr>\n",
              "    <tr>\n",
              "      <th>490</th>\n",
              "      <td>Anger</td>\n",
              "      <td>Anger</td>\n",
              "    </tr>\n",
              "    <tr>\n",
              "      <th>753</th>\n",
              "      <td>Sadness</td>\n",
              "      <td>Neutral</td>\n",
              "    </tr>\n",
              "    <tr>\n",
              "      <th>843</th>\n",
              "      <td>Happiness</td>\n",
              "      <td>Happiness</td>\n",
              "    </tr>\n",
              "  </tbody>\n",
              "</table>\n",
              "<p>185 rows × 2 columns</p>\n",
              "</div>"
            ],
            "text/plain": [
              "        Actual  Predicted\n",
              "323      Anger      Anger\n",
              "861      Anger      Anger\n",
              "30     Boredom    Boredom\n",
              "837  Happiness  Happiness\n",
              "294    Neutral    Sadness\n",
              "..         ...        ...\n",
              "54     Anxiety    Boredom\n",
              "827    Anxiety  Happiness\n",
              "490      Anger      Anger\n",
              "753    Sadness    Neutral\n",
              "843  Happiness  Happiness\n",
              "\n",
              "[185 rows x 2 columns]"
            ]
          },
          "execution_count": 79,
          "metadata": {},
          "output_type": "execute_result"
        }
      ],
      "source": [
        "pred_df2['Actual'] = lbe.inverse_transform(pred_df2['Actual'])\n",
        "pred_df2['Predicted'] = lbe.inverse_transform(pred_df2['Predicted'])\n",
        "pred_df2"
      ]
    },
    {
      "cell_type": "markdown",
      "id": "fafa80dc",
      "metadata": {
        "id": "fafa80dc"
      },
      "source": [
        "**Finally, print the accuracy, confusion matrix and classification report.**"
      ]
    },
    {
      "cell_type": "code",
      "execution_count": 80,
      "id": "398f1052",
      "metadata": {
        "id": "398f1052"
      },
      "outputs": [],
      "source": [
        "#ENTER YOUR CODE HERE"
      ]
    },
    {
      "cell_type": "code",
      "execution_count": 81,
      "id": "1d638968",
      "metadata": {
        "colab": {
          "base_uri": "https://localhost:8080/"
        },
        "id": "1d638968",
        "outputId": "22f6fb7e-11ee-4a4d-d93a-648d64b84801"
      },
      "outputs": [
        {
          "name": "stdout",
          "output_type": "stream",
          "text": [
            "The accuracy of the Naive Bayes model on the dataset is: 0.4972972972972973\n"
          ]
        }
      ],
      "source": [
        "print('The accuracy of the Naive Bayes model on the dataset is:', accuracy_score(pred_df2['Actual'], pred_df2['Predicted']))"
      ]
    },
    {
      "cell_type": "code",
      "execution_count": 82,
      "id": "t1FYRMk2D5x6",
      "metadata": {
        "colab": {
          "base_uri": "https://localhost:8080/"
        },
        "id": "t1FYRMk2D5x6",
        "outputId": "539b494a-2736-4e1e-fab2-13f2a15103c5"
      },
      "outputs": [
        {
          "name": "stdout",
          "output_type": "stream",
          "text": [
            "              precision    recall  f1-score   support\n",
            "\n",
            "       Anger       0.46      0.79      0.58        29\n",
            "     Anxiety       0.50      0.06      0.10        35\n",
            "     Boredom       0.53      0.56      0.54        18\n",
            "   Happiness       0.69      0.86      0.76        43\n",
            "     Neutral       0.41      0.54      0.47        35\n",
            "     Sadness       0.08      0.04      0.05        25\n",
            "\n",
            "    accuracy                           0.50       185\n",
            "   macro avg       0.44      0.47      0.42       185\n",
            "weighted avg       0.47      0.50      0.44       185\n",
            "\n"
          ]
        }
      ],
      "source": [
        "print(classification_report(pred_df2['Actual'], pred_df2['Predicted']))"
      ]
    },
    {
      "cell_type": "code",
      "execution_count": 83,
      "id": "TZH0xdQaDwMV",
      "metadata": {
        "colab": {
          "base_uri": "https://localhost:8080/",
          "height": 847
        },
        "id": "TZH0xdQaDwMV",
        "outputId": "d9d7dde1-5160-4ff4-a825-a766051d1c17"
      },
      "outputs": [
        {
          "data": {
            "text/plain": [
              "<Axes: >"
            ]
          },
          "execution_count": 83,
          "metadata": {},
          "output_type": "execute_result"
        },
        {
          "data": {
            "image/png": "[encoded data removed]",
            "text/plain": [
              "<Figure size 1000x1000 with 2 Axes>"
            ]
          },
          "metadata": {},
          "output_type": "display_data"
        }
      ],
      "source": [
        "plt.figure(figsize=(10,10))\n",
        "sns.heatmap(confusion_matrix(pred_df2['Actual'], pred_df2['Predicted']), annot=True)"
      ]
    },
    {
      "cell_type": "markdown",
      "id": "GLMm3c93H_b-",
      "metadata": {
        "id": "GLMm3c93H_b-"
      },
      "source": [
        "### Now train a 'Decision Tree' and a 'Random Forest Generator' for the same classification problem.Feel free to play with the hyperparameters!\n",
        "\n",
        "### Report the accuracy score for each!"
      ]
    },
    {
      "cell_type": "markdown",
      "id": "HsASwlrKIIcr",
      "metadata": {
        "id": "HsASwlrKIIcr"
      },
      "source": [
        "## **Decision Trees**"
      ]
    },
    {
      "cell_type": "code",
      "execution_count": 84,
      "id": "aNvPPmA1IMrI",
      "metadata": {
        "id": "aNvPPmA1IMrI"
      },
      "outputs": [],
      "source": [
        "from sklearn.tree import DecisionTreeClassifier"
      ]
    },
    {
      "cell_type": "code",
      "execution_count": 85,
      "id": "SJlYz_ImOzOd",
      "metadata": {
        "colab": {
          "base_uri": "https://localhost:8080/"
        },
        "id": "SJlYz_ImOzOd",
        "outputId": "39f4f900-93c9-4bc8-c877-ba298039c601"
      },
      "outputs": [
        {
          "name": "stdout",
          "output_type": "stream",
          "text": [
            "Shape of the training features dataframe is: (739, 16)\n",
            "Shape of the training labels dataframe is: (739,)\n",
            "Shape of the testing features dataframe is: (185, 16)\n",
            "Shape of the testing labels dataframe is: (185,)\n",
            "The train to test split ratio 3.9945945945945946\n"
          ]
        }
      ],
      "source": [
        "X_train, X_test, y_train, y_test = train_test_split(X2, y2, test_size=0.2, random_state=42)\n",
        "print('Shape of the training features dataframe is:', X_train.shape)\n",
        "print('Shape of the training labels dataframe is:', y_train.shape)\n",
        "print('Shape of the testing features dataframe is:', X_test.shape)\n",
        "print('Shape of the testing labels dataframe is:', y_test.shape)\n",
        "print('The train to test split ratio',X_train.shape[0]/X_test.shape[0])"
      ]
    },
    {
      "cell_type": "code",
      "execution_count": 86,
      "id": "9MpUzEx4KP67",
      "metadata": {
        "id": "9MpUzEx4KP67"
      },
      "outputs": [],
      "source": [
        "tree = DecisionTreeClassifier( max_depth = 7,min_samples_split=3,random_state=42)\n",
        "tree.fit(X_train, y_train)\n",
        "y_pred5 = tree.predict(X_test)"
      ]
    },
    {
      "cell_type": "code",
      "execution_count": 87,
      "id": "-bXOSSFBoUtV",
      "metadata": {
        "colab": {
          "base_uri": "https://localhost:8080/",
          "height": 423
        },
        "id": "-bXOSSFBoUtV",
        "outputId": "d66aa513-379b-40bf-bd16-4c19683d68e1"
      },
      "outputs": [
        {
          "data": {
            "text/html": [
              "<div>\n",
              "<style scoped>\n",
              "    .dataframe tbody tr th:only-of-type {\n",
              "        vertical-align: middle;\n",
              "    }\n",
              "\n",
              "    .dataframe tbody tr th {\n",
              "        vertical-align: top;\n",
              "    }\n",
              "\n",
              "    .dataframe thead th {\n",
              "        text-align: right;\n",
              "    }\n",
              "</style>\n",
              "<table border=\"1\" class=\"dataframe\">\n",
              "  <thead>\n",
              "    <tr style=\"text-align: right;\">\n",
              "      <th></th>\n",
              "      <th>Actual</th>\n",
              "      <th>Predicted</th>\n",
              "    </tr>\n",
              "  </thead>\n",
              "  <tbody>\n",
              "    <tr>\n",
              "      <th>0</th>\n",
              "      <td>0</td>\n",
              "      <td>4</td>\n",
              "    </tr>\n",
              "    <tr>\n",
              "      <th>1</th>\n",
              "      <td>0</td>\n",
              "      <td>0</td>\n",
              "    </tr>\n",
              "    <tr>\n",
              "      <th>2</th>\n",
              "      <td>2</td>\n",
              "      <td>2</td>\n",
              "    </tr>\n",
              "    <tr>\n",
              "      <th>3</th>\n",
              "      <td>3</td>\n",
              "      <td>3</td>\n",
              "    </tr>\n",
              "    <tr>\n",
              "      <th>4</th>\n",
              "      <td>4</td>\n",
              "      <td>4</td>\n",
              "    </tr>\n",
              "    <tr>\n",
              "      <th>...</th>\n",
              "      <td>...</td>\n",
              "      <td>...</td>\n",
              "    </tr>\n",
              "    <tr>\n",
              "      <th>180</th>\n",
              "      <td>1</td>\n",
              "      <td>2</td>\n",
              "    </tr>\n",
              "    <tr>\n",
              "      <th>181</th>\n",
              "      <td>1</td>\n",
              "      <td>1</td>\n",
              "    </tr>\n",
              "    <tr>\n",
              "      <th>182</th>\n",
              "      <td>0</td>\n",
              "      <td>0</td>\n",
              "    </tr>\n",
              "    <tr>\n",
              "      <th>183</th>\n",
              "      <td>5</td>\n",
              "      <td>5</td>\n",
              "    </tr>\n",
              "    <tr>\n",
              "      <th>184</th>\n",
              "      <td>3</td>\n",
              "      <td>3</td>\n",
              "    </tr>\n",
              "  </tbody>\n",
              "</table>\n",
              "<p>185 rows × 2 columns</p>\n",
              "</div>"
            ],
            "text/plain": [
              "     Actual  Predicted\n",
              "0         0          4\n",
              "1         0          0\n",
              "2         2          2\n",
              "3         3          3\n",
              "4         4          4\n",
              "..      ...        ...\n",
              "180       1          2\n",
              "181       1          1\n",
              "182       0          0\n",
              "183       5          5\n",
              "184       3          3\n",
              "\n",
              "[185 rows x 2 columns]"
            ]
          },
          "execution_count": 87,
          "metadata": {},
          "output_type": "execute_result"
        }
      ],
      "source": [
        "pred_df3 = pd.DataFrame({\n",
        "    'Actual': y_test.reset_index(drop=True),\n",
        "    'Predicted': pd.Series(y_pred5)\n",
        "})\n",
        "pred_df3"
      ]
    },
    {
      "cell_type": "code",
      "execution_count": 88,
      "id": "auPxSj_9rVVB",
      "metadata": {
        "colab": {
          "base_uri": "https://localhost:8080/",
          "height": 423
        },
        "id": "auPxSj_9rVVB",
        "outputId": "8c4a6bfb-dc52-457f-e671-c77593dcd96f"
      },
      "outputs": [
        {
          "data": {
            "text/html": [
              "<div>\n",
              "<style scoped>\n",
              "    .dataframe tbody tr th:only-of-type {\n",
              "        vertical-align: middle;\n",
              "    }\n",
              "\n",
              "    .dataframe tbody tr th {\n",
              "        vertical-align: top;\n",
              "    }\n",
              "\n",
              "    .dataframe thead th {\n",
              "        text-align: right;\n",
              "    }\n",
              "</style>\n",
              "<table border=\"1\" class=\"dataframe\">\n",
              "  <thead>\n",
              "    <tr style=\"text-align: right;\">\n",
              "      <th></th>\n",
              "      <th>Actual</th>\n",
              "      <th>Predicted</th>\n",
              "    </tr>\n",
              "  </thead>\n",
              "  <tbody>\n",
              "    <tr>\n",
              "      <th>0</th>\n",
              "      <td>Anger</td>\n",
              "      <td>Neutral</td>\n",
              "    </tr>\n",
              "    <tr>\n",
              "      <th>1</th>\n",
              "      <td>Anger</td>\n",
              "      <td>Anger</td>\n",
              "    </tr>\n",
              "    <tr>\n",
              "      <th>2</th>\n",
              "      <td>Boredom</td>\n",
              "      <td>Boredom</td>\n",
              "    </tr>\n",
              "    <tr>\n",
              "      <th>3</th>\n",
              "      <td>Happiness</td>\n",
              "      <td>Happiness</td>\n",
              "    </tr>\n",
              "    <tr>\n",
              "      <th>4</th>\n",
              "      <td>Neutral</td>\n",
              "      <td>Neutral</td>\n",
              "    </tr>\n",
              "    <tr>\n",
              "      <th>...</th>\n",
              "      <td>...</td>\n",
              "      <td>...</td>\n",
              "    </tr>\n",
              "    <tr>\n",
              "      <th>180</th>\n",
              "      <td>Anxiety</td>\n",
              "      <td>Boredom</td>\n",
              "    </tr>\n",
              "    <tr>\n",
              "      <th>181</th>\n",
              "      <td>Anxiety</td>\n",
              "      <td>Anxiety</td>\n",
              "    </tr>\n",
              "    <tr>\n",
              "      <th>182</th>\n",
              "      <td>Anger</td>\n",
              "      <td>Anger</td>\n",
              "    </tr>\n",
              "    <tr>\n",
              "      <th>183</th>\n",
              "      <td>Sadness</td>\n",
              "      <td>Sadness</td>\n",
              "    </tr>\n",
              "    <tr>\n",
              "      <th>184</th>\n",
              "      <td>Happiness</td>\n",
              "      <td>Happiness</td>\n",
              "    </tr>\n",
              "  </tbody>\n",
              "</table>\n",
              "<p>185 rows × 2 columns</p>\n",
              "</div>"
            ],
            "text/plain": [
              "        Actual  Predicted\n",
              "0        Anger    Neutral\n",
              "1        Anger      Anger\n",
              "2      Boredom    Boredom\n",
              "3    Happiness  Happiness\n",
              "4      Neutral    Neutral\n",
              "..         ...        ...\n",
              "180    Anxiety    Boredom\n",
              "181    Anxiety    Anxiety\n",
              "182      Anger      Anger\n",
              "183    Sadness    Sadness\n",
              "184  Happiness  Happiness\n",
              "\n",
              "[185 rows x 2 columns]"
            ]
          },
          "execution_count": 88,
          "metadata": {},
          "output_type": "execute_result"
        }
      ],
      "source": [
        "pred_df3['Actual'] = lbe.inverse_transform(pred_df3['Actual'])\n",
        "pred_df3['Predicted'] = lbe.inverse_transform(pred_df3['Predicted'])\n",
        "pred_df3"
      ]
    },
    {
      "cell_type": "code",
      "execution_count": 89,
      "id": "eVEVj_l3r8lN",
      "metadata": {
        "colab": {
          "base_uri": "https://localhost:8080/"
        },
        "id": "eVEVj_l3r8lN",
        "outputId": "2a23c767-05d9-4038-bffc-154df900ad76"
      },
      "outputs": [
        {
          "name": "stdout",
          "output_type": "stream",
          "text": [
            "The accuracy of the Decision Tree model on the dataset is: 0.8972972972972973\n"
          ]
        }
      ],
      "source": [
        "print('The accuracy of the Decision Tree model on the dataset is:', accuracy_score(pred_df3['Actual'], pred_df3['Predicted']))"
      ]
    },
    {
      "cell_type": "code",
      "execution_count": 90,
      "id": "frE7t_kxsACl",
      "metadata": {
        "colab": {
          "base_uri": "https://localhost:8080/"
        },
        "id": "frE7t_kxsACl",
        "outputId": "93a85afe-4869-462b-cc7f-b17bea0722a5"
      },
      "outputs": [
        {
          "name": "stdout",
          "output_type": "stream",
          "text": [
            "              precision    recall  f1-score   support\n",
            "\n",
            "       Anger       0.89      0.86      0.88        29\n",
            "     Anxiety       0.89      0.97      0.93        35\n",
            "     Boredom       0.82      0.78      0.80        18\n",
            "   Happiness       1.00      0.95      0.98        43\n",
            "     Neutral       0.79      0.89      0.84        35\n",
            "     Sadness       0.95      0.84      0.89        25\n",
            "\n",
            "    accuracy                           0.90       185\n",
            "   macro avg       0.89      0.88      0.89       185\n",
            "weighted avg       0.90      0.90      0.90       185\n",
            "\n"
          ]
        }
      ],
      "source": [
        "print(classification_report(pred_df3['Actual'], pred_df3['Predicted']))"
      ]
    },
    {
      "cell_type": "code",
      "execution_count": 91,
      "id": "8qyDf6NKsDLB",
      "metadata": {
        "colab": {
          "base_uri": "https://localhost:8080/",
          "height": 847
        },
        "id": "8qyDf6NKsDLB",
        "outputId": "b14b4193-fa5f-4503-b849-348981060e72"
      },
      "outputs": [
        {
          "data": {
            "text/plain": [
              "<Axes: >"
            ]
          },
          "execution_count": 91,
          "metadata": {},
          "output_type": "execute_result"
        },
        {
          "data": {
            "image/png": "[encoded data removed]",
            "text/plain": [
              "<Figure size 1000x1000 with 2 Axes>"
            ]
          },
          "metadata": {},
          "output_type": "display_data"
        }
      ],
      "source": [
        "plt.figure(figsize=(10,10))\n",
        "sns.heatmap(confusion_matrix(pred_df3['Actual'], pred_df3['Predicted']), annot=True)"
      ]
    },
    {
      "cell_type": "markdown",
      "id": "_0rZFc_usImb",
      "metadata": {
        "id": "_0rZFc_usImb"
      },
      "source": [
        "## **Random Forest Classifier**"
      ]
    },
    {
      "cell_type": "code",
      "execution_count": 92,
      "id": "Dz2K-M3WsLxi",
      "metadata": {
        "id": "Dz2K-M3WsLxi"
      },
      "outputs": [],
      "source": [
        "from sklearn.ensemble import RandomForestClassifier"
      ]
    },
    {
      "cell_type": "code",
      "execution_count": 93,
      "id": "GYZF0ayosXfr",
      "metadata": {
        "colab": {
          "base_uri": "https://localhost:8080/"
        },
        "id": "GYZF0ayosXfr",
        "outputId": "cf7b1876-a1da-4a7d-bde4-d48aadf6e07e"
      },
      "outputs": [
        {
          "name": "stdout",
          "output_type": "stream",
          "text": [
            "Shape of the training features dataframe is: (739, 16)\n",
            "Shape of the training labels dataframe is: (739,)\n",
            "Shape of the testing features dataframe is: (185, 16)\n",
            "Shape of the testing labels dataframe is: (185,)\n",
            "The train to test split ratio 3.9945945945945946\n"
          ]
        }
      ],
      "source": [
        "X_train, X_test, y_train, y_test = train_test_split(X2, y2, test_size=0.2, random_state=42)\n",
        "print('Shape of the training features dataframe is:', X_train.shape)\n",
        "print('Shape of the training labels dataframe is:', y_train.shape)\n",
        "print('Shape of the testing features dataframe is:', X_test.shape)\n",
        "print('Shape of the testing labels dataframe is:', y_test.shape)\n",
        "print('The train to test split ratio',X_train.shape[0]/X_test.shape[0])"
      ]
    },
    {
      "cell_type": "code",
      "execution_count": 94,
      "id": "6DB0sYbJsaxz",
      "metadata": {
        "id": "6DB0sYbJsaxz"
      },
      "outputs": [],
      "source": [
        "forest = RandomForestClassifier(n_estimators=800,max_depth = 6,min_samples_split=2, random_state=42)\n",
        "forest.fit(X_train, y_train)\n",
        "y_pred6 = forest.predict(X_test)"
      ]
    },
    {
      "cell_type": "code",
      "execution_count": 95,
      "id": "TnbDo9xvsrJ9",
      "metadata": {
        "colab": {
          "base_uri": "https://localhost:8080/",
          "height": 423
        },
        "id": "TnbDo9xvsrJ9",
        "outputId": "3a001810-2f50-4d3a-8579-cdaac0440d5a"
      },
      "outputs": [
        {
          "data": {
            "text/html": [
              "<div>\n",
              "<style scoped>\n",
              "    .dataframe tbody tr th:only-of-type {\n",
              "        vertical-align: middle;\n",
              "    }\n",
              "\n",
              "    .dataframe tbody tr th {\n",
              "        vertical-align: top;\n",
              "    }\n",
              "\n",
              "    .dataframe thead th {\n",
              "        text-align: right;\n",
              "    }\n",
              "</style>\n",
              "<table border=\"1\" class=\"dataframe\">\n",
              "  <thead>\n",
              "    <tr style=\"text-align: right;\">\n",
              "      <th></th>\n",
              "      <th>Actual</th>\n",
              "      <th>Predicted</th>\n",
              "    </tr>\n",
              "  </thead>\n",
              "  <tbody>\n",
              "    <tr>\n",
              "      <th>0</th>\n",
              "      <td>0</td>\n",
              "      <td>0</td>\n",
              "    </tr>\n",
              "    <tr>\n",
              "      <th>1</th>\n",
              "      <td>0</td>\n",
              "      <td>0</td>\n",
              "    </tr>\n",
              "    <tr>\n",
              "      <th>2</th>\n",
              "      <td>2</td>\n",
              "      <td>2</td>\n",
              "    </tr>\n",
              "    <tr>\n",
              "      <th>3</th>\n",
              "      <td>3</td>\n",
              "      <td>3</td>\n",
              "    </tr>\n",
              "    <tr>\n",
              "      <th>4</th>\n",
              "      <td>4</td>\n",
              "      <td>4</td>\n",
              "    </tr>\n",
              "    <tr>\n",
              "      <th>...</th>\n",
              "      <td>...</td>\n",
              "      <td>...</td>\n",
              "    </tr>\n",
              "    <tr>\n",
              "      <th>180</th>\n",
              "      <td>1</td>\n",
              "      <td>2</td>\n",
              "    </tr>\n",
              "    <tr>\n",
              "      <th>181</th>\n",
              "      <td>1</td>\n",
              "      <td>1</td>\n",
              "    </tr>\n",
              "    <tr>\n",
              "      <th>182</th>\n",
              "      <td>0</td>\n",
              "      <td>0</td>\n",
              "    </tr>\n",
              "    <tr>\n",
              "      <th>183</th>\n",
              "      <td>5</td>\n",
              "      <td>5</td>\n",
              "    </tr>\n",
              "    <tr>\n",
              "      <th>184</th>\n",
              "      <td>3</td>\n",
              "      <td>3</td>\n",
              "    </tr>\n",
              "  </tbody>\n",
              "</table>\n",
              "<p>185 rows × 2 columns</p>\n",
              "</div>"
            ],
            "text/plain": [
              "     Actual  Predicted\n",
              "0         0          0\n",
              "1         0          0\n",
              "2         2          2\n",
              "3         3          3\n",
              "4         4          4\n",
              "..      ...        ...\n",
              "180       1          2\n",
              "181       1          1\n",
              "182       0          0\n",
              "183       5          5\n",
              "184       3          3\n",
              "\n",
              "[185 rows x 2 columns]"
            ]
          },
          "execution_count": 95,
          "metadata": {},
          "output_type": "execute_result"
        }
      ],
      "source": [
        "pred_df4 = pd.DataFrame({\n",
        "    'Actual': y_test.reset_index(drop=True),\n",
        "    'Predicted': pd.Series(y_pred6)\n",
        "})\n",
        "pred_df4"
      ]
    },
    {
      "cell_type": "code",
      "execution_count": 96,
      "id": "kfzACmubsuzu",
      "metadata": {
        "colab": {
          "base_uri": "https://localhost:8080/",
          "height": 423
        },
        "id": "kfzACmubsuzu",
        "outputId": "5bdce1ea-4fae-4f08-9dfb-9908c48d2e30"
      },
      "outputs": [
        {
          "data": {
            "text/html": [
              "<div>\n",
              "<style scoped>\n",
              "    .dataframe tbody tr th:only-of-type {\n",
              "        vertical-align: middle;\n",
              "    }\n",
              "\n",
              "    .dataframe tbody tr th {\n",
              "        vertical-align: top;\n",
              "    }\n",
              "\n",
              "    .dataframe thead th {\n",
              "        text-align: right;\n",
              "    }\n",
              "</style>\n",
              "<table border=\"1\" class=\"dataframe\">\n",
              "  <thead>\n",
              "    <tr style=\"text-align: right;\">\n",
              "      <th></th>\n",
              "      <th>Actual</th>\n",
              "      <th>Predicted</th>\n",
              "    </tr>\n",
              "  </thead>\n",
              "  <tbody>\n",
              "    <tr>\n",
              "      <th>0</th>\n",
              "      <td>Anger</td>\n",
              "      <td>Anger</td>\n",
              "    </tr>\n",
              "    <tr>\n",
              "      <th>1</th>\n",
              "      <td>Anger</td>\n",
              "      <td>Anger</td>\n",
              "    </tr>\n",
              "    <tr>\n",
              "      <th>2</th>\n",
              "      <td>Boredom</td>\n",
              "      <td>Boredom</td>\n",
              "    </tr>\n",
              "    <tr>\n",
              "      <th>3</th>\n",
              "      <td>Happiness</td>\n",
              "      <td>Happiness</td>\n",
              "    </tr>\n",
              "    <tr>\n",
              "      <th>4</th>\n",
              "      <td>Neutral</td>\n",
              "      <td>Neutral</td>\n",
              "    </tr>\n",
              "    <tr>\n",
              "      <th>...</th>\n",
              "      <td>...</td>\n",
              "      <td>...</td>\n",
              "    </tr>\n",
              "    <tr>\n",
              "      <th>180</th>\n",
              "      <td>Anxiety</td>\n",
              "      <td>Boredom</td>\n",
              "    </tr>\n",
              "    <tr>\n",
              "      <th>181</th>\n",
              "      <td>Anxiety</td>\n",
              "      <td>Anxiety</td>\n",
              "    </tr>\n",
              "    <tr>\n",
              "      <th>182</th>\n",
              "      <td>Anger</td>\n",
              "      <td>Anger</td>\n",
              "    </tr>\n",
              "    <tr>\n",
              "      <th>183</th>\n",
              "      <td>Sadness</td>\n",
              "      <td>Sadness</td>\n",
              "    </tr>\n",
              "    <tr>\n",
              "      <th>184</th>\n",
              "      <td>Happiness</td>\n",
              "      <td>Happiness</td>\n",
              "    </tr>\n",
              "  </tbody>\n",
              "</table>\n",
              "<p>185 rows × 2 columns</p>\n",
              "</div>"
            ],
            "text/plain": [
              "        Actual  Predicted\n",
              "0        Anger      Anger\n",
              "1        Anger      Anger\n",
              "2      Boredom    Boredom\n",
              "3    Happiness  Happiness\n",
              "4      Neutral    Neutral\n",
              "..         ...        ...\n",
              "180    Anxiety    Boredom\n",
              "181    Anxiety    Anxiety\n",
              "182      Anger      Anger\n",
              "183    Sadness    Sadness\n",
              "184  Happiness  Happiness\n",
              "\n",
              "[185 rows x 2 columns]"
            ]
          },
          "execution_count": 96,
          "metadata": {},
          "output_type": "execute_result"
        }
      ],
      "source": [
        "pred_df4['Actual'] = lbe.inverse_transform(pred_df4['Actual'])\n",
        "pred_df4['Predicted'] = lbe.inverse_transform(pred_df4['Predicted'])\n",
        "pred_df4"
      ]
    },
    {
      "cell_type": "code",
      "execution_count": 97,
      "id": "LvBUEZqYs0mx",
      "metadata": {
        "colab": {
          "base_uri": "https://localhost:8080/"
        },
        "id": "LvBUEZqYs0mx",
        "outputId": "b2c48cfa-bcc5-46a2-ee39-63f633644dfd"
      },
      "outputs": [
        {
          "name": "stdout",
          "output_type": "stream",
          "text": [
            "The accuracy of the Random Forest model on the dataset is: 0.9351351351351351\n"
          ]
        }
      ],
      "source": [
        "print('The accuracy of the Random Forest model on the dataset is:', accuracy_score(pred_df4['Actual'], pred_df4['Predicted']))"
      ]
    },
    {
      "cell_type": "code",
      "execution_count": 98,
      "id": "G_WiFTXCtTPw",
      "metadata": {
        "colab": {
          "base_uri": "https://localhost:8080/"
        },
        "id": "G_WiFTXCtTPw",
        "outputId": "d0ac60b5-965f-49c6-a6e5-62d6a504ef03"
      },
      "outputs": [
        {
          "name": "stdout",
          "output_type": "stream",
          "text": [
            "Classification Report:\n",
            "              precision    recall  f1-score   support\n",
            "\n",
            "       Anger       0.94      1.00      0.97        29\n",
            "     Anxiety       1.00      0.86      0.92        35\n",
            "     Boredom       0.73      0.89      0.80        18\n",
            "   Happiness       1.00      0.95      0.98        43\n",
            "     Neutral       0.89      0.94      0.92        35\n",
            "     Sadness       1.00      0.96      0.98        25\n",
            "\n",
            "    accuracy                           0.94       185\n",
            "   macro avg       0.93      0.93      0.93       185\n",
            "weighted avg       0.94      0.94      0.94       185\n",
            "\n"
          ]
        }
      ],
      "source": [
        "print('Classification Report:')\n",
        "print(classification_report(pred_df4['Actual'], pred_df4['Predicted']))"
      ]
    },
    {
      "cell_type": "code",
      "execution_count": 99,
      "id": "TqTBA1hKteYX",
      "metadata": {
        "colab": {
          "base_uri": "https://localhost:8080/",
          "height": 847
        },
        "id": "TqTBA1hKteYX",
        "outputId": "c8f1bc1d-7a60-4051-f518-6ba8e25a1bc7"
      },
      "outputs": [
        {
          "data": {
            "text/plain": [
              "<Axes: >"
            ]
          },
          "execution_count": 99,
          "metadata": {},
          "output_type": "execute_result"
        },
        {
          "data": {
            "image/png": "[encoded data removed]",
            "text/plain": [
              "<Figure size 1000x1000 with 2 Axes>"
            ]
          },
          "metadata": {},
          "output_type": "display_data"
        }
      ],
      "source": [
        "plt.figure(figsize=(10,10))\n",
        "sns.heatmap(confusion_matrix(pred_df4['Actual'], pred_df4['Predicted']), annot=True)"
      ]
    },
    {
      "cell_type": "markdown",
      "id": "99c1fdc4",
      "metadata": {
        "id": "99c1fdc4"
      },
      "source": [
        "# GOOD JOB!"
      ]
    },
    {
      "cell_type": "markdown",
      "id": "8a63a552",
      "metadata": {
        "id": "8a63a552"
      },
      "source": [
        "#Artificial Neural Network Assignment\n",
        "###In this assignment you will be implementing various functions from scratch so as to learn how it functions before going on to use various libraries. Doing it honestly will help you a lot in you understanding of the topic. If you encounter difficulties or stuck somewhere go online and search, the possibility that you are encountering the problem first time in 8 billion people is very slim so mostly you will be able to find the solution. Happy learning! 😀"
      ]
    },
    {
      "cell_type": "code",
      "execution_count": 100,
      "id": "f677499d",
      "metadata": {
        "id": "f677499d"
      },
      "outputs": [],
      "source": [
        "import pandas as pd\n",
        "import numpy as np\n",
        "from matplotlib import pyplot as plt\n",
        "import seaborn as sns"
      ]
    },
    {
      "cell_type": "code",
      "execution_count": 101,
      "id": "5a8a944e",
      "metadata": {
        "id": "5a8a944e"
      },
      "outputs": [],
      "source": [
        "test = pd.read_csv(\"C:/Users/chhon/Downloads/mnist_test.csv\")\n",
        "train = pd.read_csv(\"C:/Users/chhon/Downloads/mnist_train.csv\")"
      ]
    },
    {
      "cell_type": "code",
      "execution_count": 102,
      "id": "5e873d9d",
      "metadata": {
        "colab": {
          "base_uri": "https://localhost:8080/"
        },
        "id": "5e873d9d",
        "outputId": "132edb8b-0461-42f6-a3b7-28d20297098f"
      },
      "outputs": [
        {
          "name": "stdout",
          "output_type": "stream",
          "text": [
            "       0      1      2      3      4      5      6      7      8      9      \\\n",
            "1x1      0.0    0.0    0.0    0.0    0.0    0.0    0.0    0.0    0.0    0.0   \n",
            "1x2      0.0    0.0    0.0    0.0    0.0    0.0    0.0    0.0    0.0    0.0   \n",
            "1x3      0.0    0.0    0.0    0.0    0.0    0.0    0.0    0.0    0.0    0.0   \n",
            "1x4      0.0    0.0    0.0    0.0    0.0    0.0    0.0    0.0    0.0    0.0   \n",
            "1x5      0.0    0.0    0.0    0.0    0.0    0.0    0.0    0.0    0.0    0.0   \n",
            "...      ...    ...    ...    ...    ...    ...    ...    ...    ...    ...   \n",
            "28x24    0.0    0.0    0.0    0.0    0.0    0.0    0.0    0.0    0.0    0.0   \n",
            "28x25    0.0    0.0    0.0    0.0    0.0    0.0    0.0    0.0    0.0    0.0   \n",
            "28x26    0.0    0.0    0.0    0.0    0.0    0.0    0.0    0.0    0.0    0.0   \n",
            "28x27    0.0    0.0    0.0    0.0    0.0    0.0    0.0    0.0    0.0    0.0   \n",
            "28x28    0.0    0.0    0.0    0.0    0.0    0.0    0.0    0.0    0.0    0.0   \n",
            "\n",
            "       ...  59990  59991  59992  59993  59994  59995  59996  59997  59998  \\\n",
            "1x1    ...    0.0    0.0    0.0    0.0    0.0    0.0    0.0    0.0    0.0   \n",
            "1x2    ...    0.0    0.0    0.0    0.0    0.0    0.0    0.0    0.0    0.0   \n",
            "1x3    ...    0.0    0.0    0.0    0.0    0.0    0.0    0.0    0.0    0.0   \n",
            "1x4    ...    0.0    0.0    0.0    0.0    0.0    0.0    0.0    0.0    0.0   \n",
            "1x5    ...    0.0    0.0    0.0    0.0    0.0    0.0    0.0    0.0    0.0   \n",
            "...    ...    ...    ...    ...    ...    ...    ...    ...    ...    ...   \n",
            "28x24  ...    0.0    0.0    0.0    0.0    0.0    0.0    0.0    0.0    0.0   \n",
            "28x25  ...    0.0    0.0    0.0    0.0    0.0    0.0    0.0    0.0    0.0   \n",
            "28x26  ...    0.0    0.0    0.0    0.0    0.0    0.0    0.0    0.0    0.0   \n",
            "28x27  ...    0.0    0.0    0.0    0.0    0.0    0.0    0.0    0.0    0.0   \n",
            "28x28  ...    0.0    0.0    0.0    0.0    0.0    0.0    0.0    0.0    0.0   \n",
            "\n",
            "       59999  \n",
            "1x1      0.0  \n",
            "1x2      0.0  \n",
            "1x3      0.0  \n",
            "1x4      0.0  \n",
            "1x5      0.0  \n",
            "...      ...  \n",
            "28x24    0.0  \n",
            "28x25    0.0  \n",
            "28x26    0.0  \n",
            "28x27    0.0  \n",
            "28x28    0.0  \n",
            "\n",
            "[784 rows x 60000 columns]\n",
            "0        5\n",
            "1        0\n",
            "2        4\n",
            "3        1\n",
            "4        9\n",
            "        ..\n",
            "59995    8\n",
            "59996    3\n",
            "59997    5\n",
            "59998    6\n",
            "59999    8\n",
            "Name: label, Length: 60000, dtype: int64\n"
          ]
        }
      ],
      "source": [
        "x_train = train.drop('label', axis=1)\n",
        "x_train = x_train.T\n",
        "x_train = x_train/255\n",
        "y_train = train.label\n",
        "\n",
        "x_test = test.drop('label',axis=1)\n",
        "x_test = x_test.T\n",
        "y_test = test.label\n",
        "print(x_train)\n",
        "print(y_train)"
      ]
    },
    {
      "cell_type": "code",
      "execution_count": 103,
      "id": "42b29c92",
      "metadata": {
        "colab": {
          "base_uri": "https://localhost:8080/",
          "height": 455
        },
        "id": "42b29c92",
        "outputId": "33311ef1-c2a2-4f63-e152-31dca443c14c"
      },
      "outputs": [
        {
          "data": {
            "image/png": "[encoded data removed]",
            "text/plain": [
              "<Figure size 1000x1500 with 10 Axes>"
            ]
          },
          "metadata": {},
          "output_type": "display_data"
        }
      ],
      "source": [
        "X_train_reshaped = x_train.T.values.reshape(-1, 28, 28)\n",
        "plt.figure(figsize=(10, 15))\n",
        "for i in range(10):\n",
        "    plt.subplot(5, 5, i+1)\n",
        "    plt.grid(False)\n",
        "    plt.imshow(X_train_reshaped[i])\n",
        "    plt.xlabel(y_train.iloc[i])"
      ]
    },
    {
      "cell_type": "markdown",
      "id": "cedea7ba",
      "metadata": {
        "id": "cedea7ba"
      },
      "source": [
        "The remainder on dividing your roll number by 4 will dictate which function you have to complete but ofcourse if you wish to do more and there's no stopping you.\\\n",
        "Roll_number % 6  \n",
        "                  0:RELU\\\n",
        "                  1:softmax\\\n",
        "                  2:forward_propogation\\\n",
        "                  3:one_hot_encode\\\n",
        "                  4:total_loss\\\n",
        "                  5:backward_propagation"
      ]
    },
    {
      "cell_type": "code",
      "execution_count": 104,
      "id": "HOEUOVfELB-H",
      "metadata": {
        "id": "HOEUOVfELB-H"
      },
      "outputs": [],
      "source": [
        "class ANN:\n",
        "  def __init__(self, input_size, output_size, learning_rate, num_layers, num_of_nodes_layers):\n",
        "    self.input_size = input_size\n",
        "    self.output_size = output_size\n",
        "    self.learning_rate = learning_rate\n",
        "    self.num_layers = num_layers\n",
        "    self.num_of_nodes_layers = num_of_nodes_layers\n",
        "    self.weights_biases = {}\n",
        "    self.activations = {}\n",
        "\n",
        "  def initial_params(self):\n",
        "    np.random.seed(20)\n",
        "    self.weights_biases['W1'] = np.random.rand(self.num_of_nodes_layers, self.input_size) - 0.5\n",
        "    self.weights_biases['b1'] = np.random.rand(self.num_of_nodes_layers, 1) - 0.5\n",
        "\n",
        "    for i in range(2, self.num_layers + 1):\n",
        "      self.weights_biases[f'W{i}'] = np.random.rand(self.num_of_nodes_layers, self.num_of_nodes_layers) - 0.5\n",
        "      self.weights_biases[f'b{i}'] = np.random.rand(self.num_of_nodes_layers, 1) - 0.5\n",
        "\n",
        "    self.weights_biases[f'W{self.num_layers + 1}'] = np.random.rand(self.output_size, self.num_of_nodes_layers) - 0.5\n",
        "    self.weights_biases[f'b{self.num_layers + 1}'] = np.random.rand(self.output_size, 1) - 0.5\n",
        "\n",
        "  def RELU(self, Z):\n",
        "    # Implement the RELU activation function\n",
        "    return np.maximum(0,Z)\n",
        "\n",
        "  def RELU_derivative(self, Z):\n",
        "    return Z > 0\n",
        "\n",
        "  def softmax(self, Z):\n",
        "    # Implement the softmax activation function\n",
        "    exp = np.exp(Z)\n",
        "    exp = np.array(exp)\n",
        "    return exp / np.sum(exp, axis=0, keepdims = True)\n",
        "\n",
        "  def forward_propagation(self, X):\n",
        "    # Implement the forward_propagation function\n",
        "    self.activations['A0'] = X\n",
        "    A = X\n",
        "    for i in range(1, self.num_layers + 1):\n",
        "            Z = self.weights_biases[f'W{i}'] @ A + self.weights_biases[f'b{i}']\n",
        "            A = self.RELU(Z)\n",
        "            self.activations[f'Z{i}'] = Z\n",
        "            self.activations[f'A{i}'] = A\n",
        "\n",
        "    Z_final = self.weights_biases[f'W{self.num_layers + 1}'] @ A + self.weights_biases[f'b{self.num_layers + 1}']\n",
        "    A_final = self.softmax(Z_final)\n",
        "    self.activations[f'Z{self.num_layers + 1}'] = Z_final\n",
        "    self.activations[f'A{self.num_layers + 1}'] = A_final\n",
        "    return A_final, self.activations\n",
        "\n",
        "  def one_hot_encode(self, y):\n",
        "    # Implement one hot encoding\n",
        "    one_hot = np.zeros((y.size, self.output_size))\n",
        "    one_hot[np.arange(y.size), y] = 1\n",
        "    one_hot = one_hot.T\n",
        "    return one_hot\n",
        "\n",
        "  def total_loss(self, y_pred, Y):\n",
        "    # Implement the total loss function\n",
        "    y_pred = np.clip(y_pred,1e-8,1.0)\n",
        "    k = Y.shape[1]\n",
        "    loss = -np.sum(np.multiply(Y, np.log(y_pred))) / k\n",
        "    return loss\n",
        "\n",
        "  def backward_prop(self, y_pred, Y):\n",
        "    #Implement the backward_prop function\n",
        "    gradients = {}\n",
        "    m = Y.shape[1]\n",
        "    dZ = y_pred - Y\n",
        "    for i in reversed(range(1, self.num_layers + 2)):\n",
        "        A_prev = self.activations[f'A{i-1}']\n",
        "        gradients[f'dW{i}'] = dZ @ A_prev.T / m\n",
        "        gradients[f'db{i}'] = np.sum(dZ, axis=1, keepdims=True) / m\n",
        "        if i > 1:\n",
        "            dA_prev = self.weights_biases[f'W{i}'].T @ dZ\n",
        "            dZ = dA_prev * self.RELU_derivative(self.activations[f'Z{i-1}'])\n",
        "    return gradients\n",
        "\n",
        "  def update_params(self,gradients):\n",
        "\n",
        "    for i in range(1, self.num_layers + 2):\n",
        "     self.weights_biases[f\"W{i}\"] -= self.learning_rate * gradients[f\"dW{i}\"]\n",
        "     self.weights_biases[f\"b{i}\"] -= self.learning_rate * gradients[f\"db{i}\"]\n",
        "\n",
        "  def train(self, X, y, num_iterations):\n",
        "    #implement train\n",
        "    X = np.array(X)\n",
        "    y = np.array(y)\n",
        "    self.initial_params()\n",
        "    Y = self.one_hot_encode(y)\n",
        "    for i in range(num_iterations):\n",
        "        y_pred, activations = self.forward_propagation(X)\n",
        "        loss = self.total_loss(y_pred, Y)\n",
        "        gradients = self.backward_prop(y_pred, Y)\n",
        "        self.update_params(gradients)\n",
        "        if i % 100 == 0 or i == num_iterations-1:\n",
        "            print(f\"Epoch: {i}, Loss: {loss:.3f}\")\n",
        "\n",
        "  def predict(self, X):\n",
        "        b = {}\n",
        "\n",
        "        A,b = self.forward_propagation(X)\n",
        "        predictions = np.argmax(A, axis=0)\n",
        "\n",
        "\n",
        "        return predictions\n"
      ]
    },
    {
      "cell_type": "code",
      "execution_count": 105,
      "id": "mnyWjOZuJzM0",
      "metadata": {
        "colab": {
          "base_uri": "https://localhost:8080/"
        },
        "id": "mnyWjOZuJzM0",
        "outputId": "843e29bd-1bd5-4034-ef34-d03c36c82069"
      },
      "outputs": [
        {
          "name": "stdout",
          "output_type": "stream",
          "text": [
            "Epoch: 0, Loss: 12.835\n",
            "Epoch: 100, Loss: 0.676\n",
            "Epoch: 200, Loss: 0.486\n",
            "Epoch: 300, Loss: 0.424\n",
            "Epoch: 400, Loss: 0.321\n",
            "Epoch: 500, Loss: 0.286\n",
            "Epoch: 600, Loss: 0.263\n",
            "Epoch: 700, Loss: 0.244\n",
            "Epoch: 800, Loss: 0.228\n",
            "Epoch: 900, Loss: 0.216\n",
            "Epoch: 1000, Loss: 0.206\n",
            "Epoch: 1100, Loss: 0.192\n",
            "Epoch: 1200, Loss: 0.184\n",
            "Epoch: 1300, Loss: 0.177\n",
            "Epoch: 1400, Loss: 0.170\n",
            "Epoch: 1500, Loss: 0.167\n",
            "Epoch: 1600, Loss: 0.160\n",
            "Epoch: 1700, Loss: 0.152\n",
            "Epoch: 1800, Loss: 0.147\n",
            "Epoch: 1900, Loss: 0.145\n",
            "Epoch: 2000, Loss: 0.140\n",
            "Epoch: 2100, Loss: 0.137\n",
            "Epoch: 2200, Loss: 0.135\n",
            "Epoch: 2300, Loss: 0.129\n",
            "Epoch: 2400, Loss: 0.125\n",
            "Epoch: 2500, Loss: 0.122\n",
            "Epoch: 2600, Loss: 0.124\n",
            "Epoch: 2700, Loss: 0.116\n",
            "Epoch: 2800, Loss: 0.115\n",
            "Epoch: 2900, Loss: 0.111\n",
            "Epoch: 3000, Loss: 0.109\n",
            "Epoch: 3100, Loss: 0.106\n",
            "Epoch: 3200, Loss: 0.106\n",
            "Epoch: 3300, Loss: 0.106\n",
            "Epoch: 3400, Loss: 0.105\n",
            "Epoch: 3500, Loss: 0.098\n",
            "Epoch: 3600, Loss: 0.096\n",
            "Epoch: 3700, Loss: 0.096\n",
            "Epoch: 3800, Loss: 0.094\n",
            "Epoch: 3900, Loss: 0.092\n",
            "Epoch: 3999, Loss: 0.090\n"
          ]
        }
      ],
      "source": [
        "model = ANN(input_size=784, output_size=10, learning_rate=0.2, num_layers=3, num_of_nodes_layers=64)\n",
        "model.train(x_train, y_train, num_iterations=4000)"
      ]
    },
    {
      "cell_type": "code",
      "execution_count": 106,
      "id": "674e838c",
      "metadata": {
        "colab": {
          "base_uri": "https://localhost:8080/"
        },
        "id": "674e838c",
        "outputId": "31dc9c4a-cd1e-47d0-ffa5-33306714cbf1"
      },
      "outputs": [
        {
          "name": "stdout",
          "output_type": "stream",
          "text": [
            "Accuracy: 42.76 %\n"
          ]
        }
      ],
      "source": [
        "m = model.predict(x_test)\n",
        "b = m.shape\n",
        "c = int(b[0])\n",
        "d = np.array(y_test)\n",
        "d = d.T\n",
        "t=0\n",
        "for i in range(c):\n",
        "    if(m[i]==d[i]):\n",
        "        t=t+1\n",
        "print('Accuracy:',t/c *100, '%')\n",
        "\n"
      ]
    },
    {
      "cell_type": "code",
      "execution_count": 107,
      "id": "03d393c1",
      "metadata": {
        "colab": {
          "base_uri": "https://localhost:8080/",
          "height": 373
        },
        "id": "03d393c1",
        "outputId": "6e86dc8e-0c1c-4977-8bbd-3549210978b4"
      },
      "outputs": [
        {
          "name": "stdout",
          "output_type": "stream",
          "text": [
            "3\n"
          ]
        },
        {
          "data": {
            "image/png": "[encoded data removed]",
            "text/plain": [
              "<Figure size 500x500 with 1 Axes>"
            ]
          },
          "metadata": {},
          "output_type": "display_data"
        }
      ],
      "source": [
        "X_test_reshaped = x_test.T.values.reshape(-1, 28, 28)\n",
        "plt.figure(figsize=(5, 5))\n",
        "i = 500\n",
        "print(d[i])\n",
        "plt.imshow(X_test_reshaped[i])\n",
        "plt.xlabel(m[i]);\n"
      ]
    }
  ],
  "metadata": {
    "accelerator": "TPU",
    "colab": {
      "gpuType": "V28",
      "provenance": []
    },
    "kernelspec": {
      "display_name": "Python 3",
      "name": "python3"
    },
    "language_info": {
      "codemirror_mode": {
        "name": "ipython",
        "version": 3
      },
      "file_extension": ".py",
      "mimetype": "text/x-python",
      "name": "python",
      "nbconvert_exporter": "python",
      "pygments_lexer": "ipython3",
      "version": "3.12.7"
    }
  },
  "nbformat": 4,
  "nbformat_minor": 5
}
