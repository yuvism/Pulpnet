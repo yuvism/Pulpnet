{
  "cells": [
    {
      "cell_type": "code",
      "execution_count": 2,
      "metadata": {
        "colab": {
          "base_uri": "https://localhost:8080/",
          "height": 1000
        },
        "id": "DkFiemNTu5IA",
        "outputId": "0b477220-e320-4a05-c6f8-41fe5d986019"
      },
      "outputs": [
        {
          "output_type": "stream",
          "name": "stderr",
          "text": [
            "<ipython-input-2-2091077245>:5: ParserWarning: Skipping line 12735: unexpected end of data\n",
            "\n",
            "  df=pd.read_csv('movie.csv', engine='python', on_bad_lines='warn')\n"
          ]
        },
        {
          "output_type": "stream",
          "name": "stdout",
          "text": [
            "<class 'pandas.core.frame.DataFrame'>\n",
            "RangeIndex: 12733 entries, 0 to 12732\n",
            "Data columns (total 2 columns):\n",
            " #   Column  Non-Null Count  Dtype \n",
            "---  ------  --------------  ----- \n",
            " 0   text    12733 non-null  object\n",
            " 1   label   12733 non-null  int64 \n",
            "dtypes: int64(1), object(1)\n",
            "memory usage: 199.1+ KB\n",
            "label\n",
            "0    6382\n",
            "1    6324\n",
            "Name: count, dtype: int64\n",
            "[0 1]\n"
          ]
        },
        {
          "output_type": "display_data",
          "data": {
            "text/plain": [
              "<Figure size 1000x600 with 1 Axes>"
            ],
            "image/png": "[encoded data removed]"
          },
          "metadata": {}
        },
        {
          "output_type": "stream",
          "name": "stderr",
          "text": [
            "[nltk_data] Downloading package stopwords to /root/nltk_data...\n",
            "[nltk_data]   Unzipping corpora/stopwords.zip.\n"
          ]
        },
        {
          "output_type": "stream",
          "name": "stdout",
          "text": [
            "Logistic Regression:\n",
            "Accuracy: 0.8745082612116444\n",
            "F1 Score: 0.8750489620054838\n",
            "ROC AUC: 0.8746620481722587\n",
            "Confusion Matrix:\n",
            " [[1106  179]\n",
            " [ 140 1117]]\n",
            "\n",
            "Naive Bayes:\n",
            "Accuracy: 0.8379228953579858\n",
            "F1 Score: 0.8340048348106366\n",
            "ROC AUC: 0.8377645496503626\n",
            "Confusion Matrix:\n",
            " [[1095  190]\n",
            " [ 222 1035]]\n",
            "\n",
            "SVM:\n",
            "Accuracy: 0.8749016522423289\n",
            "F1 Score: 0.8760717069368668\n",
            "ROC AUC: 0.8751118251410777\n",
            "Confusion Matrix:\n",
            " [[1100  185]\n",
            " [ 133 1124]]\n",
            "\n",
            "Random Forest:\n",
            "Accuracy: 0.8316286388670339\n",
            "F1 Score: 0.8279742765273312\n",
            "ROC AUC: 0.8314955316376154\n",
            "Confusion Matrix:\n",
            " [[1084  201]\n",
            " [ 227 1030]]\n"
          ]
        }
      ],
      "source": [
        "import numpy as np\n",
        "import pandas as pd\n",
        "import matplotlib.pyplot as plt\n",
        "import seaborn as sns\n",
        "df=pd.read_csv('movie.csv', engine='python', on_bad_lines='warn')\n",
        "df.head()\n",
        "df.tail()\n",
        "df.info()\n",
        "df.isnull().sum()\n",
        "df.duplicated().sum()\n",
        "df.drop_duplicates(inplace=True)\n",
        "df.duplicated().sum()\n",
        "df.columns\n",
        "df.shape\n",
        "print(df['label'].value_counts())\n",
        "print(df['label'].unique())\n",
        "\n",
        "plt.figure(figsize=(10,6))\n",
        "sns.countplot(x='label',data=df)\n",
        "plt.show()\n",
        "import nltk\n",
        "nltk.download('stopwords')\n",
        "import re, string\n",
        "from nltk.corpus import stopwords\n",
        "from nltk.stem import PorterStemmer\n",
        "def clean_text(text):\n",
        "    text = text.lower()\n",
        "    text = re.sub(r'<.*?>', '', text)\n",
        "    text = re.sub(r'https?://\\S+', '', text)\n",
        "    text = re.sub(f\"[{re.escape(string.punctuation)}]\", \"\", text)\n",
        "    return text\n",
        "\n",
        "stop_words = set(stopwords.words(\"english\"))\n",
        "stemmer = PorterStemmer()\n",
        "def preprocess(text):\n",
        "    tokens = clean_text(text).split()\n",
        "    tokens = [stemmer.stem(word) for word in tokens if word not in stop_words]\n",
        "    return ' '.join(tokens)\n",
        "\n",
        "df['processed_text'] = df['text'].apply(preprocess)\n",
        "df.head()\n",
        "from sklearn.model_selection import train_test_split\n",
        "X_train, X_test, y_train, y_test = train_test_split(df['processed_text'], df['label'], test_size=0.2)\n",
        "from sklearn.feature_extraction.text import TfidfVectorizer\n",
        "vectorizer = TfidfVectorizer(max_features=5000)\n",
        "X_train_vec = vectorizer.fit_transform(X_train)\n",
        "X_test_vec = vectorizer.transform(X_test)\n",
        "from sklearn.linear_model import LogisticRegression\n",
        "from sklearn.naive_bayes import BernoulliNB\n",
        "from sklearn.svm import SVC\n",
        "from sklearn.ensemble import RandomForestClassifier\n",
        "from sklearn.metrics import accuracy_score, confusion_matrix, roc_auc_score, f1_score\n",
        "def evaluate_model(model, X_train, X_test, y_train, y_test):\n",
        "    model.fit(X_train, y_train)\n",
        "    preds = model.predict(X_test)\n",
        "    print(\"Accuracy:\", accuracy_score(y_test, preds))\n",
        "    print(\"F1 Score:\", f1_score(y_test, preds))\n",
        "    print(\"ROC AUC:\", roc_auc_score(y_test, preds))\n",
        "    print(\"Confusion Matrix:\\n\", confusion_matrix(y_test, preds))\n",
        "print(\"Logistic Regression:\")\n",
        "evaluate_model(LogisticRegression(), X_train_vec, X_test_vec, y_train, y_test)\n",
        "\n",
        "print(\"\\nNaive Bayes:\")\n",
        "evaluate_model(BernoulliNB(), X_train_vec, X_test_vec, y_train, y_test)\n",
        "\n",
        "print(\"\\nSVM:\")\n",
        "evaluate_model(SVC(), X_train_vec, X_test_vec, y_train, y_test)\n",
        "\n",
        "print(\"\\nRandom Forest:\")\n",
        "evaluate_model(RandomForestClassifier(), X_train_vec, X_test_vec, y_train, y_test)"
      ]
    }
  ],
  "metadata": {
    "colab": {
      "provenance": []
    },
    "kernelspec": {
      "display_name": "Python 3",
      "name": "python3"
    },
    "language_info": {
      "name": "python"
    }
  },
  "nbformat": 4,
  "nbformat_minor": 0
}